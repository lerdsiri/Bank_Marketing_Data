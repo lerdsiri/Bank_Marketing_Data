{
 "cells": [
  {
   "cell_type": "code",
   "metadata": {
    "tags": [],
    "cell_id": "00000-8bc6a152-a2f2-4ad1-8b66-5efa5a3e3b44",
    "deepnote_to_be_reexecuted": false,
    "source_hash": "320eb1c6",
    "execution_start": 1636106404796,
    "execution_millis": 2074,
    "deepnote_cell_type": "code"
   },
   "source": "import pandas as pd\nimport numpy as np\nimport association_metrics as am\nimport matplotlib.pyplot as plt\nimport seaborn as sns",
   "execution_count": 1,
   "outputs": []
  },
  {
   "cell_type": "markdown",
   "source": "# Bank Market Data\n\nThe data is related with direct marketing campaigns of a Portuguese banking institution. The marketing campaigns were based on phone calls. Often, more than one contact to the same client was required, in order to access if the product (bank term deposit) would be ('yes') or not ('no') subscribed. Assuming that we are in the middle of the current campaign, the purpose of the analysis is to determine which customers are likely to subscribe to the product so that marketing effort can be prioritised accordingly.\n\nbank-full.csv with 17 inputs, ordered by date.\n\n## Input variables:\n\n### Bank client data:\n- age (numeric)\n- job : type of job (categorical: 'admin.','blue-collar','entrepreneur','housemaid','management','retired','self-employed','services','student','technician','unemployed','unknown')\n- marital : marital status (categorical: 'divorced','married','single','unknown'; note: 'divorced' means divorced or widowed)\n- education (categorical: 'tertiary','secondary','primary')\n- default: has credit in default? (categorical: 'no','yes')\n- housing: has housing loan? (categorical: 'no','yes')\n- loan: has personal loan? (categorical: 'no','yes',)\n\n### Related with the last contact of the current campaign:\n- contact: contact communication type (categorical: 'cellular','telephone')\n- month: last contact month of year (categorical: 'jan', 'feb', 'mar', ..., 'nov', 'dec')\n- day_of_week: last contact day of the week (categorical: 'mon','tue','wed','thu','fri')\n- duration: last contact duration, in seconds (numeric). Important note: this attribute highly affects the output target (e.g., if duration=0 then y='no'). Yet, the duration is not known before a call is performed. Also, after the end of the call y is obviously known. Thus, this input should only be included for benchmark purposes and should be discarded if the intention is to have a realistic predictive model.\n\n### Other attributes:\n- campaign: number of contacts performed during this campaign and for this client (numeric, includes last contact)\n- pdays: number of days that passed by after the client was last contacted from a previous campaign (numeric; -1 means client was not previously contacted)\n- previous: number of contacts performed before this campaign and for this client (numeric)\n- poutcome: outcome of the previous marketing campaign (categorical: 'failure','nonexistent','success')",
   "metadata": {
    "tags": [],
    "cell_id": "00001-5696ab82-a0ee-461a-9ae4-fe1136f0ca50",
    "deepnote_cell_type": "markdown"
   }
  },
  {
   "cell_type": "markdown",
   "source": "## Method of Analysis:\n1. Tidy data and perform general examination\n2. Understanding the data\n2. Perform correlation test based on the data pertaining to the previous campaign\n3. Analyse data based on all the customers who have said yes in the previous campaign\n4. Analyse data based on all the customers who have said yes in the current campaign",
   "metadata": {
    "tags": [],
    "cell_id": "00003-b3c48a52-7304-43fe-ac6d-b5e4658efffd",
    "deepnote_cell_type": "markdown"
   }
  },
  {
   "cell_type": "markdown",
   "source": "### 1. Tidy data and perform general examination ",
   "metadata": {
    "tags": [],
    "cell_id": "00003-d7873a93-8b05-47e5-a010-24fd1aed1b4b",
    "deepnote_cell_type": "markdown"
   }
  },
  {
   "cell_type": "code",
   "metadata": {
    "tags": [],
    "cell_id": "00002-4618b829-b7be-441d-b62a-04acfa7a4d39",
    "deepnote_to_be_reexecuted": false,
    "source_hash": "ea2c1b21",
    "execution_start": 1636106406871,
    "execution_millis": 241,
    "deepnote_cell_type": "code"
   },
   "source": "data = pd.read_csv(\"bank-full.csv\", sep=\";\")\ndata.head()",
   "execution_count": 2,
   "outputs": [
    {
     "output_type": "execute_result",
     "execution_count": 2,
     "data": {
      "application/vnd.deepnote.dataframe.v2+json": {
       "row_count": 5,
       "column_count": 17,
       "columns": [
        {
         "name": "age",
         "dtype": "int64",
         "stats": {
          "unique_count": 4,
          "nan_count": 0,
          "min": "33",
          "max": "58",
          "histogram": [
           {
            "bin_start": 33,
            "bin_end": 35.5,
            "count": 2
           },
           {
            "bin_start": 35.5,
            "bin_end": 38,
            "count": 0
           },
           {
            "bin_start": 38,
            "bin_end": 40.5,
            "count": 0
           },
           {
            "bin_start": 40.5,
            "bin_end": 43,
            "count": 0
           },
           {
            "bin_start": 43,
            "bin_end": 45.5,
            "count": 1
           },
           {
            "bin_start": 45.5,
            "bin_end": 48,
            "count": 1
           },
           {
            "bin_start": 48,
            "bin_end": 50.5,
            "count": 0
           },
           {
            "bin_start": 50.5,
            "bin_end": 53,
            "count": 0
           },
           {
            "bin_start": 53,
            "bin_end": 55.5,
            "count": 0
           },
           {
            "bin_start": 55.5,
            "bin_end": 58,
            "count": 1
           }
          ]
         }
        },
        {
         "name": "job",
         "dtype": "object",
         "stats": {
          "unique_count": 5,
          "nan_count": 0,
          "categories": [
           {
            "name": "management",
            "count": 1
           },
           {
            "name": "technician",
            "count": 1
           },
           {
            "name": "3 others",
            "count": 3
           }
          ]
         }
        },
        {
         "name": "marital",
         "dtype": "object",
         "stats": {
          "unique_count": 2,
          "nan_count": 0,
          "categories": [
           {
            "name": "married",
            "count": 3
           },
           {
            "name": "single",
            "count": 2
           }
          ]
         }
        },
        {
         "name": "education",
         "dtype": "object",
         "stats": {
          "unique_count": 3,
          "nan_count": 0,
          "categories": [
           {
            "name": "secondary",
            "count": 2
           },
           {
            "name": "unknown",
            "count": 2
           },
           {
            "name": "tertiary",
            "count": 1
           }
          ]
         }
        },
        {
         "name": "default",
         "dtype": "object",
         "stats": {
          "unique_count": 1,
          "nan_count": 0,
          "categories": [
           {
            "name": "no",
            "count": 5
           }
          ]
         }
        },
        {
         "name": "balance",
         "dtype": "int64",
         "stats": {
          "unique_count": 5,
          "nan_count": 0,
          "min": "1",
          "max": "2143",
          "histogram": [
           {
            "bin_start": 1,
            "bin_end": 215.2,
            "count": 3
           },
           {
            "bin_start": 215.2,
            "bin_end": 429.4,
            "count": 0
           },
           {
            "bin_start": 429.4,
            "bin_end": 643.5999999999999,
            "count": 0
           },
           {
            "bin_start": 643.5999999999999,
            "bin_end": 857.8,
            "count": 0
           },
           {
            "bin_start": 857.8,
            "bin_end": 1072,
            "count": 0
           },
           {
            "bin_start": 1072,
            "bin_end": 1286.1999999999998,
            "count": 0
           },
           {
            "bin_start": 1286.1999999999998,
            "bin_end": 1500.3999999999999,
            "count": 0
           },
           {
            "bin_start": 1500.3999999999999,
            "bin_end": 1714.6,
            "count": 1
           },
           {
            "bin_start": 1714.6,
            "bin_end": 1928.8,
            "count": 0
           },
           {
            "bin_start": 1928.8,
            "bin_end": 2143,
            "count": 1
           }
          ]
         }
        },
        {
         "name": "housing",
         "dtype": "object",
         "stats": {
          "unique_count": 2,
          "nan_count": 0,
          "categories": [
           {
            "name": "yes",
            "count": 4
           },
           {
            "name": "no",
            "count": 1
           }
          ]
         }
        },
        {
         "name": "loan",
         "dtype": "object",
         "stats": {
          "unique_count": 2,
          "nan_count": 0,
          "categories": [
           {
            "name": "no",
            "count": 4
           },
           {
            "name": "yes",
            "count": 1
           }
          ]
         }
        },
        {
         "name": "contact",
         "dtype": "object",
         "stats": {
          "unique_count": 1,
          "nan_count": 0,
          "categories": [
           {
            "name": "unknown",
            "count": 5
           }
          ]
         }
        },
        {
         "name": "day",
         "dtype": "int64",
         "stats": {
          "unique_count": 1,
          "nan_count": 0,
          "min": "5",
          "max": "5",
          "histogram": [
           {
            "bin_start": 4.5,
            "bin_end": 4.6,
            "count": 0
           },
           {
            "bin_start": 4.6,
            "bin_end": 4.7,
            "count": 0
           },
           {
            "bin_start": 4.7,
            "bin_end": 4.8,
            "count": 0
           },
           {
            "bin_start": 4.8,
            "bin_end": 4.9,
            "count": 0
           },
           {
            "bin_start": 4.9,
            "bin_end": 5,
            "count": 0
           },
           {
            "bin_start": 5,
            "bin_end": 5.1,
            "count": 5
           },
           {
            "bin_start": 5.1,
            "bin_end": 5.2,
            "count": 0
           },
           {
            "bin_start": 5.2,
            "bin_end": 5.3,
            "count": 0
           },
           {
            "bin_start": 5.3,
            "bin_end": 5.4,
            "count": 0
           },
           {
            "bin_start": 5.4,
            "bin_end": 5.5,
            "count": 0
           }
          ]
         }
        },
        {
         "name": "month",
         "dtype": "object",
         "stats": {
          "unique_count": 1,
          "nan_count": 0,
          "categories": [
           {
            "name": "may",
            "count": 5
           }
          ]
         }
        },
        {
         "name": "duration",
         "dtype": "int64",
         "stats": {
          "unique_count": 5,
          "nan_count": 0,
          "min": "76",
          "max": "261",
          "histogram": [
           {
            "bin_start": 76,
            "bin_end": 94.5,
            "count": 2
           },
           {
            "bin_start": 94.5,
            "bin_end": 113,
            "count": 0
           },
           {
            "bin_start": 113,
            "bin_end": 131.5,
            "count": 0
           },
           {
            "bin_start": 131.5,
            "bin_end": 150,
            "count": 0
           },
           {
            "bin_start": 150,
            "bin_end": 168.5,
            "count": 1
           },
           {
            "bin_start": 168.5,
            "bin_end": 187,
            "count": 0
           },
           {
            "bin_start": 187,
            "bin_end": 205.5,
            "count": 1
           },
           {
            "bin_start": 205.5,
            "bin_end": 224,
            "count": 0
           },
           {
            "bin_start": 224,
            "bin_end": 242.5,
            "count": 0
           },
           {
            "bin_start": 242.5,
            "bin_end": 261,
            "count": 1
           }
          ]
         }
        },
        {
         "name": "campaign",
         "dtype": "int64",
         "stats": {
          "unique_count": 1,
          "nan_count": 0,
          "min": "1",
          "max": "1",
          "histogram": [
           {
            "bin_start": 0.5,
            "bin_end": 0.6,
            "count": 0
           },
           {
            "bin_start": 0.6,
            "bin_end": 0.7,
            "count": 0
           },
           {
            "bin_start": 0.7,
            "bin_end": 0.8,
            "count": 0
           },
           {
            "bin_start": 0.8,
            "bin_end": 0.9,
            "count": 0
           },
           {
            "bin_start": 0.9,
            "bin_end": 1,
            "count": 0
           },
           {
            "bin_start": 1,
            "bin_end": 1.1,
            "count": 5
           },
           {
            "bin_start": 1.1,
            "bin_end": 1.2000000000000002,
            "count": 0
           },
           {
            "bin_start": 1.2000000000000002,
            "bin_end": 1.3,
            "count": 0
           },
           {
            "bin_start": 1.3,
            "bin_end": 1.4,
            "count": 0
           },
           {
            "bin_start": 1.4,
            "bin_end": 1.5,
            "count": 0
           }
          ]
         }
        },
        {
         "name": "pdays",
         "dtype": "int64",
         "stats": {
          "unique_count": 1,
          "nan_count": 0,
          "min": "-1",
          "max": "-1",
          "histogram": [
           {
            "bin_start": -1.5,
            "bin_end": -1.4,
            "count": 0
           },
           {
            "bin_start": -1.4,
            "bin_end": -1.3,
            "count": 0
           },
           {
            "bin_start": -1.3,
            "bin_end": -1.2,
            "count": 0
           },
           {
            "bin_start": -1.2,
            "bin_end": -1.1,
            "count": 0
           },
           {
            "bin_start": -1.1,
            "bin_end": -1,
            "count": 0
           },
           {
            "bin_start": -1,
            "bin_end": -0.8999999999999999,
            "count": 5
           },
           {
            "bin_start": -0.8999999999999999,
            "bin_end": -0.7999999999999999,
            "count": 0
           },
           {
            "bin_start": -0.7999999999999999,
            "bin_end": -0.7,
            "count": 0
           },
           {
            "bin_start": -0.7,
            "bin_end": -0.6,
            "count": 0
           },
           {
            "bin_start": -0.6,
            "bin_end": -0.5,
            "count": 0
           }
          ]
         }
        },
        {
         "name": "previous",
         "dtype": "int64",
         "stats": {
          "unique_count": 1,
          "nan_count": 0,
          "min": "0",
          "max": "0",
          "histogram": [
           {
            "bin_start": -0.5,
            "bin_end": -0.4,
            "count": 0
           },
           {
            "bin_start": -0.4,
            "bin_end": -0.3,
            "count": 0
           },
           {
            "bin_start": -0.3,
            "bin_end": -0.19999999999999996,
            "count": 0
           },
           {
            "bin_start": -0.19999999999999996,
            "bin_end": -0.09999999999999998,
            "count": 0
           },
           {
            "bin_start": -0.09999999999999998,
            "bin_end": 0,
            "count": 0
           },
           {
            "bin_start": 0,
            "bin_end": 0.10000000000000009,
            "count": 5
           },
           {
            "bin_start": 0.10000000000000009,
            "bin_end": 0.20000000000000007,
            "count": 0
           },
           {
            "bin_start": 0.20000000000000007,
            "bin_end": 0.30000000000000004,
            "count": 0
           },
           {
            "bin_start": 0.30000000000000004,
            "bin_end": 0.4,
            "count": 0
           },
           {
            "bin_start": 0.4,
            "bin_end": 0.5,
            "count": 0
           }
          ]
         }
        },
        {
         "name": "poutcome",
         "dtype": "object",
         "stats": {
          "unique_count": 1,
          "nan_count": 0,
          "categories": [
           {
            "name": "unknown",
            "count": 5
           }
          ]
         }
        },
        {
         "name": "y",
         "dtype": "object",
         "stats": {
          "unique_count": 1,
          "nan_count": 0,
          "categories": [
           {
            "name": "no",
            "count": 5
           }
          ]
         }
        },
        {
         "name": "_deepnote_index_column",
         "dtype": "int64"
        }
       ],
       "rows_top": [
        {
         "age": 58,
         "job": "management",
         "marital": "married",
         "education": "tertiary",
         "default": "no",
         "balance": 2143,
         "housing": "yes",
         "loan": "no",
         "contact": "unknown",
         "day": 5,
         "month": "may",
         "duration": 261,
         "campaign": 1,
         "pdays": -1,
         "previous": 0,
         "poutcome": "unknown",
         "y": "no",
         "_deepnote_index_column": 0
        },
        {
         "age": 44,
         "job": "technician",
         "marital": "single",
         "education": "secondary",
         "default": "no",
         "balance": 29,
         "housing": "yes",
         "loan": "no",
         "contact": "unknown",
         "day": 5,
         "month": "may",
         "duration": 151,
         "campaign": 1,
         "pdays": -1,
         "previous": 0,
         "poutcome": "unknown",
         "y": "no",
         "_deepnote_index_column": 1
        },
        {
         "age": 33,
         "job": "entrepreneur",
         "marital": "married",
         "education": "secondary",
         "default": "no",
         "balance": 2,
         "housing": "yes",
         "loan": "yes",
         "contact": "unknown",
         "day": 5,
         "month": "may",
         "duration": 76,
         "campaign": 1,
         "pdays": -1,
         "previous": 0,
         "poutcome": "unknown",
         "y": "no",
         "_deepnote_index_column": 2
        },
        {
         "age": 47,
         "job": "blue-collar",
         "marital": "married",
         "education": "unknown",
         "default": "no",
         "balance": 1506,
         "housing": "yes",
         "loan": "no",
         "contact": "unknown",
         "day": 5,
         "month": "may",
         "duration": 92,
         "campaign": 1,
         "pdays": -1,
         "previous": 0,
         "poutcome": "unknown",
         "y": "no",
         "_deepnote_index_column": 3
        },
        {
         "age": 33,
         "job": "unknown",
         "marital": "single",
         "education": "unknown",
         "default": "no",
         "balance": 1,
         "housing": "no",
         "loan": "no",
         "contact": "unknown",
         "day": 5,
         "month": "may",
         "duration": 198,
         "campaign": 1,
         "pdays": -1,
         "previous": 0,
         "poutcome": "unknown",
         "y": "no",
         "_deepnote_index_column": 4
        }
       ],
       "rows_bottom": null
      },
      "text/plain": "   age           job  marital  education default  balance housing loan  \\\n0   58    management  married   tertiary      no     2143     yes   no   \n1   44    technician   single  secondary      no       29     yes   no   \n2   33  entrepreneur  married  secondary      no        2     yes  yes   \n3   47   blue-collar  married    unknown      no     1506     yes   no   \n4   33       unknown   single    unknown      no        1      no   no   \n\n   contact  day month  duration  campaign  pdays  previous poutcome   y  \n0  unknown    5   may       261         1     -1         0  unknown  no  \n1  unknown    5   may       151         1     -1         0  unknown  no  \n2  unknown    5   may        76         1     -1         0  unknown  no  \n3  unknown    5   may        92         1     -1         0  unknown  no  \n4  unknown    5   may       198         1     -1         0  unknown  no  ",
      "text/html": "<div>\n<style scoped>\n    .dataframe tbody tr th:only-of-type {\n        vertical-align: middle;\n    }\n\n    .dataframe tbody tr th {\n        vertical-align: top;\n    }\n\n    .dataframe thead th {\n        text-align: right;\n    }\n</style>\n<table border=\"1\" class=\"dataframe\">\n  <thead>\n    <tr style=\"text-align: right;\">\n      <th></th>\n      <th>age</th>\n      <th>job</th>\n      <th>marital</th>\n      <th>education</th>\n      <th>default</th>\n      <th>balance</th>\n      <th>housing</th>\n      <th>loan</th>\n      <th>contact</th>\n      <th>day</th>\n      <th>month</th>\n      <th>duration</th>\n      <th>campaign</th>\n      <th>pdays</th>\n      <th>previous</th>\n      <th>poutcome</th>\n      <th>y</th>\n    </tr>\n  </thead>\n  <tbody>\n    <tr>\n      <th>0</th>\n      <td>58</td>\n      <td>management</td>\n      <td>married</td>\n      <td>tertiary</td>\n      <td>no</td>\n      <td>2143</td>\n      <td>yes</td>\n      <td>no</td>\n      <td>unknown</td>\n      <td>5</td>\n      <td>may</td>\n      <td>261</td>\n      <td>1</td>\n      <td>-1</td>\n      <td>0</td>\n      <td>unknown</td>\n      <td>no</td>\n    </tr>\n    <tr>\n      <th>1</th>\n      <td>44</td>\n      <td>technician</td>\n      <td>single</td>\n      <td>secondary</td>\n      <td>no</td>\n      <td>29</td>\n      <td>yes</td>\n      <td>no</td>\n      <td>unknown</td>\n      <td>5</td>\n      <td>may</td>\n      <td>151</td>\n      <td>1</td>\n      <td>-1</td>\n      <td>0</td>\n      <td>unknown</td>\n      <td>no</td>\n    </tr>\n    <tr>\n      <th>2</th>\n      <td>33</td>\n      <td>entrepreneur</td>\n      <td>married</td>\n      <td>secondary</td>\n      <td>no</td>\n      <td>2</td>\n      <td>yes</td>\n      <td>yes</td>\n      <td>unknown</td>\n      <td>5</td>\n      <td>may</td>\n      <td>76</td>\n      <td>1</td>\n      <td>-1</td>\n      <td>0</td>\n      <td>unknown</td>\n      <td>no</td>\n    </tr>\n    <tr>\n      <th>3</th>\n      <td>47</td>\n      <td>blue-collar</td>\n      <td>married</td>\n      <td>unknown</td>\n      <td>no</td>\n      <td>1506</td>\n      <td>yes</td>\n      <td>no</td>\n      <td>unknown</td>\n      <td>5</td>\n      <td>may</td>\n      <td>92</td>\n      <td>1</td>\n      <td>-1</td>\n      <td>0</td>\n      <td>unknown</td>\n      <td>no</td>\n    </tr>\n    <tr>\n      <th>4</th>\n      <td>33</td>\n      <td>unknown</td>\n      <td>single</td>\n      <td>unknown</td>\n      <td>no</td>\n      <td>1</td>\n      <td>no</td>\n      <td>no</td>\n      <td>unknown</td>\n      <td>5</td>\n      <td>may</td>\n      <td>198</td>\n      <td>1</td>\n      <td>-1</td>\n      <td>0</td>\n      <td>unknown</td>\n      <td>no</td>\n    </tr>\n  </tbody>\n</table>\n</div>"
     },
     "metadata": {}
    }
   ]
  },
  {
   "cell_type": "markdown",
   "source": "From looking at the dataset we decided to change some of the column names to make it a more human-readable.",
   "metadata": {
    "tags": [],
    "cell_id": "00005-2ac23fc7-5a4f-44bf-b3e8-4cbbb395cc11",
    "deepnote_cell_type": "markdown"
   }
  },
  {
   "cell_type": "code",
   "metadata": {
    "tags": [],
    "cell_id": "00003-1fe1d0f0-19c0-45f2-aae3-6cd308ba1c29",
    "deepnote_to_be_reexecuted": false,
    "source_hash": "441c218e",
    "execution_start": 1636106407155,
    "execution_millis": 0,
    "deepnote_cell_type": "code"
   },
   "source": "data.rename(columns={\"default\":\"credit_default\",\n                     \"housing\":\"housing_loan\", \"loan\":\"personal_loan\",\n                     \"contact\":\"contact_means\", \"campaign\":\"no_of_calls\",\n                     \"pdays\":\"pdaystillnow\", \"previous\":\"pnum_calls\"}, \n            inplace=True)",
   "execution_count": 3,
   "outputs": []
  },
  {
   "cell_type": "markdown",
   "source": "We also decided to change all the columns that are yes or no to 0 and 1 to make it easeier for analysis later on",
   "metadata": {
    "tags": [],
    "cell_id": "00007-eb578c20-2e24-48c5-84dc-7cb704190f18",
    "deepnote_cell_type": "markdown"
   }
  },
  {
   "cell_type": "code",
   "metadata": {
    "tags": [],
    "cell_id": "00005-d5a4f43c-4453-48cc-99a1-0a4715c4c09c",
    "deepnote_to_be_reexecuted": false,
    "source_hash": "35c8ac05",
    "execution_start": 1636106407155,
    "execution_millis": 56,
    "deepnote_cell_type": "code"
   },
   "source": "# changing yes to 1 and no to 0\ndata = data.apply(lambda x: x.map({\"yes\":1, \"no\":0}) if set(x.unique())=={\"yes\",\"no\"} else x)",
   "execution_count": 4,
   "outputs": []
  },
  {
   "cell_type": "markdown",
   "source": "Also in regard to age and balance we have created 2 extra columns which group them into intervals.",
   "metadata": {
    "tags": [],
    "cell_id": "00009-deef5341-c950-4f62-a873-5688d032987f",
    "deepnote_cell_type": "markdown"
   }
  },
  {
   "cell_type": "code",
   "metadata": {
    "tags": [],
    "cell_id": "00006-697af7ff-b71c-437c-95b3-d69a67373c80",
    "deepnote_to_be_reexecuted": false,
    "source_hash": "52acb4c6",
    "execution_start": 1636106407218,
    "execution_millis": 10,
    "deepnote_cell_type": "code"
   },
   "source": "# bin various ages into age groups\n\nbins = [10,20,30,40,50,60,70,80,90,100]\nlabels = [str(i)+\"-\"+str(i+9) for i in range(10,100,10)]\ndata[\"age_group\"] = pd.cut(data[\"age\"], bins=bins, labels=labels, right=False)\n                                   ",
   "execution_count": 5,
   "outputs": []
  },
  {
   "cell_type": "code",
   "metadata": {
    "tags": [],
    "cell_id": "00007-bda8d7a0-b1fc-4ae5-92f4-291d151204ee",
    "deepnote_to_be_reexecuted": false,
    "source_hash": "49bb3c35",
    "execution_start": 1636106407299,
    "execution_millis": 0,
    "deepnote_cell_type": "code"
   },
   "source": "# bin various account balances into balance bins\n\nlabel_bin = [str(i)+'-'+str(i+9999) for i in range(-10000,100000,10000)]\ndata['balance_bin'] = pd.cut(x=data.balance, bins=list(np.arange(-10000,110000,10000)),labels=label_bin, right=False) ",
   "execution_count": 6,
   "outputs": []
  },
  {
   "cell_type": "code",
   "metadata": {
    "tags": [],
    "cell_id": "00004-da05aae3-ad3d-48dc-a231-088a8e33cab3",
    "deepnote_to_be_reexecuted": false,
    "source_hash": "41313cfa",
    "execution_start": 1636106407300,
    "execution_millis": 88,
    "deepnote_cell_type": "code"
   },
   "source": "data.head()",
   "execution_count": 7,
   "outputs": [
    {
     "output_type": "execute_result",
     "execution_count": 7,
     "data": {
      "application/vnd.deepnote.dataframe.v2+json": {
       "row_count": 5,
       "column_count": 19,
       "columns": [
        {
         "name": "age",
         "dtype": "int64",
         "stats": {
          "unique_count": 4,
          "nan_count": 0,
          "min": "33",
          "max": "58",
          "histogram": [
           {
            "bin_start": 33,
            "bin_end": 35.5,
            "count": 2
           },
           {
            "bin_start": 35.5,
            "bin_end": 38,
            "count": 0
           },
           {
            "bin_start": 38,
            "bin_end": 40.5,
            "count": 0
           },
           {
            "bin_start": 40.5,
            "bin_end": 43,
            "count": 0
           },
           {
            "bin_start": 43,
            "bin_end": 45.5,
            "count": 1
           },
           {
            "bin_start": 45.5,
            "bin_end": 48,
            "count": 1
           },
           {
            "bin_start": 48,
            "bin_end": 50.5,
            "count": 0
           },
           {
            "bin_start": 50.5,
            "bin_end": 53,
            "count": 0
           },
           {
            "bin_start": 53,
            "bin_end": 55.5,
            "count": 0
           },
           {
            "bin_start": 55.5,
            "bin_end": 58,
            "count": 1
           }
          ]
         }
        },
        {
         "name": "job",
         "dtype": "object",
         "stats": {
          "unique_count": 5,
          "nan_count": 0,
          "categories": [
           {
            "name": "management",
            "count": 1
           },
           {
            "name": "technician",
            "count": 1
           },
           {
            "name": "3 others",
            "count": 3
           }
          ]
         }
        },
        {
         "name": "marital",
         "dtype": "object",
         "stats": {
          "unique_count": 2,
          "nan_count": 0,
          "categories": [
           {
            "name": "married",
            "count": 3
           },
           {
            "name": "single",
            "count": 2
           }
          ]
         }
        },
        {
         "name": "education",
         "dtype": "object",
         "stats": {
          "unique_count": 3,
          "nan_count": 0,
          "categories": [
           {
            "name": "secondary",
            "count": 2
           },
           {
            "name": "unknown",
            "count": 2
           },
           {
            "name": "tertiary",
            "count": 1
           }
          ]
         }
        },
        {
         "name": "credit_default",
         "dtype": "int64",
         "stats": {
          "unique_count": 1,
          "nan_count": 0,
          "min": "0",
          "max": "0",
          "histogram": [
           {
            "bin_start": -0.5,
            "bin_end": -0.4,
            "count": 0
           },
           {
            "bin_start": -0.4,
            "bin_end": -0.3,
            "count": 0
           },
           {
            "bin_start": -0.3,
            "bin_end": -0.19999999999999996,
            "count": 0
           },
           {
            "bin_start": -0.19999999999999996,
            "bin_end": -0.09999999999999998,
            "count": 0
           },
           {
            "bin_start": -0.09999999999999998,
            "bin_end": 0,
            "count": 0
           },
           {
            "bin_start": 0,
            "bin_end": 0.10000000000000009,
            "count": 5
           },
           {
            "bin_start": 0.10000000000000009,
            "bin_end": 0.20000000000000007,
            "count": 0
           },
           {
            "bin_start": 0.20000000000000007,
            "bin_end": 0.30000000000000004,
            "count": 0
           },
           {
            "bin_start": 0.30000000000000004,
            "bin_end": 0.4,
            "count": 0
           },
           {
            "bin_start": 0.4,
            "bin_end": 0.5,
            "count": 0
           }
          ]
         }
        },
        {
         "name": "balance",
         "dtype": "int64",
         "stats": {
          "unique_count": 5,
          "nan_count": 0,
          "min": "1",
          "max": "2143",
          "histogram": [
           {
            "bin_start": 1,
            "bin_end": 215.2,
            "count": 3
           },
           {
            "bin_start": 215.2,
            "bin_end": 429.4,
            "count": 0
           },
           {
            "bin_start": 429.4,
            "bin_end": 643.5999999999999,
            "count": 0
           },
           {
            "bin_start": 643.5999999999999,
            "bin_end": 857.8,
            "count": 0
           },
           {
            "bin_start": 857.8,
            "bin_end": 1072,
            "count": 0
           },
           {
            "bin_start": 1072,
            "bin_end": 1286.1999999999998,
            "count": 0
           },
           {
            "bin_start": 1286.1999999999998,
            "bin_end": 1500.3999999999999,
            "count": 0
           },
           {
            "bin_start": 1500.3999999999999,
            "bin_end": 1714.6,
            "count": 1
           },
           {
            "bin_start": 1714.6,
            "bin_end": 1928.8,
            "count": 0
           },
           {
            "bin_start": 1928.8,
            "bin_end": 2143,
            "count": 1
           }
          ]
         }
        },
        {
         "name": "housing_loan",
         "dtype": "int64",
         "stats": {
          "unique_count": 2,
          "nan_count": 0,
          "min": "0",
          "max": "1",
          "histogram": [
           {
            "bin_start": 0,
            "bin_end": 0.1,
            "count": 1
           },
           {
            "bin_start": 0.1,
            "bin_end": 0.2,
            "count": 0
           },
           {
            "bin_start": 0.2,
            "bin_end": 0.30000000000000004,
            "count": 0
           },
           {
            "bin_start": 0.30000000000000004,
            "bin_end": 0.4,
            "count": 0
           },
           {
            "bin_start": 0.4,
            "bin_end": 0.5,
            "count": 0
           },
           {
            "bin_start": 0.5,
            "bin_end": 0.6000000000000001,
            "count": 0
           },
           {
            "bin_start": 0.6000000000000001,
            "bin_end": 0.7000000000000001,
            "count": 0
           },
           {
            "bin_start": 0.7000000000000001,
            "bin_end": 0.8,
            "count": 0
           },
           {
            "bin_start": 0.8,
            "bin_end": 0.9,
            "count": 0
           },
           {
            "bin_start": 0.9,
            "bin_end": 1,
            "count": 4
           }
          ]
         }
        },
        {
         "name": "personal_loan",
         "dtype": "int64",
         "stats": {
          "unique_count": 2,
          "nan_count": 0,
          "min": "0",
          "max": "1",
          "histogram": [
           {
            "bin_start": 0,
            "bin_end": 0.1,
            "count": 4
           },
           {
            "bin_start": 0.1,
            "bin_end": 0.2,
            "count": 0
           },
           {
            "bin_start": 0.2,
            "bin_end": 0.30000000000000004,
            "count": 0
           },
           {
            "bin_start": 0.30000000000000004,
            "bin_end": 0.4,
            "count": 0
           },
           {
            "bin_start": 0.4,
            "bin_end": 0.5,
            "count": 0
           },
           {
            "bin_start": 0.5,
            "bin_end": 0.6000000000000001,
            "count": 0
           },
           {
            "bin_start": 0.6000000000000001,
            "bin_end": 0.7000000000000001,
            "count": 0
           },
           {
            "bin_start": 0.7000000000000001,
            "bin_end": 0.8,
            "count": 0
           },
           {
            "bin_start": 0.8,
            "bin_end": 0.9,
            "count": 0
           },
           {
            "bin_start": 0.9,
            "bin_end": 1,
            "count": 1
           }
          ]
         }
        },
        {
         "name": "contact_means",
         "dtype": "object",
         "stats": {
          "unique_count": 1,
          "nan_count": 0,
          "categories": [
           {
            "name": "unknown",
            "count": 5
           }
          ]
         }
        },
        {
         "name": "day",
         "dtype": "int64",
         "stats": {
          "unique_count": 1,
          "nan_count": 0,
          "min": "5",
          "max": "5",
          "histogram": [
           {
            "bin_start": 4.5,
            "bin_end": 4.6,
            "count": 0
           },
           {
            "bin_start": 4.6,
            "bin_end": 4.7,
            "count": 0
           },
           {
            "bin_start": 4.7,
            "bin_end": 4.8,
            "count": 0
           },
           {
            "bin_start": 4.8,
            "bin_end": 4.9,
            "count": 0
           },
           {
            "bin_start": 4.9,
            "bin_end": 5,
            "count": 0
           },
           {
            "bin_start": 5,
            "bin_end": 5.1,
            "count": 5
           },
           {
            "bin_start": 5.1,
            "bin_end": 5.2,
            "count": 0
           },
           {
            "bin_start": 5.2,
            "bin_end": 5.3,
            "count": 0
           },
           {
            "bin_start": 5.3,
            "bin_end": 5.4,
            "count": 0
           },
           {
            "bin_start": 5.4,
            "bin_end": 5.5,
            "count": 0
           }
          ]
         }
        },
        {
         "name": "month",
         "dtype": "object",
         "stats": {
          "unique_count": 1,
          "nan_count": 0,
          "categories": [
           {
            "name": "may",
            "count": 5
           }
          ]
         }
        },
        {
         "name": "duration",
         "dtype": "int64",
         "stats": {
          "unique_count": 5,
          "nan_count": 0,
          "min": "76",
          "max": "261",
          "histogram": [
           {
            "bin_start": 76,
            "bin_end": 94.5,
            "count": 2
           },
           {
            "bin_start": 94.5,
            "bin_end": 113,
            "count": 0
           },
           {
            "bin_start": 113,
            "bin_end": 131.5,
            "count": 0
           },
           {
            "bin_start": 131.5,
            "bin_end": 150,
            "count": 0
           },
           {
            "bin_start": 150,
            "bin_end": 168.5,
            "count": 1
           },
           {
            "bin_start": 168.5,
            "bin_end": 187,
            "count": 0
           },
           {
            "bin_start": 187,
            "bin_end": 205.5,
            "count": 1
           },
           {
            "bin_start": 205.5,
            "bin_end": 224,
            "count": 0
           },
           {
            "bin_start": 224,
            "bin_end": 242.5,
            "count": 0
           },
           {
            "bin_start": 242.5,
            "bin_end": 261,
            "count": 1
           }
          ]
         }
        },
        {
         "name": "no_of_calls",
         "dtype": "int64",
         "stats": {
          "unique_count": 1,
          "nan_count": 0,
          "min": "1",
          "max": "1",
          "histogram": [
           {
            "bin_start": 0.5,
            "bin_end": 0.6,
            "count": 0
           },
           {
            "bin_start": 0.6,
            "bin_end": 0.7,
            "count": 0
           },
           {
            "bin_start": 0.7,
            "bin_end": 0.8,
            "count": 0
           },
           {
            "bin_start": 0.8,
            "bin_end": 0.9,
            "count": 0
           },
           {
            "bin_start": 0.9,
            "bin_end": 1,
            "count": 0
           },
           {
            "bin_start": 1,
            "bin_end": 1.1,
            "count": 5
           },
           {
            "bin_start": 1.1,
            "bin_end": 1.2000000000000002,
            "count": 0
           },
           {
            "bin_start": 1.2000000000000002,
            "bin_end": 1.3,
            "count": 0
           },
           {
            "bin_start": 1.3,
            "bin_end": 1.4,
            "count": 0
           },
           {
            "bin_start": 1.4,
            "bin_end": 1.5,
            "count": 0
           }
          ]
         }
        },
        {
         "name": "pdaystillnow",
         "dtype": "int64",
         "stats": {
          "unique_count": 1,
          "nan_count": 0,
          "min": "-1",
          "max": "-1",
          "histogram": [
           {
            "bin_start": -1.5,
            "bin_end": -1.4,
            "count": 0
           },
           {
            "bin_start": -1.4,
            "bin_end": -1.3,
            "count": 0
           },
           {
            "bin_start": -1.3,
            "bin_end": -1.2,
            "count": 0
           },
           {
            "bin_start": -1.2,
            "bin_end": -1.1,
            "count": 0
           },
           {
            "bin_start": -1.1,
            "bin_end": -1,
            "count": 0
           },
           {
            "bin_start": -1,
            "bin_end": -0.8999999999999999,
            "count": 5
           },
           {
            "bin_start": -0.8999999999999999,
            "bin_end": -0.7999999999999999,
            "count": 0
           },
           {
            "bin_start": -0.7999999999999999,
            "bin_end": -0.7,
            "count": 0
           },
           {
            "bin_start": -0.7,
            "bin_end": -0.6,
            "count": 0
           },
           {
            "bin_start": -0.6,
            "bin_end": -0.5,
            "count": 0
           }
          ]
         }
        },
        {
         "name": "pnum_calls",
         "dtype": "int64",
         "stats": {
          "unique_count": 1,
          "nan_count": 0,
          "min": "0",
          "max": "0",
          "histogram": [
           {
            "bin_start": -0.5,
            "bin_end": -0.4,
            "count": 0
           },
           {
            "bin_start": -0.4,
            "bin_end": -0.3,
            "count": 0
           },
           {
            "bin_start": -0.3,
            "bin_end": -0.19999999999999996,
            "count": 0
           },
           {
            "bin_start": -0.19999999999999996,
            "bin_end": -0.09999999999999998,
            "count": 0
           },
           {
            "bin_start": -0.09999999999999998,
            "bin_end": 0,
            "count": 0
           },
           {
            "bin_start": 0,
            "bin_end": 0.10000000000000009,
            "count": 5
           },
           {
            "bin_start": 0.10000000000000009,
            "bin_end": 0.20000000000000007,
            "count": 0
           },
           {
            "bin_start": 0.20000000000000007,
            "bin_end": 0.30000000000000004,
            "count": 0
           },
           {
            "bin_start": 0.30000000000000004,
            "bin_end": 0.4,
            "count": 0
           },
           {
            "bin_start": 0.4,
            "bin_end": 0.5,
            "count": 0
           }
          ]
         }
        },
        {
         "name": "poutcome",
         "dtype": "object",
         "stats": {
          "unique_count": 1,
          "nan_count": 0,
          "categories": [
           {
            "name": "unknown",
            "count": 5
           }
          ]
         }
        },
        {
         "name": "y",
         "dtype": "int64",
         "stats": {
          "unique_count": 1,
          "nan_count": 0,
          "min": "0",
          "max": "0",
          "histogram": [
           {
            "bin_start": -0.5,
            "bin_end": -0.4,
            "count": 0
           },
           {
            "bin_start": -0.4,
            "bin_end": -0.3,
            "count": 0
           },
           {
            "bin_start": -0.3,
            "bin_end": -0.19999999999999996,
            "count": 0
           },
           {
            "bin_start": -0.19999999999999996,
            "bin_end": -0.09999999999999998,
            "count": 0
           },
           {
            "bin_start": -0.09999999999999998,
            "bin_end": 0,
            "count": 0
           },
           {
            "bin_start": 0,
            "bin_end": 0.10000000000000009,
            "count": 5
           },
           {
            "bin_start": 0.10000000000000009,
            "bin_end": 0.20000000000000007,
            "count": 0
           },
           {
            "bin_start": 0.20000000000000007,
            "bin_end": 0.30000000000000004,
            "count": 0
           },
           {
            "bin_start": 0.30000000000000004,
            "bin_end": 0.4,
            "count": 0
           },
           {
            "bin_start": 0.4,
            "bin_end": 0.5,
            "count": 0
           }
          ]
         }
        },
        {
         "name": "age_group",
         "dtype": "category",
         "stats": {
          "unique_count": 3,
          "nan_count": 0,
          "categories": [
           {
            "name": "40-49",
            "count": 2
           },
           {
            "name": "30-39",
            "count": 2
           },
           {
            "name": "50-59",
            "count": 1
           }
          ]
         }
        },
        {
         "name": "balance_bin",
         "dtype": "category",
         "stats": {
          "unique_count": 1,
          "nan_count": 0,
          "categories": [
           {
            "name": "0-9999",
            "count": 5
           }
          ]
         }
        },
        {
         "name": "_deepnote_index_column",
         "dtype": "int64"
        }
       ],
       "rows_top": [
        {
         "age": 58,
         "job": "management",
         "marital": "married",
         "education": "tertiary",
         "credit_default": 0,
         "balance": 2143,
         "housing_loan": 1,
         "personal_loan": 0,
         "contact_means": "unknown",
         "day": 5,
         "month": "may",
         "duration": 261,
         "no_of_calls": 1,
         "pdaystillnow": -1,
         "pnum_calls": 0,
         "poutcome": "unknown",
         "y": 0,
         "age_group": "50-59",
         "balance_bin": "0-9999",
         "_deepnote_index_column": 0
        },
        {
         "age": 44,
         "job": "technician",
         "marital": "single",
         "education": "secondary",
         "credit_default": 0,
         "balance": 29,
         "housing_loan": 1,
         "personal_loan": 0,
         "contact_means": "unknown",
         "day": 5,
         "month": "may",
         "duration": 151,
         "no_of_calls": 1,
         "pdaystillnow": -1,
         "pnum_calls": 0,
         "poutcome": "unknown",
         "y": 0,
         "age_group": "40-49",
         "balance_bin": "0-9999",
         "_deepnote_index_column": 1
        },
        {
         "age": 33,
         "job": "entrepreneur",
         "marital": "married",
         "education": "secondary",
         "credit_default": 0,
         "balance": 2,
         "housing_loan": 1,
         "personal_loan": 1,
         "contact_means": "unknown",
         "day": 5,
         "month": "may",
         "duration": 76,
         "no_of_calls": 1,
         "pdaystillnow": -1,
         "pnum_calls": 0,
         "poutcome": "unknown",
         "y": 0,
         "age_group": "30-39",
         "balance_bin": "0-9999",
         "_deepnote_index_column": 2
        },
        {
         "age": 47,
         "job": "blue-collar",
         "marital": "married",
         "education": "unknown",
         "credit_default": 0,
         "balance": 1506,
         "housing_loan": 1,
         "personal_loan": 0,
         "contact_means": "unknown",
         "day": 5,
         "month": "may",
         "duration": 92,
         "no_of_calls": 1,
         "pdaystillnow": -1,
         "pnum_calls": 0,
         "poutcome": "unknown",
         "y": 0,
         "age_group": "40-49",
         "balance_bin": "0-9999",
         "_deepnote_index_column": 3
        },
        {
         "age": 33,
         "job": "unknown",
         "marital": "single",
         "education": "unknown",
         "credit_default": 0,
         "balance": 1,
         "housing_loan": 0,
         "personal_loan": 0,
         "contact_means": "unknown",
         "day": 5,
         "month": "may",
         "duration": 198,
         "no_of_calls": 1,
         "pdaystillnow": -1,
         "pnum_calls": 0,
         "poutcome": "unknown",
         "y": 0,
         "age_group": "30-39",
         "balance_bin": "0-9999",
         "_deepnote_index_column": 4
        }
       ],
       "rows_bottom": null
      },
      "text/plain": "   age           job  marital  education  credit_default  balance  \\\n0   58    management  married   tertiary               0     2143   \n1   44    technician   single  secondary               0       29   \n2   33  entrepreneur  married  secondary               0        2   \n3   47   blue-collar  married    unknown               0     1506   \n4   33       unknown   single    unknown               0        1   \n\n   housing_loan  personal_loan contact_means  day month  duration  \\\n0             1              0       unknown    5   may       261   \n1             1              0       unknown    5   may       151   \n2             1              1       unknown    5   may        76   \n3             1              0       unknown    5   may        92   \n4             0              0       unknown    5   may       198   \n\n   no_of_calls  pdaystillnow  pnum_calls poutcome  y age_group balance_bin  \n0            1            -1           0  unknown  0     50-59      0-9999  \n1            1            -1           0  unknown  0     40-49      0-9999  \n2            1            -1           0  unknown  0     30-39      0-9999  \n3            1            -1           0  unknown  0     40-49      0-9999  \n4            1            -1           0  unknown  0     30-39      0-9999  ",
      "text/html": "<div>\n<style scoped>\n    .dataframe tbody tr th:only-of-type {\n        vertical-align: middle;\n    }\n\n    .dataframe tbody tr th {\n        vertical-align: top;\n    }\n\n    .dataframe thead th {\n        text-align: right;\n    }\n</style>\n<table border=\"1\" class=\"dataframe\">\n  <thead>\n    <tr style=\"text-align: right;\">\n      <th></th>\n      <th>age</th>\n      <th>job</th>\n      <th>marital</th>\n      <th>education</th>\n      <th>credit_default</th>\n      <th>balance</th>\n      <th>housing_loan</th>\n      <th>personal_loan</th>\n      <th>contact_means</th>\n      <th>day</th>\n      <th>month</th>\n      <th>duration</th>\n      <th>no_of_calls</th>\n      <th>pdaystillnow</th>\n      <th>pnum_calls</th>\n      <th>poutcome</th>\n      <th>y</th>\n      <th>age_group</th>\n      <th>balance_bin</th>\n    </tr>\n  </thead>\n  <tbody>\n    <tr>\n      <th>0</th>\n      <td>58</td>\n      <td>management</td>\n      <td>married</td>\n      <td>tertiary</td>\n      <td>0</td>\n      <td>2143</td>\n      <td>1</td>\n      <td>0</td>\n      <td>unknown</td>\n      <td>5</td>\n      <td>may</td>\n      <td>261</td>\n      <td>1</td>\n      <td>-1</td>\n      <td>0</td>\n      <td>unknown</td>\n      <td>0</td>\n      <td>50-59</td>\n      <td>0-9999</td>\n    </tr>\n    <tr>\n      <th>1</th>\n      <td>44</td>\n      <td>technician</td>\n      <td>single</td>\n      <td>secondary</td>\n      <td>0</td>\n      <td>29</td>\n      <td>1</td>\n      <td>0</td>\n      <td>unknown</td>\n      <td>5</td>\n      <td>may</td>\n      <td>151</td>\n      <td>1</td>\n      <td>-1</td>\n      <td>0</td>\n      <td>unknown</td>\n      <td>0</td>\n      <td>40-49</td>\n      <td>0-9999</td>\n    </tr>\n    <tr>\n      <th>2</th>\n      <td>33</td>\n      <td>entrepreneur</td>\n      <td>married</td>\n      <td>secondary</td>\n      <td>0</td>\n      <td>2</td>\n      <td>1</td>\n      <td>1</td>\n      <td>unknown</td>\n      <td>5</td>\n      <td>may</td>\n      <td>76</td>\n      <td>1</td>\n      <td>-1</td>\n      <td>0</td>\n      <td>unknown</td>\n      <td>0</td>\n      <td>30-39</td>\n      <td>0-9999</td>\n    </tr>\n    <tr>\n      <th>3</th>\n      <td>47</td>\n      <td>blue-collar</td>\n      <td>married</td>\n      <td>unknown</td>\n      <td>0</td>\n      <td>1506</td>\n      <td>1</td>\n      <td>0</td>\n      <td>unknown</td>\n      <td>5</td>\n      <td>may</td>\n      <td>92</td>\n      <td>1</td>\n      <td>-1</td>\n      <td>0</td>\n      <td>unknown</td>\n      <td>0</td>\n      <td>40-49</td>\n      <td>0-9999</td>\n    </tr>\n    <tr>\n      <th>4</th>\n      <td>33</td>\n      <td>unknown</td>\n      <td>single</td>\n      <td>unknown</td>\n      <td>0</td>\n      <td>1</td>\n      <td>0</td>\n      <td>0</td>\n      <td>unknown</td>\n      <td>5</td>\n      <td>may</td>\n      <td>198</td>\n      <td>1</td>\n      <td>-1</td>\n      <td>0</td>\n      <td>unknown</td>\n      <td>0</td>\n      <td>30-39</td>\n      <td>0-9999</td>\n    </tr>\n  </tbody>\n</table>\n</div>"
     },
     "metadata": {}
    }
   ]
  },
  {
   "cell_type": "markdown",
   "source": "Rearranging the columns so the categories of age and balance are next to the age and balance columns so as to make it more coherent",
   "metadata": {
    "tags": [],
    "cell_id": "00013-05e443fe-79de-48ce-86e6-75de4a71b15b",
    "deepnote_cell_type": "markdown"
   }
  },
  {
   "cell_type": "code",
   "metadata": {
    "tags": [],
    "cell_id": "00005-38e8da6a-1287-46f7-aee3-d7173740f9f5",
    "deepnote_to_be_reexecuted": false,
    "source_hash": "6bd0da1f",
    "execution_start": 1636106407401,
    "execution_millis": 6,
    "deepnote_cell_type": "code"
   },
   "source": "data = data[['age',\n             'age_group',\n             'job',\n             'marital',\n             'education',\n             'credit_default',\n             'balance',\n             'balance_bin',\n             'housing_loan',\n             'personal_loan',\n             'contact_means',\n             'day',\n             'month',\n             'duration',\n             'no_of_calls',\n             'pdaystillnow',\n             'pnum_calls',\n             'poutcome',\n             'y']]",
   "execution_count": 8,
   "outputs": []
  },
  {
   "cell_type": "markdown",
   "source": "### Understanding the data",
   "metadata": {
    "tags": [],
    "cell_id": "00011-7f9ecade-917b-490f-a1f4-aefc57fcd781",
    "deepnote_cell_type": "markdown"
   }
  },
  {
   "cell_type": "code",
   "metadata": {
    "tags": [],
    "cell_id": "00012-a0621822-22b3-447d-91be-980a4e52edf2",
    "deepnote_to_be_reexecuted": false,
    "source_hash": "957547ae",
    "execution_start": 1636106407482,
    "execution_millis": 48,
    "deepnote_cell_type": "code"
   },
   "source": "data.info()",
   "execution_count": 9,
   "outputs": [
    {
     "name": "stdout",
     "text": "<class 'pandas.core.frame.DataFrame'>\nRangeIndex: 45211 entries, 0 to 45210\nData columns (total 19 columns):\n #   Column          Non-Null Count  Dtype   \n---  ------          --------------  -----   \n 0   age             45211 non-null  int64   \n 1   age_group       45211 non-null  category\n 2   job             45211 non-null  object  \n 3   marital         45211 non-null  object  \n 4   education       45211 non-null  object  \n 5   credit_default  45211 non-null  int64   \n 6   balance         45211 non-null  int64   \n 7   balance_bin     45210 non-null  category\n 8   housing_loan    45211 non-null  int64   \n 9   personal_loan   45211 non-null  int64   \n 10  contact_means   45211 non-null  object  \n 11  day             45211 non-null  int64   \n 12  month           45211 non-null  object  \n 13  duration        45211 non-null  int64   \n 14  no_of_calls     45211 non-null  int64   \n 15  pdaystillnow    45211 non-null  int64   \n 16  pnum_calls      45211 non-null  int64   \n 17  poutcome        45211 non-null  object  \n 18  y               45211 non-null  int64   \ndtypes: category(2), int64(11), object(6)\nmemory usage: 6.0+ MB\n",
     "output_type": "stream"
    }
   ]
  },
  {
   "cell_type": "markdown",
   "source": "from `.info()` we see we have 45,211 entries of numerical, object and categorical data and now a total of 19 columns",
   "metadata": {
    "tags": [],
    "cell_id": "00017-763f31bb-e088-4702-bde2-6eee6373278b",
    "deepnote_cell_type": "markdown"
   }
  },
  {
   "cell_type": "code",
   "metadata": {
    "tags": [],
    "cell_id": "00013-f2407dce-431b-49b6-afe1-68c8420c7d0c",
    "deepnote_to_be_reexecuted": false,
    "source_hash": "61abb608",
    "execution_start": 1636106407522,
    "execution_millis": 151,
    "deepnote_cell_type": "code"
   },
   "source": "data.describe()[['age','balance']]",
   "execution_count": 10,
   "outputs": [
    {
     "output_type": "execute_result",
     "execution_count": 10,
     "data": {
      "application/vnd.deepnote.dataframe.v2+json": {
       "row_count": 8,
       "column_count": 2,
       "columns": [
        {
         "name": "age",
         "dtype": "float64",
         "stats": {
          "unique_count": 8,
          "nan_count": 0,
          "min": "10.61876204097542",
          "max": "45211.0",
          "histogram": [
           {
            "bin_start": 10.61876204097542,
            "bin_end": 4530.656885836878,
            "count": 7
           },
           {
            "bin_start": 4530.656885836878,
            "bin_end": 9050.69500963278,
            "count": 0
           },
           {
            "bin_start": 9050.69500963278,
            "bin_end": 13570.733133428683,
            "count": 0
           },
           {
            "bin_start": 13570.733133428683,
            "bin_end": 18090.771257224587,
            "count": 0
           },
           {
            "bin_start": 18090.771257224587,
            "bin_end": 22610.80938102049,
            "count": 0
           },
           {
            "bin_start": 22610.80938102049,
            "bin_end": 27130.847504816393,
            "count": 0
           },
           {
            "bin_start": 27130.847504816393,
            "bin_end": 31650.885628612297,
            "count": 0
           },
           {
            "bin_start": 31650.885628612297,
            "bin_end": 36170.9237524082,
            "count": 0
           },
           {
            "bin_start": 36170.9237524082,
            "bin_end": 40690.9618762041,
            "count": 0
           },
           {
            "bin_start": 40690.9618762041,
            "bin_end": 45211,
            "count": 1
           }
          ]
         }
        },
        {
         "name": "balance",
         "dtype": "float64",
         "stats": {
          "unique_count": 8,
          "nan_count": 0,
          "min": "-8019.0",
          "max": "102127.0",
          "histogram": [
           {
            "bin_start": -8019,
            "bin_end": 2995.6000000000004,
            "count": 5
           },
           {
            "bin_start": 2995.6000000000004,
            "bin_end": 14010.2,
            "count": 1
           },
           {
            "bin_start": 14010.2,
            "bin_end": 25024.800000000003,
            "count": 0
           },
           {
            "bin_start": 25024.800000000003,
            "bin_end": 36039.4,
            "count": 0
           },
           {
            "bin_start": 36039.4,
            "bin_end": 47054,
            "count": 1
           },
           {
            "bin_start": 47054,
            "bin_end": 58068.600000000006,
            "count": 0
           },
           {
            "bin_start": 58068.600000000006,
            "bin_end": 69083.2,
            "count": 0
           },
           {
            "bin_start": 69083.2,
            "bin_end": 80097.8,
            "count": 0
           },
           {
            "bin_start": 80097.8,
            "bin_end": 91112.40000000001,
            "count": 0
           },
           {
            "bin_start": 91112.40000000001,
            "bin_end": 102127,
            "count": 1
           }
          ]
         }
        },
        {
         "name": "_deepnote_index_column",
         "dtype": "object"
        }
       ],
       "rows_top": [
        {
         "age": 45211,
         "balance": 45211,
         "_deepnote_index_column": "count"
        },
        {
         "age": 40.93621021432837,
         "balance": 1362.2720576850766,
         "_deepnote_index_column": "mean"
        },
        {
         "age": 10.61876204097542,
         "balance": 3044.765829168518,
         "_deepnote_index_column": "std"
        },
        {
         "age": 18,
         "balance": -8019,
         "_deepnote_index_column": "min"
        },
        {
         "age": 33,
         "balance": 72,
         "_deepnote_index_column": "25%"
        },
        {
         "age": 39,
         "balance": 448,
         "_deepnote_index_column": "50%"
        },
        {
         "age": 48,
         "balance": 1428,
         "_deepnote_index_column": "75%"
        },
        {
         "age": 95,
         "balance": 102127,
         "_deepnote_index_column": "max"
        }
       ],
       "rows_bottom": null
      },
      "text/plain": "                age        balance\ncount  45211.000000   45211.000000\nmean      40.936210    1362.272058\nstd       10.618762    3044.765829\nmin       18.000000   -8019.000000\n25%       33.000000      72.000000\n50%       39.000000     448.000000\n75%       48.000000    1428.000000\nmax       95.000000  102127.000000",
      "text/html": "<div>\n<style scoped>\n    .dataframe tbody tr th:only-of-type {\n        vertical-align: middle;\n    }\n\n    .dataframe tbody tr th {\n        vertical-align: top;\n    }\n\n    .dataframe thead th {\n        text-align: right;\n    }\n</style>\n<table border=\"1\" class=\"dataframe\">\n  <thead>\n    <tr style=\"text-align: right;\">\n      <th></th>\n      <th>age</th>\n      <th>balance</th>\n    </tr>\n  </thead>\n  <tbody>\n    <tr>\n      <th>count</th>\n      <td>45211.000000</td>\n      <td>45211.000000</td>\n    </tr>\n    <tr>\n      <th>mean</th>\n      <td>40.936210</td>\n      <td>1362.272058</td>\n    </tr>\n    <tr>\n      <th>std</th>\n      <td>10.618762</td>\n      <td>3044.765829</td>\n    </tr>\n    <tr>\n      <th>min</th>\n      <td>18.000000</td>\n      <td>-8019.000000</td>\n    </tr>\n    <tr>\n      <th>25%</th>\n      <td>33.000000</td>\n      <td>72.000000</td>\n    </tr>\n    <tr>\n      <th>50%</th>\n      <td>39.000000</td>\n      <td>448.000000</td>\n    </tr>\n    <tr>\n      <th>75%</th>\n      <td>48.000000</td>\n      <td>1428.000000</td>\n    </tr>\n    <tr>\n      <th>max</th>\n      <td>95.000000</td>\n      <td>102127.000000</td>\n    </tr>\n  </tbody>\n</table>\n</div>"
     },
     "metadata": {}
    }
   ]
  },
  {
   "cell_type": "markdown",
   "source": "As we summarize the data we see that the mean age of the population of the dataset is 40.9 years old and ranges from 18 to 95 with a standard deviation of 10.6 years. The mean balance is €1362.27 that ranges from €-8019 to €102127. \n\nWhat is interesting is that the €1428 is the 75th percentile which shows that only 25% of people in the dataset have money above that amount but the max is €102127.\n\nAnother anomaly we noticed is that quite a few people have a negative balance, which brings a few questions as to how they would subscribe to a fixed deposit. This makes us think that there is not sufficient information in regards to the balance column and maybe the client has other accounts elsewhere.",
   "metadata": {
    "tags": [],
    "cell_id": "00019-fafb987f-a344-4d4b-8ff3-e7d8627a187d",
    "deepnote_cell_type": "markdown"
   }
  },
  {
   "cell_type": "code",
   "metadata": {
    "tags": [],
    "cell_id": "00010-064642f4-542b-467f-a82e-23f5aefab217",
    "deepnote_to_be_reexecuted": false,
    "source_hash": "9d66a654",
    "execution_start": 1636106407663,
    "execution_millis": 499,
    "deepnote_cell_type": "code"
   },
   "source": "data.age.plot(kind='hist',bins=30);",
   "execution_count": 11,
   "outputs": [
    {
     "data": {
      "text/plain": "<Figure size 432x288 with 1 Axes>",
      "image/png": "[encoded data removed]"
     },
     "metadata": {
      "needs_background": "light",
      "image/png": {
       "width": 395,
       "height": 248
      }
     },
     "output_type": "display_data"
    }
   ]
  },
  {
   "cell_type": "code",
   "metadata": {
    "tags": [],
    "cell_id": "00011-793b6241-b810-4211-86ea-1a47b881769e",
    "deepnote_to_be_reexecuted": false,
    "source_hash": "36bc62c4",
    "execution_start": 1636106408164,
    "execution_millis": 16,
    "deepnote_cell_type": "code"
   },
   "source": "data.age_group.value_counts()",
   "execution_count": 12,
   "outputs": [
    {
     "output_type": "execute_result",
     "execution_count": 12,
     "data": {
      "text/plain": "30-39    18089\n40-49    11655\n50-59     8410\n20-29     5226\n60-69     1230\n70-79      424\n80-89      121\n10-19       47\n90-99        9\nName: age_group, dtype: int64"
     },
     "metadata": {}
    }
   ]
  },
  {
   "cell_type": "markdown",
   "source": "As we see most of the population in the dataset fall between the ages of 30-39",
   "metadata": {
    "tags": [],
    "cell_id": "00012-b7833f80-20d6-468a-93e4-0949a4f05b38",
    "deepnote_cell_type": "markdown"
   }
  },
  {
   "cell_type": "code",
   "metadata": {
    "tags": [],
    "cell_id": "00011-436c4c87-fc47-443a-a564-81e4f265e8b9",
    "deepnote_to_be_reexecuted": false,
    "source_hash": "17b805f5",
    "execution_start": 1636106408185,
    "execution_millis": 19,
    "deepnote_cell_type": "code"
   },
   "source": "data.job.value_counts()",
   "execution_count": 13,
   "outputs": [
    {
     "output_type": "execute_result",
     "execution_count": 13,
     "data": {
      "text/plain": "blue-collar      9732\nmanagement       9458\ntechnician       7597\nadmin.           5171\nservices         4154\nretired          2264\nself-employed    1579\nentrepreneur     1487\nunemployed       1303\nhousemaid        1240\nstudent           938\nunknown           288\nName: job, dtype: int64"
     },
     "metadata": {}
    }
   ]
  },
  {
   "cell_type": "markdown",
   "source": "And blue-collar job acount for the majority of jobs (21.5%)",
   "metadata": {
    "tags": [],
    "cell_id": "00014-25a54be4-cdb8-400e-b076-6f381a26004d",
    "deepnote_cell_type": "markdown"
   }
  },
  {
   "cell_type": "code",
   "metadata": {
    "tags": [],
    "cell_id": "00012-32ceeccf-48a9-4a07-be8c-fa172132fcea",
    "deepnote_to_be_reexecuted": false,
    "source_hash": "8f07d4f7",
    "execution_start": 1636106408208,
    "execution_millis": 91,
    "deepnote_cell_type": "code"
   },
   "source": "data.education.value_counts()",
   "execution_count": 14,
   "outputs": [
    {
     "output_type": "execute_result",
     "execution_count": 14,
     "data": {
      "text/plain": "secondary    23202\ntertiary     13301\nprimary       6851\nunknown       1857\nName: education, dtype: int64"
     },
     "metadata": {}
    }
   ]
  },
  {
   "cell_type": "markdown",
   "source": "Secondary education accounts for over 50% of the population of the dataset",
   "metadata": {
    "tags": [],
    "cell_id": "00016-b3b9ae02-e345-43a0-bcf8-dce8b6b6a77b",
    "deepnote_cell_type": "markdown"
   }
  },
  {
   "cell_type": "code",
   "metadata": {
    "tags": [],
    "cell_id": "00021-93956439-0bd9-4a58-97c6-0e9bd92a444e",
    "deepnote_to_be_reexecuted": false,
    "source_hash": "c7df417b",
    "execution_start": 1636106408298,
    "execution_millis": 0,
    "deepnote_cell_type": "code"
   },
   "source": "# Function to highlight the max an min values in the dataframe\ndef highlight_max(s):\n    return [\"background-color:DodgerBlue\" if a else \" \" for a in (s==s.max())]\ndef highlight_min(s):\n    return [\"background-color:Red\" if a else \" \" for a in (s==s.min())]",
   "execution_count": 15,
   "outputs": []
  },
  {
   "cell_type": "code",
   "metadata": {
    "tags": [],
    "cell_id": "00021-cdc1babd-80d6-4b33-8c72-9753a6c1da55",
    "deepnote_to_be_reexecuted": false,
    "source_hash": "7e2c713c",
    "execution_start": 1636106408299,
    "execution_millis": 169,
    "deepnote_cell_type": "code"
   },
   "source": "data.groupby('job').mean()[['age','balance']].style.highlight_max(color='lightblue').highlight_min(color='pink')",
   "execution_count": 16,
   "outputs": [
    {
     "output_type": "execute_result",
     "execution_count": 16,
     "data": {
      "text/plain": "<pandas.io.formats.style.Styler at 0x7fa66ce1aa10>",
      "text/html": "<style  type=\"text/css\" >\n#T_1e206_row5_col0,#T_1e206_row5_col1{\n            background-color:  lightblue;\n        }#T_1e206_row7_col1,#T_1e206_row8_col0{\n            background-color:  pink;\n        }</style><table id=\"T_1e206_\" ><thead>    <tr>        <th class=\"blank level0\" ></th>        <th class=\"col_heading level0 col0\" >age</th>        <th class=\"col_heading level0 col1\" >balance</th>    </tr>    <tr>        <th class=\"index_name level0\" >job</th>        <th class=\"blank\" ></th>        <th class=\"blank\" ></th>    </tr></thead><tbody>\n                <tr>\n                        <th id=\"T_1e206_level0_row0\" class=\"row_heading level0 row0\" >admin.</th>\n                        <td id=\"T_1e206_row0_col0\" class=\"data row0 col0\" >39.289886</td>\n                        <td id=\"T_1e206_row0_col1\" class=\"data row0 col1\" >1135.838909</td>\n            </tr>\n            <tr>\n                        <th id=\"T_1e206_level0_row1\" class=\"row_heading level0 row1\" >blue-collar</th>\n                        <td id=\"T_1e206_row1_col0\" class=\"data row1 col0\" >40.044081</td>\n                        <td id=\"T_1e206_row1_col1\" class=\"data row1 col1\" >1078.826654</td>\n            </tr>\n            <tr>\n                        <th id=\"T_1e206_level0_row2\" class=\"row_heading level0 row2\" >entrepreneur</th>\n                        <td id=\"T_1e206_row2_col0\" class=\"data row2 col0\" >42.190989</td>\n                        <td id=\"T_1e206_row2_col1\" class=\"data row2 col1\" >1521.470074</td>\n            </tr>\n            <tr>\n                        <th id=\"T_1e206_level0_row3\" class=\"row_heading level0 row3\" >housemaid</th>\n                        <td id=\"T_1e206_row3_col0\" class=\"data row3 col0\" >46.415323</td>\n                        <td id=\"T_1e206_row3_col1\" class=\"data row3 col1\" >1392.395161</td>\n            </tr>\n            <tr>\n                        <th id=\"T_1e206_level0_row4\" class=\"row_heading level0 row4\" >management</th>\n                        <td id=\"T_1e206_row4_col0\" class=\"data row4 col0\" >40.449567</td>\n                        <td id=\"T_1e206_row4_col1\" class=\"data row4 col1\" >1763.616832</td>\n            </tr>\n            <tr>\n                        <th id=\"T_1e206_level0_row5\" class=\"row_heading level0 row5\" >retired</th>\n                        <td id=\"T_1e206_row5_col0\" class=\"data row5 col0\" >61.626767</td>\n                        <td id=\"T_1e206_row5_col1\" class=\"data row5 col1\" >1984.215106</td>\n            </tr>\n            <tr>\n                        <th id=\"T_1e206_level0_row6\" class=\"row_heading level0 row6\" >self-employed</th>\n                        <td id=\"T_1e206_row6_col0\" class=\"data row6 col0\" >40.484484</td>\n                        <td id=\"T_1e206_row6_col1\" class=\"data row6 col1\" >1647.970868</td>\n            </tr>\n            <tr>\n                        <th id=\"T_1e206_level0_row7\" class=\"row_heading level0 row7\" >services</th>\n                        <td id=\"T_1e206_row7_col0\" class=\"data row7 col0\" >38.740250</td>\n                        <td id=\"T_1e206_row7_col1\" class=\"data row7 col1\" >997.088108</td>\n            </tr>\n            <tr>\n                        <th id=\"T_1e206_level0_row8\" class=\"row_heading level0 row8\" >student</th>\n                        <td id=\"T_1e206_row8_col0\" class=\"data row8 col0\" >26.542644</td>\n                        <td id=\"T_1e206_row8_col1\" class=\"data row8 col1\" >1388.060768</td>\n            </tr>\n            <tr>\n                        <th id=\"T_1e206_level0_row9\" class=\"row_heading level0 row9\" >technician</th>\n                        <td id=\"T_1e206_row9_col0\" class=\"data row9 col0\" >39.314598</td>\n                        <td id=\"T_1e206_row9_col1\" class=\"data row9 col1\" >1252.632092</td>\n            </tr>\n            <tr>\n                        <th id=\"T_1e206_level0_row10\" class=\"row_heading level0 row10\" >unemployed</th>\n                        <td id=\"T_1e206_row10_col0\" class=\"data row10 col0\" >40.961627</td>\n                        <td id=\"T_1e206_row10_col1\" class=\"data row10 col1\" >1521.745971</td>\n            </tr>\n            <tr>\n                        <th id=\"T_1e206_level0_row11\" class=\"row_heading level0 row11\" >unknown</th>\n                        <td id=\"T_1e206_row11_col0\" class=\"data row11 col0\" >47.593750</td>\n                        <td id=\"T_1e206_row11_col1\" class=\"data row11 col1\" >1772.357639</td>\n            </tr>\n    </tbody></table>"
     },
     "metadata": {}
    }
   ]
  },
  {
   "cell_type": "markdown",
   "source": "From grouping the data by jobs we see that that the highest mean age and balance is from the retired people and minimum mean age belongs to the students which makes sense but the minimum mean balance belongs to the service industry.",
   "metadata": {
    "tags": [],
    "cell_id": "00029-25578b6c-bd29-42f0-b897-78763de0871e",
    "deepnote_cell_type": "markdown"
   }
  },
  {
   "cell_type": "code",
   "metadata": {
    "tags": [],
    "cell_id": "00014-9db37d23-f07e-40f5-b7cd-ffe012ebb5d7",
    "deepnote_to_be_reexecuted": false,
    "source_hash": "dfd4a615",
    "execution_start": 1636106408467,
    "execution_millis": 234,
    "deepnote_cell_type": "code"
   },
   "source": "data.groupby('job').sum()[['credit_default','housing_loan','personal_loan','y']].style.highlight_max(color='lightblue').highlight_min(color='pink')",
   "execution_count": 17,
   "outputs": [
    {
     "output_type": "execute_result",
     "execution_count": 17,
     "data": {
      "text/plain": "<pandas.io.formats.style.Styler at 0x7fa65f187190>",
      "text/html": "<style  type=\"text/css\" >\n#T_31464_row1_col0,#T_31464_row1_col1,#T_31464_row1_col2,#T_31464_row4_col3{\n            background-color:  lightblue;\n        }#T_31464_row11_col0,#T_31464_row11_col1,#T_31464_row11_col2,#T_31464_row11_col3{\n            background-color:  pink;\n        }</style><table id=\"T_31464_\" ><thead>    <tr>        <th class=\"blank level0\" ></th>        <th class=\"col_heading level0 col0\" >credit_default</th>        <th class=\"col_heading level0 col1\" >housing_loan</th>        <th class=\"col_heading level0 col2\" >personal_loan</th>        <th class=\"col_heading level0 col3\" >y</th>    </tr>    <tr>        <th class=\"index_name level0\" >job</th>        <th class=\"blank\" ></th>        <th class=\"blank\" ></th>        <th class=\"blank\" ></th>        <th class=\"blank\" ></th>    </tr></thead><tbody>\n                <tr>\n                        <th id=\"T_31464_level0_row0\" class=\"row_heading level0 row0\" >admin.</th>\n                        <td id=\"T_31464_row0_col0\" class=\"data row0 col0\" >74</td>\n                        <td id=\"T_31464_row0_col1\" class=\"data row0 col1\" >3182</td>\n                        <td id=\"T_31464_row0_col2\" class=\"data row0 col2\" >991</td>\n                        <td id=\"T_31464_row0_col3\" class=\"data row0 col3\" >631</td>\n            </tr>\n            <tr>\n                        <th id=\"T_31464_level0_row1\" class=\"row_heading level0 row1\" >blue-collar</th>\n                        <td id=\"T_31464_row1_col0\" class=\"data row1 col0\" >201</td>\n                        <td id=\"T_31464_row1_col1\" class=\"data row1 col1\" >7048</td>\n                        <td id=\"T_31464_row1_col2\" class=\"data row1 col2\" >1684</td>\n                        <td id=\"T_31464_row1_col3\" class=\"data row1 col3\" >708</td>\n            </tr>\n            <tr>\n                        <th id=\"T_31464_level0_row2\" class=\"row_heading level0 row2\" >entrepreneur</th>\n                        <td id=\"T_31464_row2_col0\" class=\"data row2 col0\" >55</td>\n                        <td id=\"T_31464_row2_col1\" class=\"data row2 col1\" >869</td>\n                        <td id=\"T_31464_row2_col2\" class=\"data row2 col2\" >356</td>\n                        <td id=\"T_31464_row2_col3\" class=\"data row2 col3\" >123</td>\n            </tr>\n            <tr>\n                        <th id=\"T_31464_level0_row3\" class=\"row_heading level0 row3\" >housemaid</th>\n                        <td id=\"T_31464_row3_col0\" class=\"data row3 col0\" >22</td>\n                        <td id=\"T_31464_row3_col1\" class=\"data row3 col1\" >398</td>\n                        <td id=\"T_31464_row3_col2\" class=\"data row3 col2\" >152</td>\n                        <td id=\"T_31464_row3_col3\" class=\"data row3 col3\" >109</td>\n            </tr>\n            <tr>\n                        <th id=\"T_31464_level0_row4\" class=\"row_heading level0 row4\" >management</th>\n                        <td id=\"T_31464_row4_col0\" class=\"data row4 col0\" >164</td>\n                        <td id=\"T_31464_row4_col1\" class=\"data row4 col1\" >4678</td>\n                        <td id=\"T_31464_row4_col2\" class=\"data row4 col2\" >1253</td>\n                        <td id=\"T_31464_row4_col3\" class=\"data row4 col3\" >1301</td>\n            </tr>\n            <tr>\n                        <th id=\"T_31464_level0_row5\" class=\"row_heading level0 row5\" >retired</th>\n                        <td id=\"T_31464_row5_col0\" class=\"data row5 col0\" >26</td>\n                        <td id=\"T_31464_row5_col1\" class=\"data row5 col1\" >491</td>\n                        <td id=\"T_31464_row5_col2\" class=\"data row5 col2\" >309</td>\n                        <td id=\"T_31464_row5_col3\" class=\"data row5 col3\" >516</td>\n            </tr>\n            <tr>\n                        <th id=\"T_31464_level0_row6\" class=\"row_heading level0 row6\" >self-employed</th>\n                        <td id=\"T_31464_row6_col0\" class=\"data row6 col0\" >33</td>\n                        <td id=\"T_31464_row6_col1\" class=\"data row6 col1\" >765</td>\n                        <td id=\"T_31464_row6_col2\" class=\"data row6 col2\" >229</td>\n                        <td id=\"T_31464_row6_col3\" class=\"data row6 col3\" >187</td>\n            </tr>\n            <tr>\n                        <th id=\"T_31464_level0_row7\" class=\"row_heading level0 row7\" >services</th>\n                        <td id=\"T_31464_row7_col0\" class=\"data row7 col0\" >75</td>\n                        <td id=\"T_31464_row7_col1\" class=\"data row7 col1\" >2766</td>\n                        <td id=\"T_31464_row7_col2\" class=\"data row7 col2\" >836</td>\n                        <td id=\"T_31464_row7_col3\" class=\"data row7 col3\" >369</td>\n            </tr>\n            <tr>\n                        <th id=\"T_31464_level0_row8\" class=\"row_heading level0 row8\" >student</th>\n                        <td id=\"T_31464_row8_col0\" class=\"data row8 col0\" >3</td>\n                        <td id=\"T_31464_row8_col1\" class=\"data row8 col1\" >249</td>\n                        <td id=\"T_31464_row8_col2\" class=\"data row8 col2\" >12</td>\n                        <td id=\"T_31464_row8_col3\" class=\"data row8 col3\" >269</td>\n            </tr>\n            <tr>\n                        <th id=\"T_31464_level0_row9\" class=\"row_heading level0 row9\" >technician</th>\n                        <td id=\"T_31464_row9_col0\" class=\"data row9 col0\" >130</td>\n                        <td id=\"T_31464_row9_col1\" class=\"data row9 col1\" >4115</td>\n                        <td id=\"T_31464_row9_col2\" class=\"data row9 col2\" >1309</td>\n                        <td id=\"T_31464_row9_col3\" class=\"data row9 col3\" >840</td>\n            </tr>\n            <tr>\n                        <th id=\"T_31464_level0_row10\" class=\"row_heading level0 row10\" >unemployed</th>\n                        <td id=\"T_31464_row10_col0\" class=\"data row10 col0\" >30</td>\n                        <td id=\"T_31464_row10_col1\" class=\"data row10 col1\" >543</td>\n                        <td id=\"T_31464_row10_col2\" class=\"data row10 col2\" >109</td>\n                        <td id=\"T_31464_row10_col3\" class=\"data row10 col3\" >202</td>\n            </tr>\n            <tr>\n                        <th id=\"T_31464_level0_row11\" class=\"row_heading level0 row11\" >unknown</th>\n                        <td id=\"T_31464_row11_col0\" class=\"data row11 col0\" >2</td>\n                        <td id=\"T_31464_row11_col1\" class=\"data row11 col1\" >26</td>\n                        <td id=\"T_31464_row11_col2\" class=\"data row11 col2\" >4</td>\n                        <td id=\"T_31464_row11_col3\" class=\"data row11 col3\" >34</td>\n            </tr>\n    </tbody></table>"
     },
     "metadata": {}
    }
   ]
  },
  {
   "cell_type": "markdown",
   "source": "From changing the yes and no's to 0's and 1's, we were able to group the data by jobs and sum up the 1's to give us the total amount of people who have credit in default, housing loan, personal loan and who have said yes so far.\n\nFrom this, we are clearly able to see that the blue-collar industry is the industry with the highest amount of people with credit in default, housing loans and personal loans but the people who are in management industry have the most amount of people who have said yes so far.\n\nThe unkowns are the minimum in every category.",
   "metadata": {
    "tags": [],
    "cell_id": "00031-7ff8381b-ceea-481a-8522-ec1882d3f238",
    "deepnote_cell_type": "markdown"
   }
  },
  {
   "cell_type": "code",
   "metadata": {
    "tags": [],
    "cell_id": "00022-6cea34be-acbc-4d2e-961f-2b26f0f1ce45",
    "deepnote_to_be_reexecuted": false,
    "source_hash": "fc88519e",
    "execution_start": 1636106408547,
    "execution_millis": 212,
    "deepnote_cell_type": "code"
   },
   "source": "data.groupby('education').mean()[['age','balance']].style.highlight_max(color='lightblue').highlight_min(color='pink')",
   "execution_count": 18,
   "outputs": [
    {
     "output_type": "execute_result",
     "execution_count": 18,
     "data": {
      "text/plain": "<pandas.io.formats.style.Styler at 0x7fa65f114d50>",
      "text/html": "<style  type=\"text/css\" >\n#T_f43cf_row0_col0,#T_f43cf_row2_col1{\n            background-color:  lightblue;\n        }#T_f43cf_row1_col1,#T_f43cf_row2_col0{\n            background-color:  pink;\n        }</style><table id=\"T_f43cf_\" ><thead>    <tr>        <th class=\"blank level0\" ></th>        <th class=\"col_heading level0 col0\" >age</th>        <th class=\"col_heading level0 col1\" >balance</th>    </tr>    <tr>        <th class=\"index_name level0\" >education</th>        <th class=\"blank\" ></th>        <th class=\"blank\" ></th>    </tr></thead><tbody>\n                <tr>\n                        <th id=\"T_f43cf_level0_row0\" class=\"row_heading level0 row0\" >primary</th>\n                        <td id=\"T_f43cf_row0_col0\" class=\"data row0 col0\" >45.865567</td>\n                        <td id=\"T_f43cf_row0_col1\" class=\"data row0 col1\" >1250.949934</td>\n            </tr>\n            <tr>\n                        <th id=\"T_f43cf_level0_row1\" class=\"row_heading level0 row1\" >secondary</th>\n                        <td id=\"T_f43cf_row1_col0\" class=\"data row1 col0\" >39.964270</td>\n                        <td id=\"T_f43cf_row1_col1\" class=\"data row1 col1\" >1154.880786</td>\n            </tr>\n            <tr>\n                        <th id=\"T_f43cf_level0_row2\" class=\"row_heading level0 row2\" >tertiary</th>\n                        <td id=\"T_f43cf_row2_col0\" class=\"data row2 col0\" >39.593640</td>\n                        <td id=\"T_f43cf_row2_col1\" class=\"data row2 col1\" >1758.416435</td>\n            </tr>\n            <tr>\n                        <th id=\"T_f43cf_level0_row3\" class=\"row_heading level0 row3\" >unknown</th>\n                        <td id=\"T_f43cf_row3_col0\" class=\"data row3 col0\" >44.510501</td>\n                        <td id=\"T_f43cf_row3_col1\" class=\"data row3 col1\" >1526.754443</td>\n            </tr>\n    </tbody></table>"
     },
     "metadata": {}
    }
   ]
  },
  {
   "cell_type": "markdown",
   "source": "From grouping the data by education we see that people who only have a primary education have the highest mean age. \n\nTertiary have the lowest mean age but highest mean balance.\n\nSeconadary have the lowest mean balance.",
   "metadata": {
    "tags": [],
    "cell_id": "00033-44cefc37-3732-48fa-aba2-63598db5971a",
    "deepnote_cell_type": "markdown"
   }
  },
  {
   "cell_type": "code",
   "metadata": {
    "tags": [],
    "cell_id": "00023-18d1a605-9f67-4a03-bf4c-071c3b26628b",
    "deepnote_to_be_reexecuted": false,
    "source_hash": "e3ffbed0",
    "execution_start": 1636106408611,
    "execution_millis": 149,
    "deepnote_cell_type": "code"
   },
   "source": "data.groupby('education').sum()[['credit_default','housing_loan','personal_loan','y']].style.highlight_max(color='lightblue').highlight_min(color='pink')",
   "execution_count": 19,
   "outputs": [
    {
     "output_type": "execute_result",
     "execution_count": 19,
     "data": {
      "text/plain": "<pandas.io.formats.style.Styler at 0x7fa65ed3bf90>",
      "text/html": "<style  type=\"text/css\" >\n#T_3f397_row1_col0,#T_3f397_row1_col1,#T_3f397_row1_col2,#T_3f397_row1_col3{\n            background-color:  lightblue;\n        }#T_3f397_row3_col0,#T_3f397_row3_col1,#T_3f397_row3_col2,#T_3f397_row3_col3{\n            background-color:  pink;\n        }</style><table id=\"T_3f397_\" ><thead>    <tr>        <th class=\"blank level0\" ></th>        <th class=\"col_heading level0 col0\" >credit_default</th>        <th class=\"col_heading level0 col1\" >housing_loan</th>        <th class=\"col_heading level0 col2\" >personal_loan</th>        <th class=\"col_heading level0 col3\" >y</th>    </tr>    <tr>        <th class=\"index_name level0\" >education</th>        <th class=\"blank\" ></th>        <th class=\"blank\" ></th>        <th class=\"blank\" ></th>        <th class=\"blank\" ></th>    </tr></thead><tbody>\n                <tr>\n                        <th id=\"T_3f397_level0_row0\" class=\"row_heading level0 row0\" >primary</th>\n                        <td id=\"T_3f397_row0_col0\" class=\"data row0 col0\" >127</td>\n                        <td id=\"T_3f397_row0_col1\" class=\"data row0 col1\" >3894</td>\n                        <td id=\"T_3f397_row0_col2\" class=\"data row0 col2\" >1024</td>\n                        <td id=\"T_3f397_row0_col3\" class=\"data row0 col3\" >591</td>\n            </tr>\n            <tr>\n                        <th id=\"T_3f397_level0_row1\" class=\"row_heading level0 row1\" >secondary</th>\n                        <td id=\"T_3f397_row1_col0\" class=\"data row1 col0\" >458</td>\n                        <td id=\"T_3f397_row1_col1\" class=\"data row1 col1\" >14038</td>\n                        <td id=\"T_3f397_row1_col2\" class=\"data row1 col2\" >4303</td>\n                        <td id=\"T_3f397_row1_col3\" class=\"data row1 col3\" >2450</td>\n            </tr>\n            <tr>\n                        <th id=\"T_3f397_level0_row2\" class=\"row_heading level0 row2\" >tertiary</th>\n                        <td id=\"T_3f397_row2_col0\" class=\"data row2 col0\" >198</td>\n                        <td id=\"T_3f397_row2_col1\" class=\"data row2 col1\" >6378</td>\n                        <td id=\"T_3f397_row2_col2\" class=\"data row2 col2\" >1784</td>\n                        <td id=\"T_3f397_row2_col3\" class=\"data row2 col3\" >1996</td>\n            </tr>\n            <tr>\n                        <th id=\"T_3f397_level0_row3\" class=\"row_heading level0 row3\" >unknown</th>\n                        <td id=\"T_3f397_row3_col0\" class=\"data row3 col0\" >32</td>\n                        <td id=\"T_3f397_row3_col1\" class=\"data row3 col1\" >820</td>\n                        <td id=\"T_3f397_row3_col2\" class=\"data row3 col2\" >133</td>\n                        <td id=\"T_3f397_row3_col3\" class=\"data row3 col3\" >252</td>\n            </tr>\n    </tbody></table>"
     },
     "metadata": {}
    }
   ]
  },
  {
   "cell_type": "markdown",
   "source": "From an education point of view we notice that secondary have the most people within all categories.\n\nThe unkowns account for the lowest in all categories but primary follows after, also in all categories.",
   "metadata": {
    "tags": [],
    "cell_id": "00035-6c8c7926-a6b8-4571-be8d-d0238417db4f",
    "deepnote_cell_type": "markdown"
   }
  },
  {
   "cell_type": "code",
   "metadata": {
    "tags": [],
    "cell_id": "00023-e3182f2b-8bd8-47eb-b784-4a8ddef021c3",
    "deepnote_to_be_reexecuted": false,
    "source_hash": "f8e4d779",
    "execution_start": 1636106408694,
    "execution_millis": 74,
    "deepnote_cell_type": "code"
   },
   "source": "data.groupby('marital').mean()[['age','balance']].style.highlight_max(color='lightblue').highlight_min(color='pink')",
   "execution_count": 20,
   "outputs": [
    {
     "output_type": "execute_result",
     "execution_count": 20,
     "data": {
      "text/plain": "<pandas.io.formats.style.Styler at 0x7fa65ed9a850>",
      "text/html": "<style  type=\"text/css\" >\n#T_dd7e5_row0_col0,#T_dd7e5_row1_col1{\n            background-color:  lightblue;\n        }#T_dd7e5_row0_col1,#T_dd7e5_row2_col0{\n            background-color:  pink;\n        }</style><table id=\"T_dd7e5_\" ><thead>    <tr>        <th class=\"blank level0\" ></th>        <th class=\"col_heading level0 col0\" >age</th>        <th class=\"col_heading level0 col1\" >balance</th>    </tr>    <tr>        <th class=\"index_name level0\" >marital</th>        <th class=\"blank\" ></th>        <th class=\"blank\" ></th>    </tr></thead><tbody>\n                <tr>\n                        <th id=\"T_dd7e5_level0_row0\" class=\"row_heading level0 row0\" >divorced</th>\n                        <td id=\"T_dd7e5_row0_col0\" class=\"data row0 col0\" >45.782984</td>\n                        <td id=\"T_dd7e5_row0_col1\" class=\"data row0 col1\" >1178.872287</td>\n            </tr>\n            <tr>\n                        <th id=\"T_dd7e5_level0_row1\" class=\"row_heading level0 row1\" >married</th>\n                        <td id=\"T_dd7e5_row1_col0\" class=\"data row1 col0\" >43.408099</td>\n                        <td id=\"T_dd7e5_row1_col1\" class=\"data row1 col1\" >1425.925590</td>\n            </tr>\n            <tr>\n                        <th id=\"T_dd7e5_level0_row2\" class=\"row_heading level0 row2\" >single</th>\n                        <td id=\"T_dd7e5_row2_col0\" class=\"data row2 col0\" >33.703440</td>\n                        <td id=\"T_dd7e5_row2_col1\" class=\"data row2 col1\" >1301.497654</td>\n            </tr>\n    </tbody></table>"
     },
     "metadata": {}
    }
   ]
  },
  {
   "cell_type": "markdown",
   "source": "We decided to group by marital status and we see that people who are divorced or widowed hvae the highest mean age but lowest mean balance. \n\nsingle people have the lowest mean age and married people have the higest mean balance.",
   "metadata": {
    "tags": [],
    "cell_id": "00037-85a68fc4-9b99-4a76-bbcd-9234f5e9a1b4",
    "deepnote_cell_type": "markdown"
   }
  },
  {
   "cell_type": "code",
   "metadata": {
    "tags": [],
    "cell_id": "00026-380f8c2e-3606-42e1-a7f1-1be4bf1ea515",
    "deepnote_to_be_reexecuted": false,
    "source_hash": "a5ebacc",
    "execution_start": 1636106408773,
    "execution_millis": 83,
    "deepnote_cell_type": "code"
   },
   "source": "data.groupby('marital').sum()[['credit_default','housing_loan','personal_loan','y']].style.highlight_max(color='lightblue').highlight_min(color='pink')",
   "execution_count": 21,
   "outputs": [
    {
     "output_type": "execute_result",
     "execution_count": 21,
     "data": {
      "text/plain": "<pandas.io.formats.style.Styler at 0x7fa66c01a890>",
      "text/html": "<style  type=\"text/css\" >\n#T_19c3b_row0_col0,#T_19c3b_row0_col1,#T_19c3b_row0_col2,#T_19c3b_row0_col3{\n            background-color:  pink;\n        }#T_19c3b_row1_col0,#T_19c3b_row1_col1,#T_19c3b_row1_col2,#T_19c3b_row1_col3{\n            background-color:  lightblue;\n        }</style><table id=\"T_19c3b_\" ><thead>    <tr>        <th class=\"blank level0\" ></th>        <th class=\"col_heading level0 col0\" >credit_default</th>        <th class=\"col_heading level0 col1\" >housing_loan</th>        <th class=\"col_heading level0 col2\" >personal_loan</th>        <th class=\"col_heading level0 col3\" >y</th>    </tr>    <tr>        <th class=\"index_name level0\" >marital</th>        <th class=\"blank\" ></th>        <th class=\"blank\" ></th>        <th class=\"blank\" ></th>        <th class=\"blank\" ></th>    </tr></thead><tbody>\n                <tr>\n                        <th id=\"T_19c3b_level0_row0\" class=\"row_heading level0 row0\" >divorced</th>\n                        <td id=\"T_19c3b_row0_col0\" class=\"data row0 col0\" >128</td>\n                        <td id=\"T_19c3b_row0_col1\" class=\"data row0 col1\" >2907</td>\n                        <td id=\"T_19c3b_row0_col2\" class=\"data row0 col2\" >921</td>\n                        <td id=\"T_19c3b_row0_col3\" class=\"data row0 col3\" >622</td>\n            </tr>\n            <tr>\n                        <th id=\"T_19c3b_level0_row1\" class=\"row_heading level0 row1\" >married</th>\n                        <td id=\"T_19c3b_row1_col0\" class=\"data row1 col0\" >448</td>\n                        <td id=\"T_19c3b_row1_col1\" class=\"data row1 col1\" >15321</td>\n                        <td id=\"T_19c3b_row1_col2\" class=\"data row1 col2\" >4660</td>\n                        <td id=\"T_19c3b_row1_col3\" class=\"data row1 col3\" >2755</td>\n            </tr>\n            <tr>\n                        <th id=\"T_19c3b_level0_row2\" class=\"row_heading level0 row2\" >single</th>\n                        <td id=\"T_19c3b_row2_col0\" class=\"data row2 col0\" >239</td>\n                        <td id=\"T_19c3b_row2_col1\" class=\"data row2 col1\" >6902</td>\n                        <td id=\"T_19c3b_row2_col2\" class=\"data row2 col2\" >1663</td>\n                        <td id=\"T_19c3b_row2_col3\" class=\"data row2 col3\" >1912</td>\n            </tr>\n    </tbody></table>"
     },
     "metadata": {}
    }
   ]
  },
  {
   "cell_type": "markdown",
   "source": "Married people have the majority in reagrds to every category and divorced or widowed people are the minority.",
   "metadata": {
    "tags": [],
    "cell_id": "00039-a7f070a2-a64b-4a3a-bfee-55fefbe2c4e8",
    "deepnote_cell_type": "markdown"
   }
  },
  {
   "cell_type": "markdown",
   "source": "",
   "metadata": {
    "tags": [],
    "cell_id": "00040-72b59053-5405-493a-906d-6fe73841a762",
    "deepnote_cell_type": "markdown"
   }
  },
  {
   "cell_type": "markdown",
   "source": "",
   "metadata": {
    "tags": [],
    "cell_id": "00040-517d458b-0d03-42d2-bfcc-965c41a90564",
    "deepnote_cell_type": "markdown"
   }
  },
  {
   "cell_type": "markdown",
   "source": "We want to look at the previous campaign and understand what factors make up a successful subscription.",
   "metadata": {
    "tags": [],
    "cell_id": "00010-b60b768f-a387-443d-b136-9b30a61f1864",
    "deepnote_cell_type": "markdown"
   }
  },
  {
   "cell_type": "code",
   "metadata": {
    "tags": [],
    "cell_id": "00011-0fdadc0a-77db-4792-8170-ef41592662eb",
    "deepnote_to_be_reexecuted": false,
    "source_hash": "73101629",
    "execution_start": 1636106408859,
    "execution_millis": 155,
    "deepnote_cell_type": "code"
   },
   "source": "# checking the number of people who have said yes both in the previous and the current campaigns\ndata[(data[\"poutcome\"]==\"success\") & (data[\"y\"]==1)]",
   "execution_count": 22,
   "outputs": [
    {
     "output_type": "execute_result",
     "execution_count": 22,
     "data": {
      "application/vnd.deepnote.dataframe.v2+json": {
       "row_count": 978,
       "column_count": 19,
       "columns": [
        {
         "name": "age",
         "dtype": "int64",
         "stats": {
          "unique_count": 70,
          "nan_count": 0,
          "min": "18",
          "max": "93",
          "histogram": [
           {
            "bin_start": 18,
            "bin_end": 25.5,
            "count": 59
           },
           {
            "bin_start": 25.5,
            "bin_end": 33,
            "count": 200
           },
           {
            "bin_start": 33,
            "bin_end": 40.5,
            "count": 242
           },
           {
            "bin_start": 40.5,
            "bin_end": 48,
            "count": 131
           },
           {
            "bin_start": 48,
            "bin_end": 55.5,
            "count": 123
           },
           {
            "bin_start": 55.5,
            "bin_end": 63,
            "count": 115
           },
           {
            "bin_start": 63,
            "bin_end": 70.5,
            "count": 50
           },
           {
            "bin_start": 70.5,
            "bin_end": 78,
            "count": 38
           },
           {
            "bin_start": 78,
            "bin_end": 85.5,
            "count": 16
           },
           {
            "bin_start": 85.5,
            "bin_end": 93,
            "count": 4
           }
          ]
         }
        },
        {
         "name": "age_group",
         "dtype": "category",
         "stats": {
          "unique_count": 9,
          "nan_count": 0,
          "categories": [
           {
            "name": "30-39",
            "count": 319
           },
           {
            "name": "40-49",
            "count": 191
           },
           {
            "name": "7 others",
            "count": 468
           }
          ]
         }
        },
        {
         "name": "job",
         "dtype": "object",
         "stats": {
          "unique_count": 12,
          "nan_count": 0,
          "categories": [
           {
            "name": "management",
            "count": 266
           },
           {
            "name": "technician",
            "count": 138
           },
           {
            "name": "10 others",
            "count": 574
           }
          ]
         }
        },
        {
         "name": "marital",
         "dtype": "object",
         "stats": {
          "unique_count": 3,
          "nan_count": 0,
          "categories": [
           {
            "name": "married",
            "count": 547
           },
           {
            "name": "single",
            "count": 338
           },
           {
            "name": "divorced",
            "count": 93
           }
          ]
         }
        },
        {
         "name": "education",
         "dtype": "object",
         "stats": {
          "unique_count": 4,
          "nan_count": 0,
          "categories": [
           {
            "name": "secondary",
            "count": 433
           },
           {
            "name": "tertiary",
            "count": 409
           },
           {
            "name": "2 others",
            "count": 136
           }
          ]
         }
        },
        {
         "name": "credit_default",
         "dtype": "int64",
         "stats": {
          "unique_count": 1,
          "nan_count": 0,
          "min": "0",
          "max": "0",
          "histogram": [
           {
            "bin_start": -0.5,
            "bin_end": -0.4,
            "count": 0
           },
           {
            "bin_start": -0.4,
            "bin_end": -0.3,
            "count": 0
           },
           {
            "bin_start": -0.3,
            "bin_end": -0.19999999999999996,
            "count": 0
           },
           {
            "bin_start": -0.19999999999999996,
            "bin_end": -0.09999999999999998,
            "count": 0
           },
           {
            "bin_start": -0.09999999999999998,
            "bin_end": 0,
            "count": 0
           },
           {
            "bin_start": 0,
            "bin_end": 0.10000000000000009,
            "count": 978
           },
           {
            "bin_start": 0.10000000000000009,
            "bin_end": 0.20000000000000007,
            "count": 0
           },
           {
            "bin_start": 0.20000000000000007,
            "bin_end": 0.30000000000000004,
            "count": 0
           },
           {
            "bin_start": 0.30000000000000004,
            "bin_end": 0.4,
            "count": 0
           },
           {
            "bin_start": 0.4,
            "bin_end": 0.5,
            "count": 0
           }
          ]
         }
        },
        {
         "name": "balance",
         "dtype": "int64",
         "stats": {
          "unique_count": 619,
          "nan_count": 0,
          "min": "-309",
          "max": "81204",
          "histogram": [
           {
            "bin_start": -309,
            "bin_end": 7842.3,
            "count": 930
           },
           {
            "bin_start": 7842.3,
            "bin_end": 15993.6,
            "count": 40
           },
           {
            "bin_start": 15993.6,
            "bin_end": 24144.9,
            "count": 3
           },
           {
            "bin_start": 24144.9,
            "bin_end": 32296.2,
            "count": 3
           },
           {
            "bin_start": 32296.2,
            "bin_end": 40447.5,
            "count": 0
           },
           {
            "bin_start": 40447.5,
            "bin_end": 48598.8,
            "count": 0
           },
           {
            "bin_start": 48598.8,
            "bin_end": 56750.1,
            "count": 1
           },
           {
            "bin_start": 56750.1,
            "bin_end": 64901.4,
            "count": 0
           },
           {
            "bin_start": 64901.4,
            "bin_end": 73052.7,
            "count": 0
           },
           {
            "bin_start": 73052.7,
            "bin_end": 81204,
            "count": 1
           }
          ]
         }
        },
        {
         "name": "balance_bin",
         "dtype": "category",
         "stats": {
          "unique_count": 6,
          "nan_count": 0,
          "categories": [
           {
            "name": "0-9999",
            "count": 938
           },
           {
            "name": "10000-19999",
            "count": 25
           },
           {
            "name": "4 others",
            "count": 15
           }
          ]
         }
        },
        {
         "name": "housing_loan",
         "dtype": "int64",
         "stats": {
          "unique_count": 2,
          "nan_count": 0,
          "min": "0",
          "max": "1",
          "histogram": [
           {
            "bin_start": 0,
            "bin_end": 0.1,
            "count": 729
           },
           {
            "bin_start": 0.1,
            "bin_end": 0.2,
            "count": 0
           },
           {
            "bin_start": 0.2,
            "bin_end": 0.30000000000000004,
            "count": 0
           },
           {
            "bin_start": 0.30000000000000004,
            "bin_end": 0.4,
            "count": 0
           },
           {
            "bin_start": 0.4,
            "bin_end": 0.5,
            "count": 0
           },
           {
            "bin_start": 0.5,
            "bin_end": 0.6000000000000001,
            "count": 0
           },
           {
            "bin_start": 0.6000000000000001,
            "bin_end": 0.7000000000000001,
            "count": 0
           },
           {
            "bin_start": 0.7000000000000001,
            "bin_end": 0.8,
            "count": 0
           },
           {
            "bin_start": 0.8,
            "bin_end": 0.9,
            "count": 0
           },
           {
            "bin_start": 0.9,
            "bin_end": 1,
            "count": 249
           }
          ]
         }
        },
        {
         "name": "personal_loan",
         "dtype": "int64",
         "stats": {
          "unique_count": 2,
          "nan_count": 0,
          "min": "0",
          "max": "1",
          "histogram": [
           {
            "bin_start": 0,
            "bin_end": 0.1,
            "count": 934
           },
           {
            "bin_start": 0.1,
            "bin_end": 0.2,
            "count": 0
           },
           {
            "bin_start": 0.2,
            "bin_end": 0.30000000000000004,
            "count": 0
           },
           {
            "bin_start": 0.30000000000000004,
            "bin_end": 0.4,
            "count": 0
           },
           {
            "bin_start": 0.4,
            "bin_end": 0.5,
            "count": 0
           },
           {
            "bin_start": 0.5,
            "bin_end": 0.6000000000000001,
            "count": 0
           },
           {
            "bin_start": 0.6000000000000001,
            "bin_end": 0.7000000000000001,
            "count": 0
           },
           {
            "bin_start": 0.7000000000000001,
            "bin_end": 0.8,
            "count": 0
           },
           {
            "bin_start": 0.8,
            "bin_end": 0.9,
            "count": 0
           },
           {
            "bin_start": 0.9,
            "bin_end": 1,
            "count": 44
           }
          ]
         }
        },
        {
         "name": "contact_means",
         "dtype": "object",
         "stats": {
          "unique_count": 3,
          "nan_count": 0,
          "categories": [
           {
            "name": "cellular",
            "count": 900
           },
           {
            "name": "telephone",
            "count": 75
           },
           {
            "name": "unknown",
            "count": 3
           }
          ]
         }
        },
        {
         "name": "day",
         "dtype": "int64",
         "stats": {
          "unique_count": 31,
          "nan_count": 0,
          "min": "1",
          "max": "31",
          "histogram": [
           {
            "bin_start": 1,
            "bin_end": 4,
            "count": 90
           },
           {
            "bin_start": 4,
            "bin_end": 7,
            "count": 113
           },
           {
            "bin_start": 7,
            "bin_end": 10,
            "count": 102
           },
           {
            "bin_start": 10,
            "bin_end": 13,
            "count": 147
           },
           {
            "bin_start": 13,
            "bin_end": 16,
            "count": 141
           },
           {
            "bin_start": 16,
            "bin_end": 19,
            "count": 73
           },
           {
            "bin_start": 19,
            "bin_end": 22,
            "count": 58
           },
           {
            "bin_start": 22,
            "bin_end": 25,
            "count": 75
           },
           {
            "bin_start": 25,
            "bin_end": 28,
            "count": 81
           },
           {
            "bin_start": 28,
            "bin_end": 31,
            "count": 98
           }
          ]
         }
        },
        {
         "name": "month",
         "dtype": "object",
         "stats": {
          "unique_count": 12,
          "nan_count": 0,
          "categories": [
           {
            "name": "aug",
            "count": 132
           },
           {
            "name": "may",
            "count": 120
           },
           {
            "name": "10 others",
            "count": 726
           }
          ]
         }
        },
        {
         "name": "duration",
         "dtype": "int64",
         "stats": {
          "unique_count": 497,
          "nan_count": 0,
          "min": "25",
          "max": "2062",
          "histogram": [
           {
            "bin_start": 25,
            "bin_end": 228.7,
            "count": 312
           },
           {
            "bin_start": 228.7,
            "bin_end": 432.4,
            "count": 420
           },
           {
            "bin_start": 432.4,
            "bin_end": 636.0999999999999,
            "count": 135
           },
           {
            "bin_start": 636.0999999999999,
            "bin_end": 839.8,
            "count": 56
           },
           {
            "bin_start": 839.8,
            "bin_end": 1043.5,
            "count": 32
           },
           {
            "bin_start": 1043.5,
            "bin_end": 1247.1999999999998,
            "count": 15
           },
           {
            "bin_start": 1247.1999999999998,
            "bin_end": 1450.8999999999999,
            "count": 2
           },
           {
            "bin_start": 1450.8999999999999,
            "bin_end": 1654.6,
            "count": 2
           },
           {
            "bin_start": 1654.6,
            "bin_end": 1858.3,
            "count": 3
           },
           {
            "bin_start": 1858.3,
            "bin_end": 2062,
            "count": 1
           }
          ]
         }
        },
        {
         "name": "no_of_calls",
         "dtype": "int64",
         "stats": {
          "unique_count": 9,
          "nan_count": 0,
          "min": "1",
          "max": "11",
          "histogram": [
           {
            "bin_start": 1,
            "bin_end": 2,
            "count": 557
           },
           {
            "bin_start": 2,
            "bin_end": 3,
            "count": 258
           },
           {
            "bin_start": 3,
            "bin_end": 4,
            "count": 105
           },
           {
            "bin_start": 4,
            "bin_end": 5,
            "count": 28
           },
           {
            "bin_start": 5,
            "bin_end": 6,
            "count": 12
           },
           {
            "bin_start": 6,
            "bin_end": 7,
            "count": 14
           },
           {
            "bin_start": 7,
            "bin_end": 8,
            "count": 1
           },
           {
            "bin_start": 8,
            "bin_end": 9,
            "count": 2
           },
           {
            "bin_start": 9,
            "bin_end": 10,
            "count": 0
           },
           {
            "bin_start": 10,
            "bin_end": 11,
            "count": 1
           }
          ]
         }
        },
        {
         "name": "pdaystillnow",
         "dtype": "int64",
         "stats": {
          "unique_count": 230,
          "nan_count": 0,
          "min": "1",
          "max": "561",
          "histogram": [
           {
            "bin_start": 1,
            "bin_end": 57,
            "count": 23
           },
           {
            "bin_start": 57,
            "bin_end": 113,
            "count": 417
           },
           {
            "bin_start": 113,
            "bin_end": 169,
            "count": 41
           },
           {
            "bin_start": 169,
            "bin_end": 225,
            "count": 366
           },
           {
            "bin_start": 225,
            "bin_end": 281,
            "count": 29
           },
           {
            "bin_start": 281,
            "bin_end": 337,
            "count": 31
           },
           {
            "bin_start": 337,
            "bin_end": 393,
            "count": 38
           },
           {
            "bin_start": 393,
            "bin_end": 449,
            "count": 16
           },
           {
            "bin_start": 449,
            "bin_end": 505,
            "count": 12
           },
           {
            "bin_start": 505,
            "bin_end": 561,
            "count": 5
           }
          ]
         }
        },
        {
         "name": "pnum_calls",
         "dtype": "int64",
         "stats": {
          "unique_count": 15,
          "nan_count": 0,
          "min": "1",
          "max": "21",
          "histogram": [
           {
            "bin_start": 1,
            "bin_end": 3,
            "count": 523
           },
           {
            "bin_start": 3,
            "bin_end": 5,
            "count": 251
           },
           {
            "bin_start": 5,
            "bin_end": 7,
            "count": 111
           },
           {
            "bin_start": 7,
            "bin_end": 9,
            "count": 47
           },
           {
            "bin_start": 9,
            "bin_end": 11,
            "count": 28
           },
           {
            "bin_start": 11,
            "bin_end": 13,
            "count": 10
           },
           {
            "bin_start": 13,
            "bin_end": 15,
            "count": 7
           },
           {
            "bin_start": 15,
            "bin_end": 17,
            "count": 0
           },
           {
            "bin_start": 17,
            "bin_end": 19,
            "count": 0
           },
           {
            "bin_start": 19,
            "bin_end": 21,
            "count": 1
           }
          ]
         }
        },
        {
         "name": "poutcome",
         "dtype": "object",
         "stats": {
          "unique_count": 1,
          "nan_count": 0,
          "categories": [
           {
            "name": "success",
            "count": 978
           }
          ]
         }
        },
        {
         "name": "y",
         "dtype": "int64",
         "stats": {
          "unique_count": 1,
          "nan_count": 0,
          "min": "1",
          "max": "1",
          "histogram": [
           {
            "bin_start": 0.5,
            "bin_end": 0.6,
            "count": 0
           },
           {
            "bin_start": 0.6,
            "bin_end": 0.7,
            "count": 0
           },
           {
            "bin_start": 0.7,
            "bin_end": 0.8,
            "count": 0
           },
           {
            "bin_start": 0.8,
            "bin_end": 0.9,
            "count": 0
           },
           {
            "bin_start": 0.9,
            "bin_end": 1,
            "count": 0
           },
           {
            "bin_start": 1,
            "bin_end": 1.1,
            "count": 978
           },
           {
            "bin_start": 1.1,
            "bin_end": 1.2000000000000002,
            "count": 0
           },
           {
            "bin_start": 1.2000000000000002,
            "bin_end": 1.3,
            "count": 0
           },
           {
            "bin_start": 1.3,
            "bin_end": 1.4,
            "count": 0
           },
           {
            "bin_start": 1.4,
            "bin_end": 1.5,
            "count": 0
           }
          ]
         }
        },
        {
         "name": "_deepnote_index_column",
         "dtype": "int64"
        }
       ],
       "rows_top": [
        {
         "age": 56,
         "age_group": "50-59",
         "job": "technician",
         "marital": "married",
         "education": "secondary",
         "credit_default": 0,
         "balance": 589,
         "balance_bin": "0-9999",
         "housing_loan": 1,
         "personal_loan": 0,
         "contact_means": "unknown",
         "day": 23,
         "month": "oct",
         "duration": 518,
         "no_of_calls": 1,
         "pdaystillnow": 147,
         "pnum_calls": 2,
         "poutcome": "success",
         "y": 1,
         "_deepnote_index_column": 24080
        },
        {
         "age": 53,
         "age_group": "50-59",
         "job": "retired",
         "marital": "married",
         "education": "tertiary",
         "credit_default": 0,
         "balance": 2269,
         "balance_bin": "0-9999",
         "housing_loan": 0,
         "personal_loan": 0,
         "contact_means": "cellular",
         "day": 17,
         "month": "nov",
         "duration": 1091,
         "no_of_calls": 2,
         "pdaystillnow": 150,
         "pnum_calls": 1,
         "poutcome": "success",
         "y": 1,
         "_deepnote_index_column": 24622
        },
        {
         "age": 45,
         "age_group": "40-49",
         "job": "management",
         "marital": "divorced",
         "education": "secondary",
         "credit_default": 0,
         "balance": 644,
         "balance_bin": "0-9999",
         "housing_loan": 1,
         "personal_loan": 0,
         "contact_means": "cellular",
         "day": 19,
         "month": "nov",
         "duration": 418,
         "no_of_calls": 1,
         "pdaystillnow": 168,
         "pnum_calls": 1,
         "poutcome": "success",
         "y": 1,
         "_deepnote_index_column": 25555
        },
        {
         "age": 46,
         "age_group": "40-49",
         "job": "unemployed",
         "marital": "divorced",
         "education": "secondary",
         "credit_default": 0,
         "balance": 3354,
         "balance_bin": "0-9999",
         "housing_loan": 1,
         "personal_loan": 0,
         "contact_means": "cellular",
         "day": 19,
         "month": "nov",
         "duration": 522,
         "no_of_calls": 1,
         "pdaystillnow": 174,
         "pnum_calls": 1,
         "poutcome": "success",
         "y": 1,
         "_deepnote_index_column": 25845
        },
        {
         "age": 40,
         "age_group": "40-49",
         "job": "management",
         "marital": "married",
         "education": "tertiary",
         "credit_default": 0,
         "balance": 3352,
         "balance_bin": "0-9999",
         "housing_loan": 1,
         "personal_loan": 0,
         "contact_means": "cellular",
         "day": 19,
         "month": "nov",
         "duration": 639,
         "no_of_calls": 2,
         "pdaystillnow": 27,
         "pnum_calls": 1,
         "poutcome": "success",
         "y": 1,
         "_deepnote_index_column": 26100
        },
        {
         "age": 40,
         "age_group": "40-49",
         "job": "services",
         "marital": "divorced",
         "education": "secondary",
         "credit_default": 0,
         "balance": 687,
         "balance_bin": "0-9999",
         "housing_loan": 1,
         "personal_loan": 0,
         "contact_means": "cellular",
         "day": 2,
         "month": "feb",
         "duration": 531,
         "no_of_calls": 1,
         "pdaystillnow": 208,
         "pnum_calls": 1,
         "poutcome": "success",
         "y": 1,
         "_deepnote_index_column": 29194
        },
        {
         "age": 31,
         "age_group": "30-39",
         "job": "management",
         "marital": "married",
         "education": "tertiary",
         "credit_default": 0,
         "balance": 1331,
         "balance_bin": "0-9999",
         "housing_loan": 0,
         "personal_loan": 0,
         "contact_means": "cellular",
         "day": 3,
         "month": "feb",
         "duration": 182,
         "no_of_calls": 2,
         "pdaystillnow": 90,
         "pnum_calls": 1,
         "poutcome": "success",
         "y": 1,
         "_deepnote_index_column": 29613
        },
        {
         "age": 40,
         "age_group": "40-49",
         "job": "blue-collar",
         "marital": "married",
         "education": "unknown",
         "credit_default": 0,
         "balance": 1181,
         "balance_bin": "0-9999",
         "housing_loan": 1,
         "personal_loan": 0,
         "contact_means": "cellular",
         "day": 4,
         "month": "feb",
         "duration": 718,
         "no_of_calls": 2,
         "pdaystillnow": 189,
         "pnum_calls": 2,
         "poutcome": "success",
         "y": 1,
         "_deepnote_index_column": 29849
        },
        {
         "age": 38,
         "age_group": "30-39",
         "job": "admin.",
         "marital": "divorced",
         "education": "secondary",
         "credit_default": 0,
         "balance": 19,
         "balance_bin": "0-9999",
         "housing_loan": 1,
         "personal_loan": 0,
         "contact_means": "cellular",
         "day": 5,
         "month": "feb",
         "duration": 1130,
         "no_of_calls": 3,
         "pdaystillnow": 251,
         "pnum_calls": 2,
         "poutcome": "success",
         "y": 1,
         "_deepnote_index_column": 30561
        },
        {
         "age": 31,
         "age_group": "30-39",
         "job": "management",
         "marital": "single",
         "education": "tertiary",
         "credit_default": 0,
         "balance": 12857,
         "balance_bin": "10000-19999",
         "housing_loan": 1,
         "personal_loan": 0,
         "contact_means": "cellular",
         "day": 6,
         "month": "feb",
         "duration": 158,
         "no_of_calls": 1,
         "pdaystillnow": 92,
         "pnum_calls": 1,
         "poutcome": "success",
         "y": 1,
         "_deepnote_index_column": 30617
        },
        {
         "age": 33,
         "age_group": "30-39",
         "job": "blue-collar",
         "marital": "single",
         "education": "tertiary",
         "credit_default": 0,
         "balance": 700,
         "balance_bin": "0-9999",
         "housing_loan": 0,
         "personal_loan": 0,
         "contact_means": "cellular",
         "day": 9,
         "month": "feb",
         "duration": 126,
         "no_of_calls": 1,
         "pdaystillnow": 88,
         "pnum_calls": 1,
         "poutcome": "success",
         "y": 1,
         "_deepnote_index_column": 30905
        },
        {
         "age": 40,
         "age_group": "40-49",
         "job": "blue-collar",
         "marital": "married",
         "education": "secondary",
         "credit_default": 0,
         "balance": 5060,
         "balance_bin": "0-9999",
         "housing_loan": 0,
         "personal_loan": 0,
         "contact_means": "cellular",
         "day": 10,
         "month": "feb",
         "duration": 154,
         "no_of_calls": 2,
         "pdaystillnow": 93,
         "pnum_calls": 1,
         "poutcome": "success",
         "y": 1,
         "_deepnote_index_column": 31020
        },
        {
         "age": 30,
         "age_group": "30-39",
         "job": "management",
         "marital": "single",
         "education": "tertiary",
         "credit_default": 0,
         "balance": 5561,
         "balance_bin": "0-9999",
         "housing_loan": 1,
         "personal_loan": 0,
         "contact_means": "cellular",
         "day": 27,
         "month": "feb",
         "duration": 195,
         "no_of_calls": 1,
         "pdaystillnow": 100,
         "pnum_calls": 1,
         "poutcome": "success",
         "y": 1,
         "_deepnote_index_column": 31173
        },
        {
         "age": 38,
         "age_group": "30-39",
         "job": "technician",
         "marital": "married",
         "education": "secondary",
         "credit_default": 0,
         "balance": 5115,
         "balance_bin": "0-9999",
         "housing_loan": 1,
         "personal_loan": 0,
         "contact_means": "cellular",
         "day": 27,
         "month": "feb",
         "duration": 99,
         "no_of_calls": 1,
         "pdaystillnow": 102,
         "pnum_calls": 6,
         "poutcome": "success",
         "y": 1,
         "_deepnote_index_column": 31198
        },
        {
         "age": 44,
         "age_group": "40-49",
         "job": "management",
         "marital": "single",
         "education": "tertiary",
         "credit_default": 0,
         "balance": 483,
         "balance_bin": "0-9999",
         "housing_loan": 0,
         "personal_loan": 0,
         "contact_means": "cellular",
         "day": 6,
         "month": "mar",
         "duration": 207,
         "no_of_calls": 2,
         "pdaystillnow": 199,
         "pnum_calls": 6,
         "poutcome": "success",
         "y": 1,
         "_deepnote_index_column": 31281
        },
        {
         "age": 37,
         "age_group": "30-39",
         "job": "admin.",
         "marital": "married",
         "education": "secondary",
         "credit_default": 0,
         "balance": 1207,
         "balance_bin": "0-9999",
         "housing_loan": 1,
         "personal_loan": 0,
         "contact_means": "telephone",
         "day": 6,
         "month": "apr",
         "duration": 1353,
         "no_of_calls": 2,
         "pdaystillnow": 138,
         "pnum_calls": 2,
         "poutcome": "success",
         "y": 1,
         "_deepnote_index_column": 31660
        },
        {
         "age": 52,
         "age_group": "50-59",
         "job": "entrepreneur",
         "marital": "single",
         "education": "tertiary",
         "credit_default": 0,
         "balance": 3469,
         "balance_bin": "0-9999",
         "housing_loan": 1,
         "personal_loan": 0,
         "contact_means": "cellular",
         "day": 16,
         "month": "apr",
         "duration": 583,
         "no_of_calls": 1,
         "pdaystillnow": 147,
         "pnum_calls": 1,
         "poutcome": "success",
         "y": 1,
         "_deepnote_index_column": 32246
        },
        {
         "age": 32,
         "age_group": "30-39",
         "job": "management",
         "marital": "divorced",
         "education": "tertiary",
         "credit_default": 0,
         "balance": 294,
         "balance_bin": "0-9999",
         "housing_loan": 1,
         "personal_loan": 0,
         "contact_means": "cellular",
         "day": 17,
         "month": "apr",
         "duration": 1095,
         "no_of_calls": 1,
         "pdaystillnow": 274,
         "pnum_calls": 5,
         "poutcome": "success",
         "y": 1,
         "_deepnote_index_column": 32585
        },
        {
         "age": 53,
         "age_group": "50-59",
         "job": "technician",
         "marital": "married",
         "education": "secondary",
         "credit_default": 0,
         "balance": 5303,
         "balance_bin": "0-9999",
         "housing_loan": 1,
         "personal_loan": 0,
         "contact_means": "telephone",
         "day": 17,
         "month": "apr",
         "duration": 320,
         "no_of_calls": 3,
         "pdaystillnow": 180,
         "pnum_calls": 1,
         "poutcome": "success",
         "y": 1,
         "_deepnote_index_column": 33024
        },
        {
         "age": 50,
         "age_group": "50-59",
         "job": "unknown",
         "marital": "married",
         "education": "primary",
         "credit_default": 0,
         "balance": 341,
         "balance_bin": "0-9999",
         "housing_loan": 1,
         "personal_loan": 1,
         "contact_means": "cellular",
         "day": 20,
         "month": "apr",
         "duration": 670,
         "no_of_calls": 4,
         "pdaystillnow": 340,
         "pnum_calls": 2,
         "poutcome": "success",
         "y": 1,
         "_deepnote_index_column": 33195
        },
        {
         "age": 29,
         "age_group": "20-29",
         "job": "self-employed",
         "marital": "married",
         "education": "secondary",
         "credit_default": 0,
         "balance": 123,
         "balance_bin": "0-9999",
         "housing_loan": 0,
         "personal_loan": 1,
         "contact_means": "cellular",
         "day": 21,
         "month": "apr",
         "duration": 158,
         "no_of_calls": 2,
         "pdaystillnow": 181,
         "pnum_calls": 1,
         "poutcome": "success",
         "y": 1,
         "_deepnote_index_column": 33716
        },
        {
         "age": 32,
         "age_group": "30-39",
         "job": "technician",
         "marital": "single",
         "education": "tertiary",
         "credit_default": 0,
         "balance": 5514,
         "balance_bin": "0-9999",
         "housing_loan": 0,
         "personal_loan": 0,
         "contact_means": "cellular",
         "day": 22,
         "month": "apr",
         "duration": 319,
         "no_of_calls": 1,
         "pdaystillnow": 182,
         "pnum_calls": 1,
         "poutcome": "success",
         "y": 1,
         "_deepnote_index_column": 33742
        },
        {
         "age": 45,
         "age_group": "40-49",
         "job": "admin.",
         "marital": "divorced",
         "education": "primary",
         "credit_default": 0,
         "balance": 429,
         "balance_bin": "0-9999",
         "housing_loan": 1,
         "personal_loan": 0,
         "contact_means": "cellular",
         "day": 22,
         "month": "apr",
         "duration": 147,
         "no_of_calls": 1,
         "pdaystillnow": 181,
         "pnum_calls": 1,
         "poutcome": "success",
         "y": 1,
         "_deepnote_index_column": 33748
        },
        {
         "age": 38,
         "age_group": "30-39",
         "job": "services",
         "marital": "married",
         "education": "secondary",
         "credit_default": 0,
         "balance": 1970,
         "balance_bin": "0-9999",
         "housing_loan": 1,
         "personal_loan": 0,
         "contact_means": "cellular",
         "day": 30,
         "month": "apr",
         "duration": 701,
         "no_of_calls": 1,
         "pdaystillnow": 176,
         "pnum_calls": 1,
         "poutcome": "success",
         "y": 1,
         "_deepnote_index_column": 33876
        },
        {
         "age": 36,
         "age_group": "30-39",
         "job": "unemployed",
         "marital": "single",
         "education": "tertiary",
         "credit_default": 0,
         "balance": 1291,
         "balance_bin": "0-9999",
         "housing_loan": 0,
         "personal_loan": 0,
         "contact_means": "cellular",
         "day": 30,
         "month": "apr",
         "duration": 195,
         "no_of_calls": 1,
         "pdaystillnow": 86,
         "pnum_calls": 1,
         "poutcome": "success",
         "y": 1,
         "_deepnote_index_column": 33884
        },
        {
         "age": 47,
         "age_group": "40-49",
         "job": "blue-collar",
         "marital": "married",
         "education": "secondary",
         "credit_default": 0,
         "balance": 1230,
         "balance_bin": "0-9999",
         "housing_loan": 1,
         "personal_loan": 0,
         "contact_means": "cellular",
         "day": 30,
         "month": "apr",
         "duration": 412,
         "no_of_calls": 1,
         "pdaystillnow": 169,
         "pnum_calls": 1,
         "poutcome": "success",
         "y": 1,
         "_deepnote_index_column": 33894
        }
       ],
       "rows_bottom": [
        {
         "age": 31,
         "age_group": "30-39",
         "job": "admin.",
         "marital": "single",
         "education": "secondary",
         "credit_default": 0,
         "balance": 410,
         "balance_bin": "0-9999",
         "housing_loan": 0,
         "personal_loan": 0,
         "contact_means": "cellular",
         "day": 25,
         "month": "oct",
         "duration": 182,
         "no_of_calls": 1,
         "pdaystillnow": 185,
         "pnum_calls": 1,
         "poutcome": "success",
         "y": 1,
         "_deepnote_index_column": 45102
        },
        {
         "age": 33,
         "age_group": "30-39",
         "job": "admin.",
         "marital": "married",
         "education": "secondary",
         "credit_default": 0,
         "balance": 51,
         "balance_bin": "0-9999",
         "housing_loan": 1,
         "personal_loan": 1,
         "contact_means": "cellular",
         "day": 25,
         "month": "oct",
         "duration": 253,
         "no_of_calls": 1,
         "pdaystillnow": 284,
         "pnum_calls": 3,
         "poutcome": "success",
         "y": 1,
         "_deepnote_index_column": 45103
        },
        {
         "age": 78,
         "age_group": "70-79",
         "job": "management",
         "marital": "married",
         "education": "unknown",
         "credit_default": 0,
         "balance": 1780,
         "balance_bin": "0-9999",
         "housing_loan": 1,
         "personal_loan": 0,
         "contact_means": "cellular",
         "day": 25,
         "month": "oct",
         "duration": 211,
         "no_of_calls": 2,
         "pdaystillnow": 185,
         "pnum_calls": 7,
         "poutcome": "success",
         "y": 1,
         "_deepnote_index_column": 45109
        },
        {
         "age": 26,
         "age_group": "20-29",
         "job": "management",
         "marital": "single",
         "education": "tertiary",
         "credit_default": 0,
         "balance": 222,
         "balance_bin": "0-9999",
         "housing_loan": 0,
         "personal_loan": 0,
         "contact_means": "cellular",
         "day": 26,
         "month": "oct",
         "duration": 318,
         "no_of_calls": 1,
         "pdaystillnow": 120,
         "pnum_calls": 3,
         "poutcome": "success",
         "y": 1,
         "_deepnote_index_column": 45113
        },
        {
         "age": 54,
         "age_group": "50-59",
         "job": "technician",
         "marital": "married",
         "education": "tertiary",
         "credit_default": 0,
         "balance": 876,
         "balance_bin": "0-9999",
         "housing_loan": 0,
         "personal_loan": 0,
         "contact_means": "cellular",
         "day": 27,
         "month": "oct",
         "duration": 269,
         "no_of_calls": 3,
         "pdaystillnow": 541,
         "pnum_calls": 3,
         "poutcome": "success",
         "y": 1,
         "_deepnote_index_column": 45126
        },
        {
         "age": 46,
         "age_group": "40-49",
         "job": "technician",
         "marital": "married",
         "education": "unknown",
         "credit_default": 0,
         "balance": 3308,
         "balance_bin": "0-9999",
         "housing_loan": 0,
         "personal_loan": 0,
         "contact_means": "cellular",
         "day": 27,
         "month": "oct",
         "duration": 171,
         "no_of_calls": 1,
         "pdaystillnow": 91,
         "pnum_calls": 2,
         "poutcome": "success",
         "y": 1,
         "_deepnote_index_column": 45129
        },
        {
         "age": 70,
         "age_group": "70-79",
         "job": "retired",
         "marital": "married",
         "education": "secondary",
         "credit_default": 0,
         "balance": 0,
         "balance_bin": "0-9999",
         "housing_loan": 0,
         "personal_loan": 0,
         "contact_means": "cellular",
         "day": 27,
         "month": "oct",
         "duration": 258,
         "no_of_calls": 1,
         "pdaystillnow": 92,
         "pnum_calls": 5,
         "poutcome": "success",
         "y": 1,
         "_deepnote_index_column": 45134
        },
        {
         "age": 63,
         "age_group": "60-69",
         "job": "entrepreneur",
         "marital": "married",
         "education": "secondary",
         "credit_default": 0,
         "balance": 3904,
         "balance_bin": "0-9999",
         "housing_loan": 0,
         "personal_loan": 0,
         "contact_means": "telephone",
         "day": 8,
         "month": "nov",
         "duration": 360,
         "no_of_calls": 1,
         "pdaystillnow": 96,
         "pnum_calls": 4,
         "poutcome": "success",
         "y": 1,
         "_deepnote_index_column": 45140
        },
        {
         "age": 38,
         "age_group": "30-39",
         "job": "technician",
         "marital": "married",
         "education": "tertiary",
         "credit_default": 0,
         "balance": 88,
         "balance_bin": "0-9999",
         "housing_loan": 0,
         "personal_loan": 0,
         "contact_means": "cellular",
         "day": 8,
         "month": "nov",
         "duration": 282,
         "no_of_calls": 2,
         "pdaystillnow": 186,
         "pnum_calls": 4,
         "poutcome": "success",
         "y": 1,
         "_deepnote_index_column": 45149
        },
        {
         "age": 44,
         "age_group": "40-49",
         "job": "entrepreneur",
         "marital": "married",
         "education": "tertiary",
         "credit_default": 0,
         "balance": 121,
         "balance_bin": "0-9999",
         "housing_loan": 0,
         "personal_loan": 0,
         "contact_means": "cellular",
         "day": 9,
         "month": "nov",
         "duration": 248,
         "no_of_calls": 1,
         "pdaystillnow": 91,
         "pnum_calls": 1,
         "poutcome": "success",
         "y": 1,
         "_deepnote_index_column": 45155
        },
        {
         "age": 35,
         "age_group": "30-39",
         "job": "technician",
         "marital": "married",
         "education": "secondary",
         "credit_default": 0,
         "balance": 0,
         "balance_bin": "0-9999",
         "housing_loan": 1,
         "personal_loan": 0,
         "contact_means": "cellular",
         "day": 9,
         "month": "nov",
         "duration": 524,
         "no_of_calls": 1,
         "pdaystillnow": 96,
         "pnum_calls": 5,
         "poutcome": "success",
         "y": 1,
         "_deepnote_index_column": 45160
        },
        {
         "age": 29,
         "age_group": "20-29",
         "job": "admin.",
         "marital": "single",
         "education": "secondary",
         "credit_default": 0,
         "balance": 464,
         "balance_bin": "0-9999",
         "housing_loan": 0,
         "personal_loan": 0,
         "contact_means": "cellular",
         "day": 9,
         "month": "nov",
         "duration": 208,
         "no_of_calls": 2,
         "pdaystillnow": 91,
         "pnum_calls": 3,
         "poutcome": "success",
         "y": 1,
         "_deepnote_index_column": 45162
        },
        {
         "age": 41,
         "age_group": "40-49",
         "job": "unemployed",
         "marital": "single",
         "education": "tertiary",
         "credit_default": 0,
         "balance": 79,
         "balance_bin": "0-9999",
         "housing_loan": 0,
         "personal_loan": 0,
         "contact_means": "telephone",
         "day": 9,
         "month": "nov",
         "duration": 394,
         "no_of_calls": 1,
         "pdaystillnow": 390,
         "pnum_calls": 2,
         "poutcome": "success",
         "y": 1,
         "_deepnote_index_column": 45166
        },
        {
         "age": 62,
         "age_group": "60-69",
         "job": "retired",
         "marital": "married",
         "education": "tertiary",
         "credit_default": 0,
         "balance": 2557,
         "balance_bin": "0-9999",
         "housing_loan": 1,
         "personal_loan": 0,
         "contact_means": "cellular",
         "day": 10,
         "month": "nov",
         "duration": 404,
         "no_of_calls": 1,
         "pdaystillnow": 57,
         "pnum_calls": 8,
         "poutcome": "success",
         "y": 1,
         "_deepnote_index_column": 45168
        },
        {
         "age": 62,
         "age_group": "60-69",
         "job": "blue-collar",
         "marital": "married",
         "education": "secondary",
         "credit_default": 0,
         "balance": 272,
         "balance_bin": "0-9999",
         "housing_loan": 0,
         "personal_loan": 0,
         "contact_means": "cellular",
         "day": 11,
         "month": "nov",
         "duration": 289,
         "no_of_calls": 1,
         "pdaystillnow": 92,
         "pnum_calls": 3,
         "poutcome": "success",
         "y": 1,
         "_deepnote_index_column": 45174
        },
        {
         "age": 38,
         "age_group": "30-39",
         "job": "entrepreneur",
         "marital": "single",
         "education": "secondary",
         "credit_default": 0,
         "balance": 2543,
         "balance_bin": "0-9999",
         "housing_loan": 0,
         "personal_loan": 0,
         "contact_means": "cellular",
         "day": 11,
         "month": "nov",
         "duration": 357,
         "no_of_calls": 3,
         "pdaystillnow": 93,
         "pnum_calls": 5,
         "poutcome": "success",
         "y": 1,
         "_deepnote_index_column": 45175
        },
        {
         "age": 36,
         "age_group": "30-39",
         "job": "admin.",
         "marital": "divorced",
         "education": "secondary",
         "credit_default": 0,
         "balance": 1224,
         "balance_bin": "0-9999",
         "housing_loan": 1,
         "personal_loan": 0,
         "contact_means": "cellular",
         "day": 12,
         "month": "nov",
         "duration": 482,
         "no_of_calls": 1,
         "pdaystillnow": 374,
         "pnum_calls": 1,
         "poutcome": "success",
         "y": 1,
         "_deepnote_index_column": 45177
        },
        {
         "age": 34,
         "age_group": "30-39",
         "job": "blue-collar",
         "marital": "married",
         "education": "secondary",
         "credit_default": 0,
         "balance": 320,
         "balance_bin": "0-9999",
         "housing_loan": 1,
         "personal_loan": 0,
         "contact_means": "cellular",
         "day": 12,
         "month": "nov",
         "duration": 413,
         "no_of_calls": 1,
         "pdaystillnow": 92,
         "pnum_calls": 3,
         "poutcome": "success",
         "y": 1,
         "_deepnote_index_column": 45178
        },
        {
         "age": 34,
         "age_group": "30-39",
         "job": "technician",
         "marital": "married",
         "education": "secondary",
         "credit_default": 0,
         "balance": 133,
         "balance_bin": "0-9999",
         "housing_loan": 0,
         "personal_loan": 0,
         "contact_means": "cellular",
         "day": 15,
         "month": "nov",
         "duration": 401,
         "no_of_calls": 2,
         "pdaystillnow": 187,
         "pnum_calls": 5,
         "poutcome": "success",
         "y": 1,
         "_deepnote_index_column": 45182
        },
        {
         "age": 60,
         "age_group": "60-69",
         "job": "services",
         "marital": "married",
         "education": "tertiary",
         "credit_default": 0,
         "balance": 4256,
         "balance_bin": "0-9999",
         "housing_loan": 1,
         "personal_loan": 0,
         "contact_means": "cellular",
         "day": 16,
         "month": "nov",
         "duration": 200,
         "no_of_calls": 1,
         "pdaystillnow": 92,
         "pnum_calls": 4,
         "poutcome": "success",
         "y": 1,
         "_deepnote_index_column": 45185
        },
        {
         "age": 29,
         "age_group": "20-29",
         "job": "management",
         "marital": "single",
         "education": "secondary",
         "credit_default": 0,
         "balance": 703,
         "balance_bin": "0-9999",
         "housing_loan": 1,
         "personal_loan": 0,
         "contact_means": "cellular",
         "day": 16,
         "month": "nov",
         "duration": 236,
         "no_of_calls": 1,
         "pdaystillnow": 550,
         "pnum_calls": 2,
         "poutcome": "success",
         "y": 1,
         "_deepnote_index_column": 45188
        },
        {
         "age": 32,
         "age_group": "30-39",
         "job": "blue-collar",
         "marital": "married",
         "education": "secondary",
         "credit_default": 0,
         "balance": 136,
         "balance_bin": "0-9999",
         "housing_loan": 0,
         "personal_loan": 0,
         "contact_means": "cellular",
         "day": 16,
         "month": "nov",
         "duration": 206,
         "no_of_calls": 1,
         "pdaystillnow": 188,
         "pnum_calls": 3,
         "poutcome": "success",
         "y": 1,
         "_deepnote_index_column": 45190
        },
        {
         "age": 28,
         "age_group": "20-29",
         "job": "self-employed",
         "marital": "single",
         "education": "tertiary",
         "credit_default": 0,
         "balance": 159,
         "balance_bin": "0-9999",
         "housing_loan": 0,
         "personal_loan": 0,
         "contact_means": "cellular",
         "day": 16,
         "month": "nov",
         "duration": 449,
         "no_of_calls": 2,
         "pdaystillnow": 33,
         "pnum_calls": 4,
         "poutcome": "success",
         "y": 1,
         "_deepnote_index_column": 45193
        },
        {
         "age": 68,
         "age_group": "60-69",
         "job": "retired",
         "marital": "married",
         "education": "secondary",
         "credit_default": 0,
         "balance": 1146,
         "balance_bin": "0-9999",
         "housing_loan": 0,
         "personal_loan": 0,
         "contact_means": "cellular",
         "day": 16,
         "month": "nov",
         "duration": 212,
         "no_of_calls": 1,
         "pdaystillnow": 187,
         "pnum_calls": 6,
         "poutcome": "success",
         "y": 1,
         "_deepnote_index_column": 45195
        },
        {
         "age": 53,
         "age_group": "50-59",
         "job": "management",
         "marital": "married",
         "education": "tertiary",
         "credit_default": 0,
         "balance": 583,
         "balance_bin": "0-9999",
         "housing_loan": 0,
         "personal_loan": 0,
         "contact_means": "cellular",
         "day": 17,
         "month": "nov",
         "duration": 226,
         "no_of_calls": 1,
         "pdaystillnow": 184,
         "pnum_calls": 4,
         "poutcome": "success",
         "y": 1,
         "_deepnote_index_column": 45201
        },
        {
         "age": 72,
         "age_group": "70-79",
         "job": "retired",
         "marital": "married",
         "education": "secondary",
         "credit_default": 0,
         "balance": 5715,
         "balance_bin": "0-9999",
         "housing_loan": 0,
         "personal_loan": 0,
         "contact_means": "cellular",
         "day": 17,
         "month": "nov",
         "duration": 1127,
         "no_of_calls": 5,
         "pdaystillnow": 184,
         "pnum_calls": 3,
         "poutcome": "success",
         "y": 1,
         "_deepnote_index_column": 45208
        }
       ]
      },
      "text/plain": "       age age_group            job   marital  education  credit_default  \\\n24080   56     50-59     technician   married  secondary               0   \n24622   53     50-59        retired   married   tertiary               0   \n25555   45     40-49     management  divorced  secondary               0   \n25845   46     40-49     unemployed  divorced  secondary               0   \n26100   40     40-49     management   married   tertiary               0   \n...    ...       ...            ...       ...        ...             ...   \n45190   32     30-39    blue-collar   married  secondary               0   \n45193   28     20-29  self-employed    single   tertiary               0   \n45195   68     60-69        retired   married  secondary               0   \n45201   53     50-59     management   married   tertiary               0   \n45208   72     70-79        retired   married  secondary               0   \n\n       balance balance_bin  housing_loan  personal_loan contact_means  day  \\\n24080      589      0-9999             1              0       unknown   23   \n24622     2269      0-9999             0              0      cellular   17   \n25555      644      0-9999             1              0      cellular   19   \n25845     3354      0-9999             1              0      cellular   19   \n26100     3352      0-9999             1              0      cellular   19   \n...        ...         ...           ...            ...           ...  ...   \n45190      136      0-9999             0              0      cellular   16   \n45193      159      0-9999             0              0      cellular   16   \n45195     1146      0-9999             0              0      cellular   16   \n45201      583      0-9999             0              0      cellular   17   \n45208     5715      0-9999             0              0      cellular   17   \n\n      month  duration  no_of_calls  pdaystillnow  pnum_calls poutcome  y  \n24080   oct       518            1           147           2  success  1  \n24622   nov      1091            2           150           1  success  1  \n25555   nov       418            1           168           1  success  1  \n25845   nov       522            1           174           1  success  1  \n26100   nov       639            2            27           1  success  1  \n...     ...       ...          ...           ...         ...      ... ..  \n45190   nov       206            1           188           3  success  1  \n45193   nov       449            2            33           4  success  1  \n45195   nov       212            1           187           6  success  1  \n45201   nov       226            1           184           4  success  1  \n45208   nov      1127            5           184           3  success  1  \n\n[978 rows x 19 columns]",
      "text/html": "<div>\n<style scoped>\n    .dataframe tbody tr th:only-of-type {\n        vertical-align: middle;\n    }\n\n    .dataframe tbody tr th {\n        vertical-align: top;\n    }\n\n    .dataframe thead th {\n        text-align: right;\n    }\n</style>\n<table border=\"1\" class=\"dataframe\">\n  <thead>\n    <tr style=\"text-align: right;\">\n      <th></th>\n      <th>age</th>\n      <th>age_group</th>\n      <th>job</th>\n      <th>marital</th>\n      <th>education</th>\n      <th>credit_default</th>\n      <th>balance</th>\n      <th>balance_bin</th>\n      <th>housing_loan</th>\n      <th>personal_loan</th>\n      <th>contact_means</th>\n      <th>day</th>\n      <th>month</th>\n      <th>duration</th>\n      <th>no_of_calls</th>\n      <th>pdaystillnow</th>\n      <th>pnum_calls</th>\n      <th>poutcome</th>\n      <th>y</th>\n    </tr>\n  </thead>\n  <tbody>\n    <tr>\n      <th>24080</th>\n      <td>56</td>\n      <td>50-59</td>\n      <td>technician</td>\n      <td>married</td>\n      <td>secondary</td>\n      <td>0</td>\n      <td>589</td>\n      <td>0-9999</td>\n      <td>1</td>\n      <td>0</td>\n      <td>unknown</td>\n      <td>23</td>\n      <td>oct</td>\n      <td>518</td>\n      <td>1</td>\n      <td>147</td>\n      <td>2</td>\n      <td>success</td>\n      <td>1</td>\n    </tr>\n    <tr>\n      <th>24622</th>\n      <td>53</td>\n      <td>50-59</td>\n      <td>retired</td>\n      <td>married</td>\n      <td>tertiary</td>\n      <td>0</td>\n      <td>2269</td>\n      <td>0-9999</td>\n      <td>0</td>\n      <td>0</td>\n      <td>cellular</td>\n      <td>17</td>\n      <td>nov</td>\n      <td>1091</td>\n      <td>2</td>\n      <td>150</td>\n      <td>1</td>\n      <td>success</td>\n      <td>1</td>\n    </tr>\n    <tr>\n      <th>25555</th>\n      <td>45</td>\n      <td>40-49</td>\n      <td>management</td>\n      <td>divorced</td>\n      <td>secondary</td>\n      <td>0</td>\n      <td>644</td>\n      <td>0-9999</td>\n      <td>1</td>\n      <td>0</td>\n      <td>cellular</td>\n      <td>19</td>\n      <td>nov</td>\n      <td>418</td>\n      <td>1</td>\n      <td>168</td>\n      <td>1</td>\n      <td>success</td>\n      <td>1</td>\n    </tr>\n    <tr>\n      <th>25845</th>\n      <td>46</td>\n      <td>40-49</td>\n      <td>unemployed</td>\n      <td>divorced</td>\n      <td>secondary</td>\n      <td>0</td>\n      <td>3354</td>\n      <td>0-9999</td>\n      <td>1</td>\n      <td>0</td>\n      <td>cellular</td>\n      <td>19</td>\n      <td>nov</td>\n      <td>522</td>\n      <td>1</td>\n      <td>174</td>\n      <td>1</td>\n      <td>success</td>\n      <td>1</td>\n    </tr>\n    <tr>\n      <th>26100</th>\n      <td>40</td>\n      <td>40-49</td>\n      <td>management</td>\n      <td>married</td>\n      <td>tertiary</td>\n      <td>0</td>\n      <td>3352</td>\n      <td>0-9999</td>\n      <td>1</td>\n      <td>0</td>\n      <td>cellular</td>\n      <td>19</td>\n      <td>nov</td>\n      <td>639</td>\n      <td>2</td>\n      <td>27</td>\n      <td>1</td>\n      <td>success</td>\n      <td>1</td>\n    </tr>\n    <tr>\n      <th>...</th>\n      <td>...</td>\n      <td>...</td>\n      <td>...</td>\n      <td>...</td>\n      <td>...</td>\n      <td>...</td>\n      <td>...</td>\n      <td>...</td>\n      <td>...</td>\n      <td>...</td>\n      <td>...</td>\n      <td>...</td>\n      <td>...</td>\n      <td>...</td>\n      <td>...</td>\n      <td>...</td>\n      <td>...</td>\n      <td>...</td>\n      <td>...</td>\n    </tr>\n    <tr>\n      <th>45190</th>\n      <td>32</td>\n      <td>30-39</td>\n      <td>blue-collar</td>\n      <td>married</td>\n      <td>secondary</td>\n      <td>0</td>\n      <td>136</td>\n      <td>0-9999</td>\n      <td>0</td>\n      <td>0</td>\n      <td>cellular</td>\n      <td>16</td>\n      <td>nov</td>\n      <td>206</td>\n      <td>1</td>\n      <td>188</td>\n      <td>3</td>\n      <td>success</td>\n      <td>1</td>\n    </tr>\n    <tr>\n      <th>45193</th>\n      <td>28</td>\n      <td>20-29</td>\n      <td>self-employed</td>\n      <td>single</td>\n      <td>tertiary</td>\n      <td>0</td>\n      <td>159</td>\n      <td>0-9999</td>\n      <td>0</td>\n      <td>0</td>\n      <td>cellular</td>\n      <td>16</td>\n      <td>nov</td>\n      <td>449</td>\n      <td>2</td>\n      <td>33</td>\n      <td>4</td>\n      <td>success</td>\n      <td>1</td>\n    </tr>\n    <tr>\n      <th>45195</th>\n      <td>68</td>\n      <td>60-69</td>\n      <td>retired</td>\n      <td>married</td>\n      <td>secondary</td>\n      <td>0</td>\n      <td>1146</td>\n      <td>0-9999</td>\n      <td>0</td>\n      <td>0</td>\n      <td>cellular</td>\n      <td>16</td>\n      <td>nov</td>\n      <td>212</td>\n      <td>1</td>\n      <td>187</td>\n      <td>6</td>\n      <td>success</td>\n      <td>1</td>\n    </tr>\n    <tr>\n      <th>45201</th>\n      <td>53</td>\n      <td>50-59</td>\n      <td>management</td>\n      <td>married</td>\n      <td>tertiary</td>\n      <td>0</td>\n      <td>583</td>\n      <td>0-9999</td>\n      <td>0</td>\n      <td>0</td>\n      <td>cellular</td>\n      <td>17</td>\n      <td>nov</td>\n      <td>226</td>\n      <td>1</td>\n      <td>184</td>\n      <td>4</td>\n      <td>success</td>\n      <td>1</td>\n    </tr>\n    <tr>\n      <th>45208</th>\n      <td>72</td>\n      <td>70-79</td>\n      <td>retired</td>\n      <td>married</td>\n      <td>secondary</td>\n      <td>0</td>\n      <td>5715</td>\n      <td>0-9999</td>\n      <td>0</td>\n      <td>0</td>\n      <td>cellular</td>\n      <td>17</td>\n      <td>nov</td>\n      <td>1127</td>\n      <td>5</td>\n      <td>184</td>\n      <td>3</td>\n      <td>success</td>\n      <td>1</td>\n    </tr>\n  </tbody>\n</table>\n<p>978 rows × 19 columns</p>\n</div>"
     },
     "metadata": {}
    }
   ]
  },
  {
   "cell_type": "code",
   "metadata": {
    "tags": [],
    "cell_id": "00011-d714a16a-508e-417c-98e8-0b3b7e05ba6b",
    "deepnote_to_be_reexecuted": false,
    "source_hash": "636622d5",
    "execution_start": 1636106409017,
    "execution_millis": 172,
    "deepnote_cell_type": "code"
   },
   "source": "# checking the number of people who have said yes in the previous campaign\nsuccess = data[(data[\"poutcome\"]==\"success\")]\nsuccess",
   "execution_count": 23,
   "outputs": [
    {
     "output_type": "execute_result",
     "execution_count": 23,
     "data": {
      "application/vnd.deepnote.dataframe.v2+json": {
       "row_count": 1511,
       "column_count": 19,
       "columns": [
        {
         "name": "age",
         "dtype": "int64",
         "stats": {
          "unique_count": 70,
          "nan_count": 0,
          "min": "18",
          "max": "93",
          "histogram": [
           {
            "bin_start": 18,
            "bin_end": 25.5,
            "count": 76
           },
           {
            "bin_start": 25.5,
            "bin_end": 33,
            "count": 338
           },
           {
            "bin_start": 33,
            "bin_end": 40.5,
            "count": 388
           },
           {
            "bin_start": 40.5,
            "bin_end": 48,
            "count": 209
           },
           {
            "bin_start": 48,
            "bin_end": 55.5,
            "count": 187
           },
           {
            "bin_start": 55.5,
            "bin_end": 63,
            "count": 160
           },
           {
            "bin_start": 63,
            "bin_end": 70.5,
            "count": 72
           },
           {
            "bin_start": 70.5,
            "bin_end": 78,
            "count": 54
           },
           {
            "bin_start": 78,
            "bin_end": 85.5,
            "count": 22
           },
           {
            "bin_start": 85.5,
            "bin_end": 93,
            "count": 5
           }
          ]
         }
        },
        {
         "name": "age_group",
         "dtype": "category",
         "stats": {
          "unique_count": 9,
          "nan_count": 0,
          "categories": [
           {
            "name": "30-39",
            "count": 524
           },
           {
            "name": "40-49",
            "count": 292
           },
           {
            "name": "7 others",
            "count": 695
           }
          ]
         }
        },
        {
         "name": "job",
         "dtype": "object",
         "stats": {
          "unique_count": 12,
          "nan_count": 0,
          "categories": [
           {
            "name": "management",
            "count": 387
           },
           {
            "name": "technician",
            "count": 245
           },
           {
            "name": "10 others",
            "count": 879
           }
          ]
         }
        },
        {
         "name": "marital",
         "dtype": "object",
         "stats": {
          "unique_count": 3,
          "nan_count": 0,
          "categories": [
           {
            "name": "married",
            "count": 836
           },
           {
            "name": "single",
            "count": 523
           },
           {
            "name": "divorced",
            "count": 152
           }
          ]
         }
        },
        {
         "name": "education",
         "dtype": "object",
         "stats": {
          "unique_count": 4,
          "nan_count": 0,
          "categories": [
           {
            "name": "secondary",
            "count": 675
           },
           {
            "name": "tertiary",
            "count": 622
           },
           {
            "name": "2 others",
            "count": 214
           }
          ]
         }
        },
        {
         "name": "credit_default",
         "dtype": "int64",
         "stats": {
          "unique_count": 2,
          "nan_count": 0,
          "min": "0",
          "max": "1",
          "histogram": [
           {
            "bin_start": 0,
            "bin_end": 0.1,
            "count": 1509
           },
           {
            "bin_start": 0.1,
            "bin_end": 0.2,
            "count": 0
           },
           {
            "bin_start": 0.2,
            "bin_end": 0.30000000000000004,
            "count": 0
           },
           {
            "bin_start": 0.30000000000000004,
            "bin_end": 0.4,
            "count": 0
           },
           {
            "bin_start": 0.4,
            "bin_end": 0.5,
            "count": 0
           },
           {
            "bin_start": 0.5,
            "bin_end": 0.6000000000000001,
            "count": 0
           },
           {
            "bin_start": 0.6000000000000001,
            "bin_end": 0.7000000000000001,
            "count": 0
           },
           {
            "bin_start": 0.7000000000000001,
            "bin_end": 0.8,
            "count": 0
           },
           {
            "bin_start": 0.8,
            "bin_end": 0.9,
            "count": 0
           },
           {
            "bin_start": 0.9,
            "bin_end": 1,
            "count": 2
           }
          ]
         }
        },
        {
         "name": "balance",
         "dtype": "int64",
         "stats": {
          "unique_count": 937,
          "nan_count": 0,
          "min": "-405",
          "max": "81204",
          "histogram": [
           {
            "bin_start": -405,
            "bin_end": 7755.9,
            "count": 1445
           },
           {
            "bin_start": 7755.9,
            "bin_end": 15916.8,
            "count": 57
           },
           {
            "bin_start": 15916.8,
            "bin_end": 24077.699999999997,
            "count": 4
           },
           {
            "bin_start": 24077.699999999997,
            "bin_end": 32238.6,
            "count": 3
           },
           {
            "bin_start": 32238.6,
            "bin_end": 40399.5,
            "count": 0
           },
           {
            "bin_start": 40399.5,
            "bin_end": 48560.399999999994,
            "count": 0
           },
           {
            "bin_start": 48560.399999999994,
            "bin_end": 56721.299999999996,
            "count": 1
           },
           {
            "bin_start": 56721.299999999996,
            "bin_end": 64882.2,
            "count": 0
           },
           {
            "bin_start": 64882.2,
            "bin_end": 73043.09999999999,
            "count": 0
           },
           {
            "bin_start": 73043.09999999999,
            "bin_end": 81204,
            "count": 1
           }
          ]
         }
        },
        {
         "name": "balance_bin",
         "dtype": "category",
         "stats": {
          "unique_count": 6,
          "nan_count": 0,
          "categories": [
           {
            "name": "0-9999",
            "count": 1449
           },
           {
            "name": "10000-19999",
            "count": 38
           },
           {
            "name": "4 others",
            "count": 24
           }
          ]
         }
        },
        {
         "name": "housing_loan",
         "dtype": "int64",
         "stats": {
          "unique_count": 2,
          "nan_count": 0,
          "min": "0",
          "max": "1",
          "histogram": [
           {
            "bin_start": 0,
            "bin_end": 0.1,
            "count": 1040
           },
           {
            "bin_start": 0.1,
            "bin_end": 0.2,
            "count": 0
           },
           {
            "bin_start": 0.2,
            "bin_end": 0.30000000000000004,
            "count": 0
           },
           {
            "bin_start": 0.30000000000000004,
            "bin_end": 0.4,
            "count": 0
           },
           {
            "bin_start": 0.4,
            "bin_end": 0.5,
            "count": 0
           },
           {
            "bin_start": 0.5,
            "bin_end": 0.6000000000000001,
            "count": 0
           },
           {
            "bin_start": 0.6000000000000001,
            "bin_end": 0.7000000000000001,
            "count": 0
           },
           {
            "bin_start": 0.7000000000000001,
            "bin_end": 0.8,
            "count": 0
           },
           {
            "bin_start": 0.8,
            "bin_end": 0.9,
            "count": 0
           },
           {
            "bin_start": 0.9,
            "bin_end": 1,
            "count": 471
           }
          ]
         }
        },
        {
         "name": "personal_loan",
         "dtype": "int64",
         "stats": {
          "unique_count": 2,
          "nan_count": 0,
          "min": "0",
          "max": "1",
          "histogram": [
           {
            "bin_start": 0,
            "bin_end": 0.1,
            "count": 1429
           },
           {
            "bin_start": 0.1,
            "bin_end": 0.2,
            "count": 0
           },
           {
            "bin_start": 0.2,
            "bin_end": 0.30000000000000004,
            "count": 0
           },
           {
            "bin_start": 0.30000000000000004,
            "bin_end": 0.4,
            "count": 0
           },
           {
            "bin_start": 0.4,
            "bin_end": 0.5,
            "count": 0
           },
           {
            "bin_start": 0.5,
            "bin_end": 0.6000000000000001,
            "count": 0
           },
           {
            "bin_start": 0.6000000000000001,
            "bin_end": 0.7000000000000001,
            "count": 0
           },
           {
            "bin_start": 0.7000000000000001,
            "bin_end": 0.8,
            "count": 0
           },
           {
            "bin_start": 0.8,
            "bin_end": 0.9,
            "count": 0
           },
           {
            "bin_start": 0.9,
            "bin_end": 1,
            "count": 82
           }
          ]
         }
        },
        {
         "name": "contact_means",
         "dtype": "object",
         "stats": {
          "unique_count": 3,
          "nan_count": 0,
          "categories": [
           {
            "name": "cellular",
            "count": 1385
           },
           {
            "name": "telephone",
            "count": 114
           },
           {
            "name": "unknown",
            "count": 12
           }
          ]
         }
        },
        {
         "name": "day",
         "dtype": "int64",
         "stats": {
          "unique_count": 31,
          "nan_count": 0,
          "min": "1",
          "max": "31",
          "histogram": [
           {
            "bin_start": 1,
            "bin_end": 4,
            "count": 139
           },
           {
            "bin_start": 4,
            "bin_end": 7,
            "count": 182
           },
           {
            "bin_start": 7,
            "bin_end": 10,
            "count": 152
           },
           {
            "bin_start": 10,
            "bin_end": 13,
            "count": 222
           },
           {
            "bin_start": 13,
            "bin_end": 16,
            "count": 216
           },
           {
            "bin_start": 16,
            "bin_end": 19,
            "count": 140
           },
           {
            "bin_start": 19,
            "bin_end": 22,
            "count": 96
           },
           {
            "bin_start": 22,
            "bin_end": 25,
            "count": 90
           },
           {
            "bin_start": 25,
            "bin_end": 28,
            "count": 133
           },
           {
            "bin_start": 28,
            "bin_end": 31,
            "count": 141
           }
          ]
         }
        },
        {
         "name": "month",
         "dtype": "object",
         "stats": {
          "unique_count": 12,
          "nan_count": 0,
          "categories": [
           {
            "name": "may",
            "count": 236
           },
           {
            "name": "aug",
            "count": 207
           },
           {
            "name": "10 others",
            "count": 1068
           }
          ]
         }
        },
        {
         "name": "duration",
         "dtype": "int64",
         "stats": {
          "unique_count": 602,
          "nan_count": 0,
          "min": "1",
          "max": "2062",
          "histogram": [
           {
            "bin_start": 1,
            "bin_end": 207.1,
            "count": 556
           },
           {
            "bin_start": 207.1,
            "bin_end": 413.2,
            "count": 623
           },
           {
            "bin_start": 413.2,
            "bin_end": 619.3,
            "count": 183
           },
           {
            "bin_start": 619.3,
            "bin_end": 825.4,
            "count": 79
           },
           {
            "bin_start": 825.4,
            "bin_end": 1031.5,
            "count": 40
           },
           {
            "bin_start": 1031.5,
            "bin_end": 1237.6,
            "count": 21
           },
           {
            "bin_start": 1237.6,
            "bin_end": 1443.7,
            "count": 2
           },
           {
            "bin_start": 1443.7,
            "bin_end": 1649.8,
            "count": 3
           },
           {
            "bin_start": 1649.8,
            "bin_end": 1855.8999999999999,
            "count": 3
           },
           {
            "bin_start": 1855.8999999999999,
            "bin_end": 2062,
            "count": 1
           }
          ]
         }
        },
        {
         "name": "no_of_calls",
         "dtype": "int64",
         "stats": {
          "unique_count": 10,
          "nan_count": 0,
          "min": "1",
          "max": "11",
          "histogram": [
           {
            "bin_start": 1,
            "bin_end": 2,
            "count": 837
           },
           {
            "bin_start": 2,
            "bin_end": 3,
            "count": 402
           },
           {
            "bin_start": 3,
            "bin_end": 4,
            "count": 149
           },
           {
            "bin_start": 4,
            "bin_end": 5,
            "count": 51
           },
           {
            "bin_start": 5,
            "bin_end": 6,
            "count": 30
           },
           {
            "bin_start": 6,
            "bin_end": 7,
            "count": 21
           },
           {
            "bin_start": 7,
            "bin_end": 8,
            "count": 11
           },
           {
            "bin_start": 8,
            "bin_end": 9,
            "count": 8
           },
           {
            "bin_start": 9,
            "bin_end": 10,
            "count": 1
           },
           {
            "bin_start": 10,
            "bin_end": 11,
            "count": 1
           }
          ]
         }
        },
        {
         "name": "pdaystillnow",
         "dtype": "int64",
         "stats": {
          "unique_count": 317,
          "nan_count": 0,
          "min": "1",
          "max": "771",
          "histogram": [
           {
            "bin_start": 1,
            "bin_end": 78,
            "count": 81
           },
           {
            "bin_start": 78,
            "bin_end": 155,
            "count": 666
           },
           {
            "bin_start": 155,
            "bin_end": 232,
            "count": 536
           },
           {
            "bin_start": 232,
            "bin_end": 309,
            "count": 90
           },
           {
            "bin_start": 309,
            "bin_end": 386,
            "count": 78
           },
           {
            "bin_start": 386,
            "bin_end": 463,
            "count": 43
           },
           {
            "bin_start": 463,
            "bin_end": 540,
            "count": 10
           },
           {
            "bin_start": 540,
            "bin_end": 617,
            "count": 5
           },
           {
            "bin_start": 617,
            "bin_end": 694,
            "count": 1
           },
           {
            "bin_start": 694,
            "bin_end": 771,
            "count": 1
           }
          ]
         }
        },
        {
         "name": "pnum_calls",
         "dtype": "int64",
         "stats": {
          "unique_count": 18,
          "nan_count": 0,
          "min": "1",
          "max": "28",
          "histogram": [
           {
            "bin_start": 1,
            "bin_end": 3.7,
            "count": 1069
           },
           {
            "bin_start": 3.7,
            "bin_end": 6.4,
            "count": 301
           },
           {
            "bin_start": 6.4,
            "bin_end": 9.100000000000001,
            "count": 89
           },
           {
            "bin_start": 9.100000000000001,
            "bin_end": 11.8,
            "count": 32
           },
           {
            "bin_start": 11.8,
            "bin_end": 14.5,
            "count": 16
           },
           {
            "bin_start": 14.5,
            "bin_end": 17.200000000000003,
            "count": 1
           },
           {
            "bin_start": 17.200000000000003,
            "bin_end": 19.900000000000002,
            "count": 0
           },
           {
            "bin_start": 19.900000000000002,
            "bin_end": 22.6,
            "count": 2
           },
           {
            "bin_start": 22.6,
            "bin_end": 25.3,
            "count": 0
           },
           {
            "bin_start": 25.3,
            "bin_end": 28,
            "count": 1
           }
          ]
         }
        },
        {
         "name": "poutcome",
         "dtype": "object",
         "stats": {
          "unique_count": 1,
          "nan_count": 0,
          "categories": [
           {
            "name": "success",
            "count": 1511
           }
          ]
         }
        },
        {
         "name": "y",
         "dtype": "int64",
         "stats": {
          "unique_count": 2,
          "nan_count": 0,
          "min": "0",
          "max": "1",
          "histogram": [
           {
            "bin_start": 0,
            "bin_end": 0.1,
            "count": 533
           },
           {
            "bin_start": 0.1,
            "bin_end": 0.2,
            "count": 0
           },
           {
            "bin_start": 0.2,
            "bin_end": 0.30000000000000004,
            "count": 0
           },
           {
            "bin_start": 0.30000000000000004,
            "bin_end": 0.4,
            "count": 0
           },
           {
            "bin_start": 0.4,
            "bin_end": 0.5,
            "count": 0
           },
           {
            "bin_start": 0.5,
            "bin_end": 0.6000000000000001,
            "count": 0
           },
           {
            "bin_start": 0.6000000000000001,
            "bin_end": 0.7000000000000001,
            "count": 0
           },
           {
            "bin_start": 0.7000000000000001,
            "bin_end": 0.8,
            "count": 0
           },
           {
            "bin_start": 0.8,
            "bin_end": 0.9,
            "count": 0
           },
           {
            "bin_start": 0.9,
            "bin_end": 1,
            "count": 978
           }
          ]
         }
        },
        {
         "name": "_deepnote_index_column",
         "dtype": "int64"
        }
       ],
       "rows_top": [
        {
         "age": 56,
         "age_group": "50-59",
         "job": "technician",
         "marital": "married",
         "education": "secondary",
         "credit_default": 0,
         "balance": 589,
         "balance_bin": "0-9999",
         "housing_loan": 1,
         "personal_loan": 0,
         "contact_means": "unknown",
         "day": 23,
         "month": "oct",
         "duration": 518,
         "no_of_calls": 1,
         "pdaystillnow": 147,
         "pnum_calls": 2,
         "poutcome": "success",
         "y": 1,
         "_deepnote_index_column": 24080
        },
        {
         "age": 30,
         "age_group": "30-39",
         "job": "admin.",
         "marital": "married",
         "education": "secondary",
         "credit_default": 0,
         "balance": 873,
         "balance_bin": "0-9999",
         "housing_loan": 1,
         "personal_loan": 0,
         "contact_means": "telephone",
         "day": 12,
         "month": "nov",
         "duration": 119,
         "no_of_calls": 1,
         "pdaystillnow": 167,
         "pnum_calls": 3,
         "poutcome": "success",
         "y": 0,
         "_deepnote_index_column": 24165
        },
        {
         "age": 48,
         "age_group": "40-49",
         "job": "admin.",
         "marital": "divorced",
         "education": "secondary",
         "credit_default": 0,
         "balance": 295,
         "balance_bin": "0-9999",
         "housing_loan": 1,
         "personal_loan": 0,
         "contact_means": "cellular",
         "day": 17,
         "month": "nov",
         "duration": 123,
         "no_of_calls": 1,
         "pdaystillnow": 164,
         "pnum_calls": 2,
         "poutcome": "success",
         "y": 0,
         "_deepnote_index_column": 24239
        },
        {
         "age": 49,
         "age_group": "40-49",
         "job": "management",
         "marital": "married",
         "education": "tertiary",
         "credit_default": 0,
         "balance": 64,
         "balance_bin": "0-9999",
         "housing_loan": 0,
         "personal_loan": 0,
         "contact_means": "cellular",
         "day": 17,
         "month": "nov",
         "duration": 208,
         "no_of_calls": 1,
         "pdaystillnow": 159,
         "pnum_calls": 1,
         "poutcome": "success",
         "y": 0,
         "_deepnote_index_column": 24264
        },
        {
         "age": 42,
         "age_group": "40-49",
         "job": "technician",
         "marital": "married",
         "education": "tertiary",
         "credit_default": 0,
         "balance": 14282,
         "balance_bin": "10000-19999",
         "housing_loan": 1,
         "personal_loan": 0,
         "contact_means": "cellular",
         "day": 17,
         "month": "nov",
         "duration": 77,
         "no_of_calls": 1,
         "pdaystillnow": 103,
         "pnum_calls": 4,
         "poutcome": "success",
         "y": 0,
         "_deepnote_index_column": 24435
        },
        {
         "age": 42,
         "age_group": "40-49",
         "job": "unemployed",
         "marital": "married",
         "education": "unknown",
         "credit_default": 0,
         "balance": 970,
         "balance_bin": "0-9999",
         "housing_loan": 1,
         "personal_loan": 0,
         "contact_means": "telephone",
         "day": 17,
         "month": "nov",
         "duration": 725,
         "no_of_calls": 1,
         "pdaystillnow": 119,
         "pnum_calls": 10,
         "poutcome": "success",
         "y": 0,
         "_deepnote_index_column": 24506
        },
        {
         "age": 46,
         "age_group": "40-49",
         "job": "services",
         "marital": "divorced",
         "education": "secondary",
         "credit_default": 0,
         "balance": 0,
         "balance_bin": "0-9999",
         "housing_loan": 0,
         "personal_loan": 0,
         "contact_means": "cellular",
         "day": 17,
         "month": "nov",
         "duration": 407,
         "no_of_calls": 1,
         "pdaystillnow": 150,
         "pnum_calls": 3,
         "poutcome": "success",
         "y": 0,
         "_deepnote_index_column": 24545
        },
        {
         "age": 36,
         "age_group": "30-39",
         "job": "management",
         "marital": "divorced",
         "education": "tertiary",
         "credit_default": 0,
         "balance": 3837,
         "balance_bin": "0-9999",
         "housing_loan": 1,
         "personal_loan": 0,
         "contact_means": "cellular",
         "day": 17,
         "month": "nov",
         "duration": 184,
         "no_of_calls": 1,
         "pdaystillnow": 193,
         "pnum_calls": 1,
         "poutcome": "success",
         "y": 0,
         "_deepnote_index_column": 24574
        },
        {
         "age": 53,
         "age_group": "50-59",
         "job": "retired",
         "marital": "married",
         "education": "tertiary",
         "credit_default": 0,
         "balance": 2269,
         "balance_bin": "0-9999",
         "housing_loan": 0,
         "personal_loan": 0,
         "contact_means": "cellular",
         "day": 17,
         "month": "nov",
         "duration": 1091,
         "no_of_calls": 2,
         "pdaystillnow": 150,
         "pnum_calls": 1,
         "poutcome": "success",
         "y": 1,
         "_deepnote_index_column": 24622
        },
        {
         "age": 41,
         "age_group": "40-49",
         "job": "blue-collar",
         "marital": "married",
         "education": "primary",
         "credit_default": 0,
         "balance": 1461,
         "balance_bin": "0-9999",
         "housing_loan": 1,
         "personal_loan": 0,
         "contact_means": "cellular",
         "day": 18,
         "month": "nov",
         "duration": 290,
         "no_of_calls": 1,
         "pdaystillnow": 165,
         "pnum_calls": 2,
         "poutcome": "success",
         "y": 0,
         "_deepnote_index_column": 24786
        },
        {
         "age": 56,
         "age_group": "50-59",
         "job": "technician",
         "marital": "married",
         "education": "secondary",
         "credit_default": 0,
         "balance": 589,
         "balance_bin": "0-9999",
         "housing_loan": 1,
         "personal_loan": 0,
         "contact_means": "cellular",
         "day": 18,
         "month": "nov",
         "duration": 208,
         "no_of_calls": 1,
         "pdaystillnow": 26,
         "pnum_calls": 3,
         "poutcome": "success",
         "y": 0,
         "_deepnote_index_column": 24802
        },
        {
         "age": 42,
         "age_group": "40-49",
         "job": "admin.",
         "marital": "single",
         "education": "secondary",
         "credit_default": 0,
         "balance": -247,
         "balance_bin": "-10000--1",
         "housing_loan": 1,
         "personal_loan": 1,
         "contact_means": "cellular",
         "day": 18,
         "month": "nov",
         "duration": 104,
         "no_of_calls": 2,
         "pdaystillnow": 28,
         "pnum_calls": 2,
         "poutcome": "success",
         "y": 0,
         "_deepnote_index_column": 24838
        },
        {
         "age": 41,
         "age_group": "40-49",
         "job": "services",
         "marital": "married",
         "education": "secondary",
         "credit_default": 0,
         "balance": 446,
         "balance_bin": "0-9999",
         "housing_loan": 1,
         "personal_loan": 0,
         "contact_means": "cellular",
         "day": 18,
         "month": "nov",
         "duration": 296,
         "no_of_calls": 1,
         "pdaystillnow": 186,
         "pnum_calls": 1,
         "poutcome": "success",
         "y": 0,
         "_deepnote_index_column": 24902
        },
        {
         "age": 41,
         "age_group": "40-49",
         "job": "blue-collar",
         "marital": "married",
         "education": "secondary",
         "credit_default": 0,
         "balance": 1954,
         "balance_bin": "0-9999",
         "housing_loan": 0,
         "personal_loan": 0,
         "contact_means": "cellular",
         "day": 18,
         "month": "nov",
         "duration": 65,
         "no_of_calls": 1,
         "pdaystillnow": 110,
         "pnum_calls": 2,
         "poutcome": "success",
         "y": 0,
         "_deepnote_index_column": 25050
        },
        {
         "age": 32,
         "age_group": "30-39",
         "job": "blue-collar",
         "marital": "single",
         "education": "secondary",
         "credit_default": 0,
         "balance": 118,
         "balance_bin": "0-9999",
         "housing_loan": 1,
         "personal_loan": 0,
         "contact_means": "cellular",
         "day": 18,
         "month": "nov",
         "duration": 216,
         "no_of_calls": 1,
         "pdaystillnow": 124,
         "pnum_calls": 1,
         "poutcome": "success",
         "y": 0,
         "_deepnote_index_column": 25118
        },
        {
         "age": 44,
         "age_group": "40-49",
         "job": "services",
         "marital": "married",
         "education": "secondary",
         "credit_default": 0,
         "balance": -236,
         "balance_bin": "-10000--1",
         "housing_loan": 1,
         "personal_loan": 0,
         "contact_means": "cellular",
         "day": 18,
         "month": "nov",
         "duration": 218,
         "no_of_calls": 2,
         "pdaystillnow": 113,
         "pnum_calls": 7,
         "poutcome": "success",
         "y": 0,
         "_deepnote_index_column": 25282
        },
        {
         "age": 52,
         "age_group": "50-59",
         "job": "self-employed",
         "marital": "married",
         "education": "tertiary",
         "credit_default": 0,
         "balance": 5350,
         "balance_bin": "0-9999",
         "housing_loan": 1,
         "personal_loan": 1,
         "contact_means": "cellular",
         "day": 18,
         "month": "nov",
         "duration": 68,
         "no_of_calls": 2,
         "pdaystillnow": 110,
         "pnum_calls": 4,
         "poutcome": "success",
         "y": 0,
         "_deepnote_index_column": 25297
        },
        {
         "age": 30,
         "age_group": "30-39",
         "job": "management",
         "marital": "married",
         "education": "tertiary",
         "credit_default": 0,
         "balance": 314,
         "balance_bin": "0-9999",
         "housing_loan": 0,
         "personal_loan": 0,
         "contact_means": "cellular",
         "day": 19,
         "month": "nov",
         "duration": 364,
         "no_of_calls": 2,
         "pdaystillnow": 175,
         "pnum_calls": 2,
         "poutcome": "success",
         "y": 0,
         "_deepnote_index_column": 25478
        },
        {
         "age": 32,
         "age_group": "30-39",
         "job": "blue-collar",
         "marital": "married",
         "education": "secondary",
         "credit_default": 0,
         "balance": 2089,
         "balance_bin": "0-9999",
         "housing_loan": 1,
         "personal_loan": 0,
         "contact_means": "cellular",
         "day": 19,
         "month": "nov",
         "duration": 192,
         "no_of_calls": 1,
         "pdaystillnow": 5,
         "pnum_calls": 1,
         "poutcome": "success",
         "y": 0,
         "_deepnote_index_column": 25525
        },
        {
         "age": 32,
         "age_group": "30-39",
         "job": "management",
         "marital": "single",
         "education": "tertiary",
         "credit_default": 0,
         "balance": 2667,
         "balance_bin": "0-9999",
         "housing_loan": 1,
         "personal_loan": 0,
         "contact_means": "cellular",
         "day": 19,
         "month": "nov",
         "duration": 197,
         "no_of_calls": 1,
         "pdaystillnow": 99,
         "pnum_calls": 2,
         "poutcome": "success",
         "y": 0,
         "_deepnote_index_column": 25537
        },
        {
         "age": 45,
         "age_group": "40-49",
         "job": "management",
         "marital": "divorced",
         "education": "secondary",
         "credit_default": 0,
         "balance": 644,
         "balance_bin": "0-9999",
         "housing_loan": 1,
         "personal_loan": 0,
         "contact_means": "cellular",
         "day": 19,
         "month": "nov",
         "duration": 418,
         "no_of_calls": 1,
         "pdaystillnow": 168,
         "pnum_calls": 1,
         "poutcome": "success",
         "y": 1,
         "_deepnote_index_column": 25555
        },
        {
         "age": 39,
         "age_group": "30-39",
         "job": "housemaid",
         "marital": "married",
         "education": "secondary",
         "credit_default": 0,
         "balance": 1444,
         "balance_bin": "0-9999",
         "housing_loan": 0,
         "personal_loan": 0,
         "contact_means": "cellular",
         "day": 19,
         "month": "nov",
         "duration": 100,
         "no_of_calls": 1,
         "pdaystillnow": 117,
         "pnum_calls": 8,
         "poutcome": "success",
         "y": 0,
         "_deepnote_index_column": 25700
        },
        {
         "age": 54,
         "age_group": "50-59",
         "job": "services",
         "marital": "married",
         "education": "unknown",
         "credit_default": 0,
         "balance": 386,
         "balance_bin": "0-9999",
         "housing_loan": 0,
         "personal_loan": 1,
         "contact_means": "cellular",
         "day": 19,
         "month": "nov",
         "duration": 74,
         "no_of_calls": 1,
         "pdaystillnow": 152,
         "pnum_calls": 1,
         "poutcome": "success",
         "y": 0,
         "_deepnote_index_column": 25714
        },
        {
         "age": 37,
         "age_group": "30-39",
         "job": "blue-collar",
         "marital": "married",
         "education": "secondary",
         "credit_default": 0,
         "balance": 1165,
         "balance_bin": "0-9999",
         "housing_loan": 1,
         "personal_loan": 0,
         "contact_means": "cellular",
         "day": 19,
         "month": "nov",
         "duration": 62,
         "no_of_calls": 3,
         "pdaystillnow": 190,
         "pnum_calls": 4,
         "poutcome": "success",
         "y": 0,
         "_deepnote_index_column": 25721
        },
        {
         "age": 46,
         "age_group": "40-49",
         "job": "unemployed",
         "marital": "divorced",
         "education": "secondary",
         "credit_default": 0,
         "balance": 3354,
         "balance_bin": "0-9999",
         "housing_loan": 1,
         "personal_loan": 0,
         "contact_means": "cellular",
         "day": 19,
         "month": "nov",
         "duration": 522,
         "no_of_calls": 1,
         "pdaystillnow": 174,
         "pnum_calls": 1,
         "poutcome": "success",
         "y": 1,
         "_deepnote_index_column": 25845
        },
        {
         "age": 34,
         "age_group": "30-39",
         "job": "admin.",
         "marital": "married",
         "education": "tertiary",
         "credit_default": 0,
         "balance": 899,
         "balance_bin": "0-9999",
         "housing_loan": 1,
         "personal_loan": 0,
         "contact_means": "telephone",
         "day": 19,
         "month": "nov",
         "duration": 377,
         "no_of_calls": 3,
         "pdaystillnow": 7,
         "pnum_calls": 4,
         "poutcome": "success",
         "y": 0,
         "_deepnote_index_column": 25962
        }
       ],
       "rows_bottom": [
        {
         "age": 70,
         "age_group": "70-79",
         "job": "retired",
         "marital": "married",
         "education": "secondary",
         "credit_default": 0,
         "balance": 0,
         "balance_bin": "0-9999",
         "housing_loan": 0,
         "personal_loan": 0,
         "contact_means": "cellular",
         "day": 27,
         "month": "oct",
         "duration": 258,
         "no_of_calls": 1,
         "pdaystillnow": 92,
         "pnum_calls": 5,
         "poutcome": "success",
         "y": 1,
         "_deepnote_index_column": 45134
        },
        {
         "age": 63,
         "age_group": "60-69",
         "job": "entrepreneur",
         "marital": "married",
         "education": "secondary",
         "credit_default": 0,
         "balance": 3904,
         "balance_bin": "0-9999",
         "housing_loan": 0,
         "personal_loan": 0,
         "contact_means": "telephone",
         "day": 8,
         "month": "nov",
         "duration": 360,
         "no_of_calls": 1,
         "pdaystillnow": 96,
         "pnum_calls": 4,
         "poutcome": "success",
         "y": 1,
         "_deepnote_index_column": 45140
        },
        {
         "age": 77,
         "age_group": "70-79",
         "job": "unknown",
         "marital": "married",
         "education": "unknown",
         "credit_default": 0,
         "balance": 397,
         "balance_bin": "0-9999",
         "housing_loan": 0,
         "personal_loan": 0,
         "contact_means": "telephone",
         "day": 8,
         "month": "nov",
         "duration": 207,
         "no_of_calls": 1,
         "pdaystillnow": 185,
         "pnum_calls": 3,
         "poutcome": "success",
         "y": 0,
         "_deepnote_index_column": 45141
        },
        {
         "age": 34,
         "age_group": "30-39",
         "job": "admin.",
         "marital": "married",
         "education": "tertiary",
         "credit_default": 0,
         "balance": 79,
         "balance_bin": "0-9999",
         "housing_loan": 1,
         "personal_loan": 0,
         "contact_means": "cellular",
         "day": 8,
         "month": "nov",
         "duration": 120,
         "no_of_calls": 2,
         "pdaystillnow": 95,
         "pnum_calls": 6,
         "poutcome": "success",
         "y": 0,
         "_deepnote_index_column": 45142
        },
        {
         "age": 38,
         "age_group": "30-39",
         "job": "technician",
         "marital": "married",
         "education": "tertiary",
         "credit_default": 0,
         "balance": 88,
         "balance_bin": "0-9999",
         "housing_loan": 0,
         "personal_loan": 0,
         "contact_means": "cellular",
         "day": 8,
         "month": "nov",
         "duration": 282,
         "no_of_calls": 2,
         "pdaystillnow": 186,
         "pnum_calls": 4,
         "poutcome": "success",
         "y": 1,
         "_deepnote_index_column": 45149
        },
        {
         "age": 65,
         "age_group": "60-69",
         "job": "management",
         "marital": "married",
         "education": "unknown",
         "credit_default": 0,
         "balance": 2352,
         "balance_bin": "0-9999",
         "housing_loan": 0,
         "personal_loan": 0,
         "contact_means": "cellular",
         "day": 8,
         "month": "nov",
         "duration": 354,
         "no_of_calls": 3,
         "pdaystillnow": 188,
         "pnum_calls": 13,
         "poutcome": "success",
         "y": 0,
         "_deepnote_index_column": 45150
        },
        {
         "age": 44,
         "age_group": "40-49",
         "job": "entrepreneur",
         "marital": "married",
         "education": "tertiary",
         "credit_default": 0,
         "balance": 121,
         "balance_bin": "0-9999",
         "housing_loan": 0,
         "personal_loan": 0,
         "contact_means": "cellular",
         "day": 9,
         "month": "nov",
         "duration": 248,
         "no_of_calls": 1,
         "pdaystillnow": 91,
         "pnum_calls": 1,
         "poutcome": "success",
         "y": 1,
         "_deepnote_index_column": 45155
        },
        {
         "age": 35,
         "age_group": "30-39",
         "job": "technician",
         "marital": "married",
         "education": "secondary",
         "credit_default": 0,
         "balance": 0,
         "balance_bin": "0-9999",
         "housing_loan": 1,
         "personal_loan": 0,
         "contact_means": "cellular",
         "day": 9,
         "month": "nov",
         "duration": 524,
         "no_of_calls": 1,
         "pdaystillnow": 96,
         "pnum_calls": 5,
         "poutcome": "success",
         "y": 1,
         "_deepnote_index_column": 45160
        },
        {
         "age": 29,
         "age_group": "20-29",
         "job": "admin.",
         "marital": "single",
         "education": "secondary",
         "credit_default": 0,
         "balance": 464,
         "balance_bin": "0-9999",
         "housing_loan": 0,
         "personal_loan": 0,
         "contact_means": "cellular",
         "day": 9,
         "month": "nov",
         "duration": 208,
         "no_of_calls": 2,
         "pdaystillnow": 91,
         "pnum_calls": 3,
         "poutcome": "success",
         "y": 1,
         "_deepnote_index_column": 45162
        },
        {
         "age": 41,
         "age_group": "40-49",
         "job": "unemployed",
         "marital": "single",
         "education": "tertiary",
         "credit_default": 0,
         "balance": 79,
         "balance_bin": "0-9999",
         "housing_loan": 0,
         "personal_loan": 0,
         "contact_means": "telephone",
         "day": 9,
         "month": "nov",
         "duration": 394,
         "no_of_calls": 1,
         "pdaystillnow": 390,
         "pnum_calls": 2,
         "poutcome": "success",
         "y": 1,
         "_deepnote_index_column": 45166
        },
        {
         "age": 62,
         "age_group": "60-69",
         "job": "retired",
         "marital": "married",
         "education": "tertiary",
         "credit_default": 0,
         "balance": 2557,
         "balance_bin": "0-9999",
         "housing_loan": 1,
         "personal_loan": 0,
         "contact_means": "cellular",
         "day": 10,
         "month": "nov",
         "duration": 404,
         "no_of_calls": 1,
         "pdaystillnow": 57,
         "pnum_calls": 8,
         "poutcome": "success",
         "y": 1,
         "_deepnote_index_column": 45168
        },
        {
         "age": 30,
         "age_group": "30-39",
         "job": "technician",
         "marital": "single",
         "education": "tertiary",
         "credit_default": 0,
         "balance": 2325,
         "balance_bin": "0-9999",
         "housing_loan": 0,
         "personal_loan": 0,
         "contact_means": "cellular",
         "day": 10,
         "month": "nov",
         "duration": 134,
         "no_of_calls": 1,
         "pdaystillnow": 92,
         "pnum_calls": 8,
         "poutcome": "success",
         "y": 0,
         "_deepnote_index_column": 45172
        },
        {
         "age": 62,
         "age_group": "60-69",
         "job": "blue-collar",
         "marital": "married",
         "education": "secondary",
         "credit_default": 0,
         "balance": 272,
         "balance_bin": "0-9999",
         "housing_loan": 0,
         "personal_loan": 0,
         "contact_means": "cellular",
         "day": 11,
         "month": "nov",
         "duration": 289,
         "no_of_calls": 1,
         "pdaystillnow": 92,
         "pnum_calls": 3,
         "poutcome": "success",
         "y": 1,
         "_deepnote_index_column": 45174
        },
        {
         "age": 38,
         "age_group": "30-39",
         "job": "entrepreneur",
         "marital": "single",
         "education": "secondary",
         "credit_default": 0,
         "balance": 2543,
         "balance_bin": "0-9999",
         "housing_loan": 0,
         "personal_loan": 0,
         "contact_means": "cellular",
         "day": 11,
         "month": "nov",
         "duration": 357,
         "no_of_calls": 3,
         "pdaystillnow": 93,
         "pnum_calls": 5,
         "poutcome": "success",
         "y": 1,
         "_deepnote_index_column": 45175
        },
        {
         "age": 36,
         "age_group": "30-39",
         "job": "admin.",
         "marital": "divorced",
         "education": "secondary",
         "credit_default": 0,
         "balance": 1224,
         "balance_bin": "0-9999",
         "housing_loan": 1,
         "personal_loan": 0,
         "contact_means": "cellular",
         "day": 12,
         "month": "nov",
         "duration": 482,
         "no_of_calls": 1,
         "pdaystillnow": 374,
         "pnum_calls": 1,
         "poutcome": "success",
         "y": 1,
         "_deepnote_index_column": 45177
        },
        {
         "age": 34,
         "age_group": "30-39",
         "job": "blue-collar",
         "marital": "married",
         "education": "secondary",
         "credit_default": 0,
         "balance": 320,
         "balance_bin": "0-9999",
         "housing_loan": 1,
         "personal_loan": 0,
         "contact_means": "cellular",
         "day": 12,
         "month": "nov",
         "duration": 413,
         "no_of_calls": 1,
         "pdaystillnow": 92,
         "pnum_calls": 3,
         "poutcome": "success",
         "y": 1,
         "_deepnote_index_column": 45178
        },
        {
         "age": 34,
         "age_group": "30-39",
         "job": "technician",
         "marital": "married",
         "education": "secondary",
         "credit_default": 0,
         "balance": 133,
         "balance_bin": "0-9999",
         "housing_loan": 0,
         "personal_loan": 0,
         "contact_means": "cellular",
         "day": 15,
         "month": "nov",
         "duration": 401,
         "no_of_calls": 2,
         "pdaystillnow": 187,
         "pnum_calls": 5,
         "poutcome": "success",
         "y": 1,
         "_deepnote_index_column": 45182
        },
        {
         "age": 70,
         "age_group": "70-79",
         "job": "retired",
         "marital": "married",
         "education": "primary",
         "credit_default": 0,
         "balance": 324,
         "balance_bin": "0-9999",
         "housing_loan": 0,
         "personal_loan": 0,
         "contact_means": "cellular",
         "day": 15,
         "month": "nov",
         "duration": 78,
         "no_of_calls": 1,
         "pdaystillnow": 96,
         "pnum_calls": 7,
         "poutcome": "success",
         "y": 0,
         "_deepnote_index_column": 45183
        },
        {
         "age": 63,
         "age_group": "60-69",
         "job": "retired",
         "marital": "married",
         "education": "secondary",
         "credit_default": 0,
         "balance": 1495,
         "balance_bin": "0-9999",
         "housing_loan": 0,
         "personal_loan": 0,
         "contact_means": "cellular",
         "day": 16,
         "month": "nov",
         "duration": 138,
         "no_of_calls": 1,
         "pdaystillnow": 22,
         "pnum_calls": 5,
         "poutcome": "success",
         "y": 0,
         "_deepnote_index_column": 45184
        },
        {
         "age": 60,
         "age_group": "60-69",
         "job": "services",
         "marital": "married",
         "education": "tertiary",
         "credit_default": 0,
         "balance": 4256,
         "balance_bin": "0-9999",
         "housing_loan": 1,
         "personal_loan": 0,
         "contact_means": "cellular",
         "day": 16,
         "month": "nov",
         "duration": 200,
         "no_of_calls": 1,
         "pdaystillnow": 92,
         "pnum_calls": 4,
         "poutcome": "success",
         "y": 1,
         "_deepnote_index_column": 45185
        },
        {
         "age": 29,
         "age_group": "20-29",
         "job": "management",
         "marital": "single",
         "education": "secondary",
         "credit_default": 0,
         "balance": 703,
         "balance_bin": "0-9999",
         "housing_loan": 1,
         "personal_loan": 0,
         "contact_means": "cellular",
         "day": 16,
         "month": "nov",
         "duration": 236,
         "no_of_calls": 1,
         "pdaystillnow": 550,
         "pnum_calls": 2,
         "poutcome": "success",
         "y": 1,
         "_deepnote_index_column": 45188
        },
        {
         "age": 32,
         "age_group": "30-39",
         "job": "blue-collar",
         "marital": "married",
         "education": "secondary",
         "credit_default": 0,
         "balance": 136,
         "balance_bin": "0-9999",
         "housing_loan": 0,
         "personal_loan": 0,
         "contact_means": "cellular",
         "day": 16,
         "month": "nov",
         "duration": 206,
         "no_of_calls": 1,
         "pdaystillnow": 188,
         "pnum_calls": 3,
         "poutcome": "success",
         "y": 1,
         "_deepnote_index_column": 45190
        },
        {
         "age": 28,
         "age_group": "20-29",
         "job": "self-employed",
         "marital": "single",
         "education": "tertiary",
         "credit_default": 0,
         "balance": 159,
         "balance_bin": "0-9999",
         "housing_loan": 0,
         "personal_loan": 0,
         "contact_means": "cellular",
         "day": 16,
         "month": "nov",
         "duration": 449,
         "no_of_calls": 2,
         "pdaystillnow": 33,
         "pnum_calls": 4,
         "poutcome": "success",
         "y": 1,
         "_deepnote_index_column": 45193
        },
        {
         "age": 68,
         "age_group": "60-69",
         "job": "retired",
         "marital": "married",
         "education": "secondary",
         "credit_default": 0,
         "balance": 1146,
         "balance_bin": "0-9999",
         "housing_loan": 0,
         "personal_loan": 0,
         "contact_means": "cellular",
         "day": 16,
         "month": "nov",
         "duration": 212,
         "no_of_calls": 1,
         "pdaystillnow": 187,
         "pnum_calls": 6,
         "poutcome": "success",
         "y": 1,
         "_deepnote_index_column": 45195
        },
        {
         "age": 53,
         "age_group": "50-59",
         "job": "management",
         "marital": "married",
         "education": "tertiary",
         "credit_default": 0,
         "balance": 583,
         "balance_bin": "0-9999",
         "housing_loan": 0,
         "personal_loan": 0,
         "contact_means": "cellular",
         "day": 17,
         "month": "nov",
         "duration": 226,
         "no_of_calls": 1,
         "pdaystillnow": 184,
         "pnum_calls": 4,
         "poutcome": "success",
         "y": 1,
         "_deepnote_index_column": 45201
        },
        {
         "age": 72,
         "age_group": "70-79",
         "job": "retired",
         "marital": "married",
         "education": "secondary",
         "credit_default": 0,
         "balance": 5715,
         "balance_bin": "0-9999",
         "housing_loan": 0,
         "personal_loan": 0,
         "contact_means": "cellular",
         "day": 17,
         "month": "nov",
         "duration": 1127,
         "no_of_calls": 5,
         "pdaystillnow": 184,
         "pnum_calls": 3,
         "poutcome": "success",
         "y": 1,
         "_deepnote_index_column": 45208
        }
       ]
      },
      "text/plain": "       age age_group            job   marital  education  credit_default  \\\n24080   56     50-59     technician   married  secondary               0   \n24165   30     30-39         admin.   married  secondary               0   \n24239   48     40-49         admin.  divorced  secondary               0   \n24264   49     40-49     management   married   tertiary               0   \n24435   42     40-49     technician   married   tertiary               0   \n...    ...       ...            ...       ...        ...             ...   \n45190   32     30-39    blue-collar   married  secondary               0   \n45193   28     20-29  self-employed    single   tertiary               0   \n45195   68     60-69        retired   married  secondary               0   \n45201   53     50-59     management   married   tertiary               0   \n45208   72     70-79        retired   married  secondary               0   \n\n       balance  balance_bin  housing_loan  personal_loan contact_means  day  \\\n24080      589       0-9999             1              0       unknown   23   \n24165      873       0-9999             1              0     telephone   12   \n24239      295       0-9999             1              0      cellular   17   \n24264       64       0-9999             0              0      cellular   17   \n24435    14282  10000-19999             1              0      cellular   17   \n...        ...          ...           ...            ...           ...  ...   \n45190      136       0-9999             0              0      cellular   16   \n45193      159       0-9999             0              0      cellular   16   \n45195     1146       0-9999             0              0      cellular   16   \n45201      583       0-9999             0              0      cellular   17   \n45208     5715       0-9999             0              0      cellular   17   \n\n      month  duration  no_of_calls  pdaystillnow  pnum_calls poutcome  y  \n24080   oct       518            1           147           2  success  1  \n24165   nov       119            1           167           3  success  0  \n24239   nov       123            1           164           2  success  0  \n24264   nov       208            1           159           1  success  0  \n24435   nov        77            1           103           4  success  0  \n...     ...       ...          ...           ...         ...      ... ..  \n45190   nov       206            1           188           3  success  1  \n45193   nov       449            2            33           4  success  1  \n45195   nov       212            1           187           6  success  1  \n45201   nov       226            1           184           4  success  1  \n45208   nov      1127            5           184           3  success  1  \n\n[1511 rows x 19 columns]",
      "text/html": "<div>\n<style scoped>\n    .dataframe tbody tr th:only-of-type {\n        vertical-align: middle;\n    }\n\n    .dataframe tbody tr th {\n        vertical-align: top;\n    }\n\n    .dataframe thead th {\n        text-align: right;\n    }\n</style>\n<table border=\"1\" class=\"dataframe\">\n  <thead>\n    <tr style=\"text-align: right;\">\n      <th></th>\n      <th>age</th>\n      <th>age_group</th>\n      <th>job</th>\n      <th>marital</th>\n      <th>education</th>\n      <th>credit_default</th>\n      <th>balance</th>\n      <th>balance_bin</th>\n      <th>housing_loan</th>\n      <th>personal_loan</th>\n      <th>contact_means</th>\n      <th>day</th>\n      <th>month</th>\n      <th>duration</th>\n      <th>no_of_calls</th>\n      <th>pdaystillnow</th>\n      <th>pnum_calls</th>\n      <th>poutcome</th>\n      <th>y</th>\n    </tr>\n  </thead>\n  <tbody>\n    <tr>\n      <th>24080</th>\n      <td>56</td>\n      <td>50-59</td>\n      <td>technician</td>\n      <td>married</td>\n      <td>secondary</td>\n      <td>0</td>\n      <td>589</td>\n      <td>0-9999</td>\n      <td>1</td>\n      <td>0</td>\n      <td>unknown</td>\n      <td>23</td>\n      <td>oct</td>\n      <td>518</td>\n      <td>1</td>\n      <td>147</td>\n      <td>2</td>\n      <td>success</td>\n      <td>1</td>\n    </tr>\n    <tr>\n      <th>24165</th>\n      <td>30</td>\n      <td>30-39</td>\n      <td>admin.</td>\n      <td>married</td>\n      <td>secondary</td>\n      <td>0</td>\n      <td>873</td>\n      <td>0-9999</td>\n      <td>1</td>\n      <td>0</td>\n      <td>telephone</td>\n      <td>12</td>\n      <td>nov</td>\n      <td>119</td>\n      <td>1</td>\n      <td>167</td>\n      <td>3</td>\n      <td>success</td>\n      <td>0</td>\n    </tr>\n    <tr>\n      <th>24239</th>\n      <td>48</td>\n      <td>40-49</td>\n      <td>admin.</td>\n      <td>divorced</td>\n      <td>secondary</td>\n      <td>0</td>\n      <td>295</td>\n      <td>0-9999</td>\n      <td>1</td>\n      <td>0</td>\n      <td>cellular</td>\n      <td>17</td>\n      <td>nov</td>\n      <td>123</td>\n      <td>1</td>\n      <td>164</td>\n      <td>2</td>\n      <td>success</td>\n      <td>0</td>\n    </tr>\n    <tr>\n      <th>24264</th>\n      <td>49</td>\n      <td>40-49</td>\n      <td>management</td>\n      <td>married</td>\n      <td>tertiary</td>\n      <td>0</td>\n      <td>64</td>\n      <td>0-9999</td>\n      <td>0</td>\n      <td>0</td>\n      <td>cellular</td>\n      <td>17</td>\n      <td>nov</td>\n      <td>208</td>\n      <td>1</td>\n      <td>159</td>\n      <td>1</td>\n      <td>success</td>\n      <td>0</td>\n    </tr>\n    <tr>\n      <th>24435</th>\n      <td>42</td>\n      <td>40-49</td>\n      <td>technician</td>\n      <td>married</td>\n      <td>tertiary</td>\n      <td>0</td>\n      <td>14282</td>\n      <td>10000-19999</td>\n      <td>1</td>\n      <td>0</td>\n      <td>cellular</td>\n      <td>17</td>\n      <td>nov</td>\n      <td>77</td>\n      <td>1</td>\n      <td>103</td>\n      <td>4</td>\n      <td>success</td>\n      <td>0</td>\n    </tr>\n    <tr>\n      <th>...</th>\n      <td>...</td>\n      <td>...</td>\n      <td>...</td>\n      <td>...</td>\n      <td>...</td>\n      <td>...</td>\n      <td>...</td>\n      <td>...</td>\n      <td>...</td>\n      <td>...</td>\n      <td>...</td>\n      <td>...</td>\n      <td>...</td>\n      <td>...</td>\n      <td>...</td>\n      <td>...</td>\n      <td>...</td>\n      <td>...</td>\n      <td>...</td>\n    </tr>\n    <tr>\n      <th>45190</th>\n      <td>32</td>\n      <td>30-39</td>\n      <td>blue-collar</td>\n      <td>married</td>\n      <td>secondary</td>\n      <td>0</td>\n      <td>136</td>\n      <td>0-9999</td>\n      <td>0</td>\n      <td>0</td>\n      <td>cellular</td>\n      <td>16</td>\n      <td>nov</td>\n      <td>206</td>\n      <td>1</td>\n      <td>188</td>\n      <td>3</td>\n      <td>success</td>\n      <td>1</td>\n    </tr>\n    <tr>\n      <th>45193</th>\n      <td>28</td>\n      <td>20-29</td>\n      <td>self-employed</td>\n      <td>single</td>\n      <td>tertiary</td>\n      <td>0</td>\n      <td>159</td>\n      <td>0-9999</td>\n      <td>0</td>\n      <td>0</td>\n      <td>cellular</td>\n      <td>16</td>\n      <td>nov</td>\n      <td>449</td>\n      <td>2</td>\n      <td>33</td>\n      <td>4</td>\n      <td>success</td>\n      <td>1</td>\n    </tr>\n    <tr>\n      <th>45195</th>\n      <td>68</td>\n      <td>60-69</td>\n      <td>retired</td>\n      <td>married</td>\n      <td>secondary</td>\n      <td>0</td>\n      <td>1146</td>\n      <td>0-9999</td>\n      <td>0</td>\n      <td>0</td>\n      <td>cellular</td>\n      <td>16</td>\n      <td>nov</td>\n      <td>212</td>\n      <td>1</td>\n      <td>187</td>\n      <td>6</td>\n      <td>success</td>\n      <td>1</td>\n    </tr>\n    <tr>\n      <th>45201</th>\n      <td>53</td>\n      <td>50-59</td>\n      <td>management</td>\n      <td>married</td>\n      <td>tertiary</td>\n      <td>0</td>\n      <td>583</td>\n      <td>0-9999</td>\n      <td>0</td>\n      <td>0</td>\n      <td>cellular</td>\n      <td>17</td>\n      <td>nov</td>\n      <td>226</td>\n      <td>1</td>\n      <td>184</td>\n      <td>4</td>\n      <td>success</td>\n      <td>1</td>\n    </tr>\n    <tr>\n      <th>45208</th>\n      <td>72</td>\n      <td>70-79</td>\n      <td>retired</td>\n      <td>married</td>\n      <td>secondary</td>\n      <td>0</td>\n      <td>5715</td>\n      <td>0-9999</td>\n      <td>0</td>\n      <td>0</td>\n      <td>cellular</td>\n      <td>17</td>\n      <td>nov</td>\n      <td>1127</td>\n      <td>5</td>\n      <td>184</td>\n      <td>3</td>\n      <td>success</td>\n      <td>1</td>\n    </tr>\n  </tbody>\n</table>\n<p>1511 rows × 19 columns</p>\n</div>"
     },
     "metadata": {}
    }
   ]
  },
  {
   "cell_type": "markdown",
   "source": "978 customers out of 1511 who said yes to previous campaign have also said yes to the current campaign --> 65% conversion rate --> previous campaign is a pretty good predictor --> we should examine previous campaign to see what variables could help determine the yes outcome.",
   "metadata": {
    "tags": [],
    "cell_id": "00015-91a075dd-d8b4-40a2-9c88-17550873b01c",
    "deepnote_cell_type": "markdown"
   }
  },
  {
   "cell_type": "markdown",
   "source": "### 2. Perform correlation test based on the data pertaining to the previous campaign",
   "metadata": {
    "tags": [],
    "cell_id": "00036-364349fc-a9fe-45f7-b40d-d308156e8c6d",
    "deepnote_cell_type": "markdown"
   }
  },
  {
   "cell_type": "code",
   "metadata": {
    "tags": [],
    "cell_id": "00010-216cf02a-6152-4caf-b62e-9b3275d7b83e",
    "deepnote_to_be_reexecuted": false,
    "source_hash": "63bce1fe",
    "execution_start": 1636106409189,
    "execution_millis": 13,
    "deepnote_cell_type": "code"
   },
   "source": "# looking at columns related to previous campaign\n# looking at rows whose poutcome is known (success or failure)\n\npcampaign_data = data[[\"age_group\",\"job\",\"marital\",\"education\", \"credit_default\", \"balance_bin\", \"housing_loan\",\"personal_loan\",\"poutcome\"]]\npcampaign_data = pcampaign_data[(pcampaign_data[\"poutcome\"]==\"success\") | (pcampaign_data[\"poutcome\"]==\"failure\")]",
   "execution_count": 24,
   "outputs": []
  },
  {
   "cell_type": "code",
   "metadata": {
    "tags": [],
    "cell_id": "00010-2d7fa0a6-ecb3-404f-affc-e0a4c1e6de9d",
    "deepnote_to_be_reexecuted": false,
    "source_hash": "961029bc",
    "execution_start": 1636106409205,
    "execution_millis": 14,
    "deepnote_cell_type": "code"
   },
   "source": "pcampaign_data = pcampaign_data.apply(lambda x: x.astype(\"category\"))",
   "execution_count": 25,
   "outputs": []
  },
  {
   "cell_type": "code",
   "metadata": {
    "tags": [],
    "cell_id": "00034-1750da69-46a4-4ae6-93a4-2a7ddaa62db6",
    "deepnote_to_be_reexecuted": false,
    "source_hash": "dc42b1b4",
    "execution_start": 1636106409223,
    "execution_millis": 1202,
    "deepnote_cell_type": "code"
   },
   "source": "# examining Cramer's V correlation\ncramersv = am.CramersV(pcampaign_data)\ncorr_df = cramersv.fit()\ncorr_df.loc[\"poutcome\"]",
   "execution_count": 26,
   "outputs": [
    {
     "output_type": "execute_result",
     "execution_count": 26,
     "data": {
      "text/plain": "age_group         0.216943\njob               0.206495\nmarital           0.051221\neducation         0.113036\ncredit_default    0.035322\nbalance_bin       0.120127\nhousing_loan      0.345592\npersonal_loan     0.129348\npoutcome          1.000000\nName: poutcome, dtype: float64"
     },
     "metadata": {}
    }
   ]
  },
  {
   "cell_type": "code",
   "metadata": {
    "tags": [],
    "cell_id": "00051-19d15e45-ffe4-4579-acdd-bcf4fe53e60c",
    "deepnote_to_be_reexecuted": false,
    "source_hash": "ead2a0fe",
    "execution_start": 1636106410425,
    "execution_millis": 1638,
    "deepnote_cell_type": "code"
   },
   "source": "sns.heatmap(corr_df, cmap=\"Blues\", annot=True)",
   "execution_count": 27,
   "outputs": [
    {
     "output_type": "execute_result",
     "execution_count": 27,
     "data": {
      "text/plain": "<AxesSubplot:>"
     },
     "metadata": {}
    },
    {
     "data": {
      "text/plain": "<Figure size 432x288 with 2 Axes>",
      "image/png": "[encoded data removed]"
     },
     "metadata": {
      "needs_background": "light",
      "image/png": {
       "width": 409,
       "height": 312
      }
     },
     "output_type": "display_data"
    }
   ]
  },
  {
   "cell_type": "markdown",
   "source": "degree of freedom (df) is min(r,c)-1. Since we are only interested in the correlation between poutcome and other variables (because we want to know which variables determine the outcome) and poutcome in pcampaign_data has only two values - \"success\" or \"failure\", then df is always 2-1 = 1.\n\nFor df=1, \ncorrelation .10 --> small\ncorrelation .30 --> medium\ncorrelation .50 --> large\n\nHere are the determining factors in order of importance: \n- housing_loan 0.346--> medium correlation\n- age_group    0.217--> small-meidum correlation\n- job          0.207--> small-medium\n\n- personal_loan 0.129--> small correlation\n- balance_bin  0.120--> small correlation\n- education    0.113--> small correlation\n\n- martial      0.0512--> small to no correlation \n- credit_default 0.035--> small to no correlation\n\nWe will first examine the first three factors with the largest correlation.",
   "metadata": {
    "tags": [],
    "cell_id": "00038-fd1e6ab9-d92f-4579-8d57-b30521dc6f27",
    "deepnote_cell_type": "markdown"
   }
  },
  {
   "cell_type": "markdown",
   "source": "### 3. Analyse data based on all the customers who have said yes in the previous campaign",
   "metadata": {
    "tags": [],
    "cell_id": "00041-0d30d19f-3d23-49a8-a2de-6aec1189e331",
    "deepnote_cell_type": "markdown"
   }
  },
  {
   "cell_type": "code",
   "metadata": {
    "tags": [],
    "cell_id": "00039-a6ebd6cc-62df-489c-a3b8-fe1b07bbd299",
    "deepnote_to_be_reexecuted": false,
    "source_hash": "95a3048a",
    "execution_start": 1636106412060,
    "execution_millis": 32,
    "deepnote_cell_type": "code"
   },
   "source": "# looking at previous campaign data in relation to people who said yes only.\n\npcampaign_data = data[[\"age\", \"age_group\",\"job\",\"marital\",\"education\", \"credit_default\", \"balance\", \"balance_bin\", \"housing_loan\",\"personal_loan\",\"poutcome\"]]\npcampaign_data = pcampaign_data[(pcampaign_data[\"poutcome\"]==\"success\") | (pcampaign_data[\"poutcome\"]==\"failure\")]\n\npcampaign_said_yes = pcampaign_data[pcampaign_data[\"poutcome\"]==\"success\"]",
   "execution_count": 28,
   "outputs": []
  },
  {
   "cell_type": "markdown",
   "source": "`value_counts` is the most relevant analysis here as marketing department would be interested to know from the people who have said yes in the previous campaign, how their age is distributed, how many of them have a housing loan and the types of jobs which all have a small to medium correlation.\n\n`mean`, `max`, `min` would not be relevant for this type of categorical data.",
   "metadata": {
    "tags": [],
    "cell_id": "00056-0685cf03-0aea-4f00-9871-518eda412a00",
    "deepnote_cell_type": "markdown"
   }
  },
  {
   "cell_type": "code",
   "metadata": {
    "tags": [],
    "cell_id": "00043-16b22cc6-9438-4824-aff6-c75af58124b0",
    "deepnote_to_be_reexecuted": false,
    "source_hash": "bc49b8ae",
    "execution_start": 1636106412092,
    "execution_millis": 297,
    "deepnote_cell_type": "code"
   },
   "source": "pcampaign_said_yes[\"housing_loan\"].value_counts().plot(kind=\"bar\")",
   "execution_count": 29,
   "outputs": [
    {
     "output_type": "execute_result",
     "execution_count": 29,
     "data": {
      "text/plain": "<AxesSubplot:>"
     },
     "metadata": {}
    },
    {
     "data": {
      "text/plain": "<Figure size 432x288 with 1 Axes>",
      "image/png": "[encoded data removed]"
     },
     "metadata": {
      "needs_background": "light",
      "image/png": {
       "width": 381,
       "height": 245
      }
     },
     "output_type": "display_data"
    }
   ]
  },
  {
   "cell_type": "code",
   "metadata": {
    "tags": [],
    "cell_id": "00043-7bfe1059-9c4b-40e5-9bd2-a5146b499609",
    "deepnote_to_be_reexecuted": false,
    "source_hash": "41b53b01",
    "execution_start": 1636106412381,
    "execution_millis": 420,
    "deepnote_cell_type": "code"
   },
   "source": "pcampaign_said_yes[\"age_group\"].value_counts().plot(kind=\"bar\")",
   "execution_count": 30,
   "outputs": [
    {
     "output_type": "execute_result",
     "execution_count": 30,
     "data": {
      "text/plain": "<AxesSubplot:>"
     },
     "metadata": {}
    },
    {
     "data": {
      "text/plain": "<Figure size 432x288 with 1 Axes>",
      "image/png": "[encoded data removed]"
     },
     "metadata": {
      "needs_background": "light",
      "image/png": {
       "width": 375,
       "height": 267
      }
     },
     "output_type": "display_data"
    }
   ]
  },
  {
   "cell_type": "code",
   "metadata": {
    "tags": [],
    "cell_id": "00043-629e6dd6-2441-46c7-81aa-c566747d1e88",
    "deepnote_to_be_reexecuted": false,
    "source_hash": "d9601d1d",
    "execution_start": 1636106412859,
    "execution_millis": 383,
    "deepnote_cell_type": "code"
   },
   "source": "pcampaign_said_yes[\"job\"].value_counts().plot(kind=\"bar\")",
   "execution_count": 31,
   "outputs": [
    {
     "output_type": "execute_result",
     "execution_count": 31,
     "data": {
      "text/plain": "<AxesSubplot:>"
     },
     "metadata": {}
    },
    {
     "data": {
      "text/plain": "<Figure size 432x288 with 1 Axes>",
      "image/png": "[encoded data removed]"
     },
     "metadata": {
      "needs_background": "light",
      "image/png": {
       "width": 375,
       "height": 309
      }
     },
     "output_type": "display_data"
    }
   ]
  },
  {
   "cell_type": "code",
   "metadata": {
    "tags": [],
    "cell_id": "00006-55af7981-44a2-44aa-9c8e-4b5f261d7f3e",
    "deepnote_to_be_reexecuted": false,
    "source_hash": "23c9eb69",
    "execution_start": 1636106413227,
    "execution_millis": 3203,
    "deepnote_cell_type": "code"
   },
   "source": "# examining the outcome of previous campaign by profession\ncross_job_outcome = pd.crosstab(pcampaign_data.job,pcampaign_data.poutcome)\ncross_job_outcome[['failure','success']].plot(kind='bar')",
   "execution_count": 32,
   "outputs": [
    {
     "output_type": "execute_result",
     "execution_count": 32,
     "data": {
      "text/plain": "<AxesSubplot:xlabel='job'>"
     },
     "metadata": {}
    },
    {
     "data": {
      "text/plain": "<Figure size 432x288 with 1 Axes>",
      "image/png": "[encoded data removed]"
     },
     "metadata": {
      "needs_background": "light",
      "image/png": {
       "width": 381,
       "height": 323
      }
     },
     "output_type": "display_data"
    }
   ]
  },
  {
   "cell_type": "code",
   "metadata": {
    "tags": [],
    "cell_id": "00047-efbca7aa-5079-44f6-a537-c2b442412db3",
    "deepnote_to_be_reexecuted": false,
    "source_hash": "d7b0557a",
    "execution_start": 1636106413803,
    "execution_millis": 2627,
    "deepnote_cell_type": "code"
   },
   "source": "# find summary of balance\n\npcampaign_said_yes[\"balance\"].describe()",
   "execution_count": 33,
   "outputs": [
    {
     "output_type": "execute_result",
     "execution_count": 33,
     "data": {
      "text/plain": "count     1511.000000\nmean      1939.301125\nstd       3725.976363\nmin       -405.000000\n25%        294.000000\n50%        920.000000\n75%       2316.500000\nmax      81204.000000\nName: balance, dtype: float64"
     },
     "metadata": {}
    }
   ]
  },
  {
   "cell_type": "code",
   "metadata": {
    "tags": [],
    "cell_id": "00048-c0bf920f-8a78-4c0c-86ab-e179c306a5ce",
    "deepnote_to_be_reexecuted": false,
    "source_hash": "6d8e4a74",
    "execution_start": 1636106413804,
    "execution_millis": 2626,
    "deepnote_cell_type": "code"
   },
   "source": "pcampaign_said_yes[\"age\"].describe()",
   "execution_count": 34,
   "outputs": [
    {
     "output_type": "execute_result",
     "execution_count": 34,
     "data": {
      "text/plain": "count    1511.000000\nmean       42.964924\nstd        14.301418\nmin        18.000000\n25%        32.000000\n50%        39.000000\n75%        53.000000\nmax        93.000000\nName: age, dtype: float64"
     },
     "metadata": {}
    }
   ]
  },
  {
   "cell_type": "code",
   "metadata": {
    "tags": [],
    "cell_id": "00048-87ae79b9-a0a5-419f-b39b-5906156c52bd",
    "deepnote_to_be_reexecuted": false,
    "source_hash": "e6658bda",
    "execution_start": 1636106413850,
    "execution_millis": 2621,
    "deepnote_cell_type": "code"
   },
   "source": "pcampaign_said_yes.groupby('job').mean()[['age','balance']]",
   "execution_count": 35,
   "outputs": [
    {
     "output_type": "execute_result",
     "execution_count": 35,
     "data": {
      "application/vnd.deepnote.dataframe.v2+json": {
       "row_count": 12,
       "column_count": 2,
       "columns": [
        {
         "name": "age",
         "dtype": "float64",
         "stats": {
          "unique_count": 12,
          "nan_count": 0,
          "min": "25.977011494252874",
          "max": "68.85632183908046",
          "histogram": [
           {
            "bin_start": 25.977011494252874,
            "bin_end": 30.26494252873563,
            "count": 1
           },
           {
            "bin_start": 30.26494252873563,
            "bin_end": 34.55287356321839,
            "count": 0
           },
           {
            "bin_start": 34.55287356321839,
            "bin_end": 38.84080459770115,
            "count": 0
           },
           {
            "bin_start": 38.84080459770115,
            "bin_end": 43.128735632183904,
            "count": 7
           },
           {
            "bin_start": 43.128735632183904,
            "bin_end": 47.41666666666667,
            "count": 1
           },
           {
            "bin_start": 47.41666666666667,
            "bin_end": 51.704597701149424,
            "count": 2
           },
           {
            "bin_start": 51.704597701149424,
            "bin_end": 55.99252873563218,
            "count": 0
           },
           {
            "bin_start": 55.99252873563218,
            "bin_end": 60.280459770114945,
            "count": 0
           },
           {
            "bin_start": 60.280459770114945,
            "bin_end": 64.5683908045977,
            "count": 0
           },
           {
            "bin_start": 64.5683908045977,
            "bin_end": 68.85632183908046,
            "count": 1
           }
          ]
         }
        },
        {
         "name": "balance",
         "dtype": "float64",
         "stats": {
          "unique_count": 12,
          "nan_count": 0,
          "min": "931.1818181818181",
          "max": "2839.9636363636364",
          "histogram": [
           {
            "bin_start": 931.1818181818181,
            "bin_end": 1122.06,
            "count": 1
           },
           {
            "bin_start": 1122.06,
            "bin_end": 1312.9381818181819,
            "count": 2
           },
           {
            "bin_start": 1312.9381818181819,
            "bin_end": 1503.8163636363638,
            "count": 4
           },
           {
            "bin_start": 1503.8163636363638,
            "bin_end": 1694.6945454545455,
            "count": 0
           },
           {
            "bin_start": 1694.6945454545455,
            "bin_end": 1885.5727272727272,
            "count": 0
           },
           {
            "bin_start": 1885.5727272727272,
            "bin_end": 2076.450909090909,
            "count": 1
           },
           {
            "bin_start": 2076.450909090909,
            "bin_end": 2267.329090909091,
            "count": 2
           },
           {
            "bin_start": 2267.329090909091,
            "bin_end": 2458.207272727273,
            "count": 0
           },
           {
            "bin_start": 2458.207272727273,
            "bin_end": 2649.085454545455,
            "count": 0
           },
           {
            "bin_start": 2649.085454545455,
            "bin_end": 2839.9636363636364,
            "count": 2
           }
          ]
         }
        },
        {
         "name": "_deepnote_index_column",
         "dtype": "object"
        }
       ],
       "rows_top": [
        {
         "age": 40.029411764705884,
         "balance": 1420.8039215686274,
         "_deepnote_index_column": "admin."
        },
        {
         "age": 38.99324324324324,
         "balance": 1351.5135135135135,
         "_deepnote_index_column": "blue-collar"
        },
        {
         "age": 47.31818181818182,
         "balance": 1909.7727272727273,
         "_deepnote_index_column": "entrepreneur"
        },
        {
         "age": 48.758620689655174,
         "balance": 1201.6896551724137,
         "_deepnote_index_column": "housemaid"
        },
        {
         "age": 40.61498708010336,
         "balance": 2260.105943152455,
         "_deepnote_index_column": "management"
        },
        {
         "age": 68.85632183908046,
         "balance": 2704.816091954023,
         "_deepnote_index_column": "retired"
        },
        {
         "age": 39.527272727272724,
         "balance": 2839.9636363636364,
         "_deepnote_index_column": "self-employed"
        },
        {
         "age": 39.01176470588236,
         "balance": 1143.105882352941,
         "_deepnote_index_column": "services"
        },
        {
         "age": 25.977011494252874,
         "balance": 1430.344827586207,
         "_deepnote_index_column": "student"
        },
        {
         "age": 40.19591836734694,
         "balance": 2201.285714285714,
         "_deepnote_index_column": "technician"
        },
        {
         "age": 42.3125,
         "balance": 1420.203125,
         "_deepnote_index_column": "unemployed"
        },
        {
         "age": 47.54545454545455,
         "balance": 931.1818181818181,
         "_deepnote_index_column": "unknown"
        }
       ],
       "rows_bottom": null
      },
      "text/plain": "                     age      balance\njob                                  \nadmin.         40.029412  1420.803922\nblue-collar    38.993243  1351.513514\nentrepreneur   47.318182  1909.772727\nhousemaid      48.758621  1201.689655\nmanagement     40.614987  2260.105943\nretired        68.856322  2704.816092\nself-employed  39.527273  2839.963636\nservices       39.011765  1143.105882\nstudent        25.977011  1430.344828\ntechnician     40.195918  2201.285714\nunemployed     42.312500  1420.203125\nunknown        47.545455   931.181818",
      "text/html": "<div>\n<style scoped>\n    .dataframe tbody tr th:only-of-type {\n        vertical-align: middle;\n    }\n\n    .dataframe tbody tr th {\n        vertical-align: top;\n    }\n\n    .dataframe thead th {\n        text-align: right;\n    }\n</style>\n<table border=\"1\" class=\"dataframe\">\n  <thead>\n    <tr style=\"text-align: right;\">\n      <th></th>\n      <th>age</th>\n      <th>balance</th>\n    </tr>\n    <tr>\n      <th>job</th>\n      <th></th>\n      <th></th>\n    </tr>\n  </thead>\n  <tbody>\n    <tr>\n      <th>admin.</th>\n      <td>40.029412</td>\n      <td>1420.803922</td>\n    </tr>\n    <tr>\n      <th>blue-collar</th>\n      <td>38.993243</td>\n      <td>1351.513514</td>\n    </tr>\n    <tr>\n      <th>entrepreneur</th>\n      <td>47.318182</td>\n      <td>1909.772727</td>\n    </tr>\n    <tr>\n      <th>housemaid</th>\n      <td>48.758621</td>\n      <td>1201.689655</td>\n    </tr>\n    <tr>\n      <th>management</th>\n      <td>40.614987</td>\n      <td>2260.105943</td>\n    </tr>\n    <tr>\n      <th>retired</th>\n      <td>68.856322</td>\n      <td>2704.816092</td>\n    </tr>\n    <tr>\n      <th>self-employed</th>\n      <td>39.527273</td>\n      <td>2839.963636</td>\n    </tr>\n    <tr>\n      <th>services</th>\n      <td>39.011765</td>\n      <td>1143.105882</td>\n    </tr>\n    <tr>\n      <th>student</th>\n      <td>25.977011</td>\n      <td>1430.344828</td>\n    </tr>\n    <tr>\n      <th>technician</th>\n      <td>40.195918</td>\n      <td>2201.285714</td>\n    </tr>\n    <tr>\n      <th>unemployed</th>\n      <td>42.312500</td>\n      <td>1420.203125</td>\n    </tr>\n    <tr>\n      <th>unknown</th>\n      <td>47.545455</td>\n      <td>931.181818</td>\n    </tr>\n  </tbody>\n</table>\n</div>"
     },
     "metadata": {}
    }
   ]
  },
  {
   "cell_type": "code",
   "metadata": {
    "tags": [],
    "cell_id": "00048-928f4f01-b491-4185-ae85-27a3ef946200",
    "deepnote_to_be_reexecuted": false,
    "source_hash": "cd782449",
    "execution_start": 1636106413891,
    "execution_millis": 2582,
    "deepnote_cell_type": "code"
   },
   "source": "pcampaign_said_yes.groupby('job').mean()[['age','balance']].plot(kind='bar',secondary_y='age')",
   "execution_count": 36,
   "outputs": [
    {
     "output_type": "execute_result",
     "execution_count": 36,
     "data": {
      "text/plain": "<AxesSubplot:xlabel='job'>"
     },
     "metadata": {}
    },
    {
     "data": {
      "text/plain": "<Figure size 432x288 with 2 Axes>",
      "image/png": "[encoded data removed]"
     },
     "metadata": {
      "needs_background": "light",
      "image/png": {
       "width": 401,
       "height": 323
      }
     },
     "output_type": "display_data"
    }
   ]
  },
  {
   "cell_type": "code",
   "metadata": {
    "tags": [],
    "cell_id": "00051-73e7553c-b96e-4b97-a185-15dbda67e391",
    "deepnote_to_be_reexecuted": false,
    "source_hash": "2d736e6b",
    "execution_start": 1636106414674,
    "execution_millis": 1800,
    "deepnote_cell_type": "code"
   },
   "source": "pcampaign_said_yes.balance.sort_values()[:-2].plot(kind='hist',bins=50);",
   "execution_count": 37,
   "outputs": [
    {
     "data": {
      "text/plain": "<Figure size 432x288 with 1 Axes>",
      "image/png": "[encoded data removed]"
     },
     "metadata": {
      "needs_background": "light",
      "image/png": {
       "width": 389,
       "height": 248
      }
     },
     "output_type": "display_data"
    }
   ]
  },
  {
   "cell_type": "code",
   "metadata": {
    "tags": [],
    "cell_id": "00052-13dad4f3-71be-415b-b982-a64b945a2c62",
    "deepnote_to_be_reexecuted": false,
    "source_hash": "fd6956ad",
    "execution_start": 1636106415168,
    "execution_millis": 1314,
    "deepnote_cell_type": "code"
   },
   "source": "pcampaign_said_yes.balance.plot(kind='box',)",
   "execution_count": 38,
   "outputs": [
    {
     "output_type": "execute_result",
     "execution_count": 38,
     "data": {
      "text/plain": "<AxesSubplot:>"
     },
     "metadata": {}
    },
    {
     "data": {
      "text/plain": "<Figure size 432x288 with 1 Axes>",
      "image/png": "[encoded data removed]"
     },
     "metadata": {
      "needs_background": "light",
      "image/png": {
       "width": 387,
       "height": 248
      }
     },
     "output_type": "display_data"
    }
   ]
  },
  {
   "cell_type": "code",
   "metadata": {
    "tags": [],
    "cell_id": "00062-f6631c4e-5791-4196-94be-3f3f27ef9dc7",
    "deepnote_to_be_reexecuted": false,
    "source_hash": "38b1eb94",
    "execution_start": 1636106416365,
    "execution_millis": 118,
    "deepnote_cell_type": "code"
   },
   "source": "pivot_table = data.pivot_table(index='job',columns='education',values='balance')\npivot_table",
   "execution_count": 39,
   "outputs": [
    {
     "output_type": "execute_result",
     "execution_count": 39,
     "data": {
      "application/vnd.deepnote.dataframe.v2+json": {
       "row_count": 12,
       "column_count": 4,
       "columns": [
        {
         "name": "primary",
         "dtype": "float64",
         "stats": {
          "unique_count": 12,
          "nan_count": 0,
          "min": "930.4784688995215",
          "max": "1879.5459119496854",
          "histogram": [
           {
            "bin_start": 930.4784688995215,
            "bin_end": 1025.3852132045379,
            "count": 2
           },
           {
            "bin_start": 1025.3852132045379,
            "bin_end": 1120.2919575095543,
            "count": 1
           },
           {
            "bin_start": 1120.2919575095543,
            "bin_end": 1215.1987018145708,
            "count": 1
           },
           {
            "bin_start": 1215.1987018145708,
            "bin_end": 1310.1054461195872,
            "count": 1
           },
           {
            "bin_start": 1310.1054461195872,
            "bin_end": 1405.0121904246034,
            "count": 1
           },
           {
            "bin_start": 1405.0121904246034,
            "bin_end": 1499.9189347296199,
            "count": 1
           },
           {
            "bin_start": 1499.9189347296199,
            "bin_end": 1594.8256790346363,
            "count": 1
           },
           {
            "bin_start": 1594.8256790346363,
            "bin_end": 1689.7324233396525,
            "count": 2
           },
           {
            "bin_start": 1689.7324233396525,
            "bin_end": 1784.6391676446692,
            "count": 1
           },
           {
            "bin_start": 1784.6391676446692,
            "bin_end": 1879.5459119496854,
            "count": 1
           }
          ]
         }
        },
        {
         "name": "secondary",
         "dtype": "float64",
         "stats": {
          "unique_count": 12,
          "nan_count": 0,
          "min": "957.8646225050622",
          "max": "2061.1229674796746",
          "histogram": [
           {
            "bin_start": 957.8646225050622,
            "bin_end": 1068.1904570025235,
            "count": 2
           },
           {
            "bin_start": 1068.1904570025235,
            "bin_end": 1178.5162914999846,
            "count": 3
           },
           {
            "bin_start": 1178.5162914999846,
            "bin_end": 1288.842125997446,
            "count": 3
           },
           {
            "bin_start": 1288.842125997446,
            "bin_end": 1399.1679604949072,
            "count": 1
           },
           {
            "bin_start": 1399.1679604949072,
            "bin_end": 1509.4937949923683,
            "count": 2
           },
           {
            "bin_start": 1509.4937949923683,
            "bin_end": 1619.8196294898296,
            "count": 0
           },
           {
            "bin_start": 1619.8196294898296,
            "bin_end": 1730.145463987291,
            "count": 0
           },
           {
            "bin_start": 1730.145463987291,
            "bin_end": 1840.471298484752,
            "count": 0
           },
           {
            "bin_start": 1840.471298484752,
            "bin_end": 1950.7971329822133,
            "count": 0
           },
           {
            "bin_start": 1950.7971329822133,
            "bin_end": 2061.1229674796746,
            "count": 1
           }
          ]
         }
        },
        {
         "name": "tertiary",
         "dtype": "float64",
         "stats": {
          "unique_count": 12,
          "nan_count": 0,
          "min": "1211.4356435643565",
          "max": "2359.4102564102564",
          "histogram": [
           {
            "bin_start": 1211.4356435643565,
            "bin_end": 1326.2331048489464,
            "count": 2
           },
           {
            "bin_start": 1326.2331048489464,
            "bin_end": 1441.0305661335365,
            "count": 0
           },
           {
            "bin_start": 1441.0305661335365,
            "bin_end": 1555.8280274181266,
            "count": 2
           },
           {
            "bin_start": 1555.8280274181266,
            "bin_end": 1670.6254887027164,
            "count": 1
           },
           {
            "bin_start": 1670.6254887027164,
            "bin_end": 1785.4229499873063,
            "count": 1
           },
           {
            "bin_start": 1785.4229499873063,
            "bin_end": 1900.2204112718964,
            "count": 3
           },
           {
            "bin_start": 1900.2204112718964,
            "bin_end": 2015.0178725564865,
            "count": 1
           },
           {
            "bin_start": 2015.0178725564865,
            "bin_end": 2129.8153338410766,
            "count": 0
           },
           {
            "bin_start": 2129.8153338410766,
            "bin_end": 2244.6127951256667,
            "count": 1
           },
           {
            "bin_start": 2244.6127951256667,
            "bin_end": 2359.4102564102564,
            "count": 1
           }
          ]
         }
        },
        {
         "name": "unknown",
         "dtype": "float64",
         "stats": {
          "unique_count": 12,
          "nan_count": 0,
          "min": "1040.8502202643172",
          "max": "2939.3333333333335",
          "histogram": [
           {
            "bin_start": 1040.8502202643172,
            "bin_end": 1230.6985315712188,
            "count": 1
           },
           {
            "bin_start": 1230.6985315712188,
            "bin_end": 1420.5468428781205,
            "count": 0
           },
           {
            "bin_start": 1420.5468428781205,
            "bin_end": 1610.395154185022,
            "count": 6
           },
           {
            "bin_start": 1610.395154185022,
            "bin_end": 1800.2434654919236,
            "count": 3
           },
           {
            "bin_start": 1800.2434654919236,
            "bin_end": 1990.0917767988253,
            "count": 1
           },
           {
            "bin_start": 1990.0917767988253,
            "bin_end": 2179.9400881057268,
            "count": 0
           },
           {
            "bin_start": 2179.9400881057268,
            "bin_end": 2369.7883994126287,
            "count": 0
           },
           {
            "bin_start": 2369.7883994126287,
            "bin_end": 2559.63671071953,
            "count": 0
           },
           {
            "bin_start": 2559.63671071953,
            "bin_end": 2749.4850220264316,
            "count": 0
           },
           {
            "bin_start": 2749.4850220264316,
            "bin_end": 2939.3333333333335,
            "count": 1
           }
          ]
         }
        },
        {
         "name": "_deepnote_index_column",
         "dtype": "object"
        }
       ],
       "rows_top": [
        {
         "primary": 930.4784688995215,
         "secondary": 1116.0599668167813,
         "tertiary": 1217.777972027972,
         "unknown": 1600.7426900584796,
         "_deepnote_index_column": "admin."
        },
        {
         "primary": 1086.104310803619,
         "secondary": 1063.894433066468,
         "tertiary": 1549.248322147651,
         "unknown": 1040.8502202643172,
         "_deepnote_index_column": "blue-collar"
        },
        {
         "primary": 1679.3661202185792,
         "secondary": 1070.8413284132841,
         "tertiary": 1831.8046647230321,
         "unknown": 1553.7894736842106,
         "_deepnote_index_column": "entrepreneur"
        },
        {
         "primary": 1128.261562998405,
         "secondary": 1443.5898734177215,
         "tertiary": 1830.4161849710983,
         "unknown": 2939.3333333333335,
         "_deepnote_index_column": "housemaid"
        },
        {
         "primary": 1672.2448979591836,
         "secondary": 1326.5370205173951,
         "tertiary": 1833.871170362774,
         "unknown": 1634.590909090909,
         "_deepnote_index_column": "management"
        },
        {
         "primary": 1879.5459119496854,
         "secondary": 2061.1229674796746,
         "tertiary": 2161.245901639344,
         "unknown": 1503.0504201680671,
         "_deepnote_index_column": "retired"
        },
        {
         "primary": 1330.7230769230769,
         "secondary": 1287.0294627383016,
         "tertiary": 1951.1992797118849,
         "unknown": 1568.8974358974358,
         "_deepnote_index_column": "self-employed"
        },
        {
         "primary": 966.5710144927536,
         "secondary": 957.8646225050622,
         "tertiary": 1211.4356435643565,
         "unknown": 1682.5933333333332,
         "_deepnote_index_column": "services"
        },
        {
         "primary": 1243.5227272727273,
         "secondary": 1259.9035433070867,
         "tertiary": 1644.9237668161436,
         "unknown": 1475.073619631902,
         "_deepnote_index_column": "student"
        },
        {
         "primary": 1487.2215189873418,
         "secondary": 1124.72270032511,
         "tertiary": 1511.4725609756097,
         "unknown": 1758.314049586777,
         "_deepnote_index_column": "technician"
        },
        {
         "primary": 1588.1906614785992,
         "secondary": 1432.7293956043957,
         "tertiary": 1686.8269896193772,
         "unknown": 1522.4137931034484,
         "_deepnote_index_column": "unemployed"
        },
        {
         "primary": 1750.2549019607843,
         "secondary": 1249.5211267605634,
         "tertiary": 2359.4102564102564,
         "unknown": 1893.251968503937,
         "_deepnote_index_column": "unknown"
        }
       ],
       "rows_bottom": null
      },
      "text/plain": "education          primary    secondary     tertiary      unknown\njob                                                              \nadmin.          930.478469  1116.059967  1217.777972  1600.742690\nblue-collar    1086.104311  1063.894433  1549.248322  1040.850220\nentrepreneur   1679.366120  1070.841328  1831.804665  1553.789474\nhousemaid      1128.261563  1443.589873  1830.416185  2939.333333\nmanagement     1672.244898  1326.537021  1833.871170  1634.590909\nretired        1879.545912  2061.122967  2161.245902  1503.050420\nself-employed  1330.723077  1287.029463  1951.199280  1568.897436\nservices        966.571014   957.864623  1211.435644  1682.593333\nstudent        1243.522727  1259.903543  1644.923767  1475.073620\ntechnician     1487.221519  1124.722700  1511.472561  1758.314050\nunemployed     1588.190661  1432.729396  1686.826990  1522.413793\nunknown        1750.254902  1249.521127  2359.410256  1893.251969",
      "text/html": "<div>\n<style scoped>\n    .dataframe tbody tr th:only-of-type {\n        vertical-align: middle;\n    }\n\n    .dataframe tbody tr th {\n        vertical-align: top;\n    }\n\n    .dataframe thead th {\n        text-align: right;\n    }\n</style>\n<table border=\"1\" class=\"dataframe\">\n  <thead>\n    <tr style=\"text-align: right;\">\n      <th>education</th>\n      <th>primary</th>\n      <th>secondary</th>\n      <th>tertiary</th>\n      <th>unknown</th>\n    </tr>\n    <tr>\n      <th>job</th>\n      <th></th>\n      <th></th>\n      <th></th>\n      <th></th>\n    </tr>\n  </thead>\n  <tbody>\n    <tr>\n      <th>admin.</th>\n      <td>930.478469</td>\n      <td>1116.059967</td>\n      <td>1217.777972</td>\n      <td>1600.742690</td>\n    </tr>\n    <tr>\n      <th>blue-collar</th>\n      <td>1086.104311</td>\n      <td>1063.894433</td>\n      <td>1549.248322</td>\n      <td>1040.850220</td>\n    </tr>\n    <tr>\n      <th>entrepreneur</th>\n      <td>1679.366120</td>\n      <td>1070.841328</td>\n      <td>1831.804665</td>\n      <td>1553.789474</td>\n    </tr>\n    <tr>\n      <th>housemaid</th>\n      <td>1128.261563</td>\n      <td>1443.589873</td>\n      <td>1830.416185</td>\n      <td>2939.333333</td>\n    </tr>\n    <tr>\n      <th>management</th>\n      <td>1672.244898</td>\n      <td>1326.537021</td>\n      <td>1833.871170</td>\n      <td>1634.590909</td>\n    </tr>\n    <tr>\n      <th>retired</th>\n      <td>1879.545912</td>\n      <td>2061.122967</td>\n      <td>2161.245902</td>\n      <td>1503.050420</td>\n    </tr>\n    <tr>\n      <th>self-employed</th>\n      <td>1330.723077</td>\n      <td>1287.029463</td>\n      <td>1951.199280</td>\n      <td>1568.897436</td>\n    </tr>\n    <tr>\n      <th>services</th>\n      <td>966.571014</td>\n      <td>957.864623</td>\n      <td>1211.435644</td>\n      <td>1682.593333</td>\n    </tr>\n    <tr>\n      <th>student</th>\n      <td>1243.522727</td>\n      <td>1259.903543</td>\n      <td>1644.923767</td>\n      <td>1475.073620</td>\n    </tr>\n    <tr>\n      <th>technician</th>\n      <td>1487.221519</td>\n      <td>1124.722700</td>\n      <td>1511.472561</td>\n      <td>1758.314050</td>\n    </tr>\n    <tr>\n      <th>unemployed</th>\n      <td>1588.190661</td>\n      <td>1432.729396</td>\n      <td>1686.826990</td>\n      <td>1522.413793</td>\n    </tr>\n    <tr>\n      <th>unknown</th>\n      <td>1750.254902</td>\n      <td>1249.521127</td>\n      <td>2359.410256</td>\n      <td>1893.251969</td>\n    </tr>\n  </tbody>\n</table>\n</div>"
     },
     "metadata": {}
    }
   ]
  },
  {
   "cell_type": "code",
   "metadata": {
    "tags": [],
    "cell_id": "00062-cd83743e-e298-4610-8ab5-85438fe4f023",
    "deepnote_to_be_reexecuted": false,
    "source_hash": "809f04d1",
    "execution_start": 1636106416366,
    "execution_millis": 117,
    "deepnote_cell_type": "code"
   },
   "source": "pcampaign_said_yes.credit_default.value_counts()",
   "execution_count": 40,
   "outputs": [
    {
     "output_type": "execute_result",
     "execution_count": 40,
     "data": {
      "text/plain": "0    1509\n1       2\nName: credit_default, dtype: int64"
     },
     "metadata": {}
    }
   ]
  },
  {
   "cell_type": "code",
   "metadata": {
    "tags": [],
    "cell_id": "00061-81b8dc06-9c04-42a0-b4da-520c64b06c22",
    "deepnote_to_be_reexecuted": false,
    "source_hash": "2438a5ce",
    "execution_start": 1636106416367,
    "execution_millis": 116,
    "deepnote_cell_type": "code"
   },
   "source": "pcampaign_said_yes.housing_loan.value_counts()",
   "execution_count": 41,
   "outputs": [
    {
     "output_type": "execute_result",
     "execution_count": 41,
     "data": {
      "text/plain": "0    1040\n1     471\nName: housing_loan, dtype: int64"
     },
     "metadata": {}
    }
   ]
  },
  {
   "cell_type": "code",
   "metadata": {
    "tags": [],
    "cell_id": "00069-91171656-0497-4c04-a702-57d1a1945bc3",
    "deepnote_to_be_reexecuted": false,
    "source_hash": "5aab87e4",
    "execution_start": 1636106416368,
    "execution_millis": 115,
    "deepnote_cell_type": "code"
   },
   "source": "pcampaign_said_yes.personal_loan.value_counts()",
   "execution_count": 42,
   "outputs": [
    {
     "output_type": "execute_result",
     "execution_count": 42,
     "data": {
      "text/plain": "0    1429\n1      82\nName: personal_loan, dtype: int64"
     },
     "metadata": {}
    }
   ]
  },
  {
   "cell_type": "code",
   "metadata": {
    "tags": [],
    "cell_id": "00070-7f998213-5c0b-41dc-8fb8-f5d7438b5908",
    "deepnote_to_be_reexecuted": false,
    "source_hash": "857c0422",
    "execution_start": 1636106416368,
    "execution_millis": 115,
    "deepnote_cell_type": "code"
   },
   "source": "data.age.min()",
   "execution_count": 43,
   "outputs": [
    {
     "output_type": "execute_result",
     "execution_count": 43,
     "data": {
      "text/plain": "18"
     },
     "metadata": {}
    }
   ]
  },
  {
   "cell_type": "code",
   "metadata": {
    "tags": [],
    "cell_id": "00071-241916d1-8da0-4444-92c1-f579f728e188",
    "deepnote_to_be_reexecuted": false,
    "source_hash": "de1a10e8",
    "execution_start": 1636106416369,
    "execution_millis": 114,
    "deepnote_cell_type": "code"
   },
   "source": "pcampaign_said_yes[['age_group','balance_bin']].value_counts().plot(kind='bar',figsize=(12,8))",
   "execution_count": 44,
   "outputs": [
    {
     "output_type": "execute_result",
     "execution_count": 44,
     "data": {
      "text/plain": "<AxesSubplot:xlabel='age_group,balance_bin'>"
     },
     "metadata": {}
    },
    {
     "data": {
      "text/plain": "<Figure size 864x576 with 1 Axes>",
      "image/png": "[encoded data removed]"
     },
     "metadata": {
      "needs_background": "light",
      "image/png": {
       "width": 709,
       "height": 581
      }
     },
     "output_type": "display_data"
    }
   ]
  },
  {
   "cell_type": "markdown",
   "source": "From the bar graph above we can clearly see that the most successful categories in regards to age and balance are 30-39 with a balance of €0-€9999",
   "metadata": {
    "tags": [],
    "cell_id": "00073-26d0b88c-a266-405f-8619-39bac648feea",
    "deepnote_cell_type": "markdown"
   }
  },
  {
   "cell_type": "markdown",
   "source": "#### Examining the proportion of those who said yes in the previous campaign, by age_group, profession, and housing_loan (variables that show higher correlations) to see which groups show the highest success rate, which should be where the marketing effort is prioritised.",
   "metadata": {
    "tags": [],
    "cell_id": "00048-e32a85e5-d9e8-4c3b-b800-f6d7ef38c2f2",
    "deepnote_cell_type": "markdown"
   }
  },
  {
   "cell_type": "code",
   "metadata": {
    "tags": [],
    "cell_id": "00048-20ead5ef-9ce1-4075-b869-49a0201d67bc",
    "deepnote_to_be_reexecuted": false,
    "source_hash": "fdbfd6",
    "execution_start": 1636106416371,
    "execution_millis": 282,
    "deepnote_cell_type": "code"
   },
   "source": "pcampaign_data.groupby([\"age_group\"])[\"poutcome\"].value_counts(normalize=True).unstack().plot(kind=\"bar\")",
   "execution_count": 45,
   "outputs": [
    {
     "output_type": "execute_result",
     "execution_count": 45,
     "data": {
      "text/plain": "<AxesSubplot:xlabel='age_group'>"
     },
     "metadata": {}
    },
    {
     "data": {
      "text/plain": "<Figure size 432x288 with 1 Axes>",
      "image/png": "[encoded data removed]"
     },
     "metadata": {
      "needs_background": "light",
      "image/png": {
       "width": 372,
       "height": 281
      }
     },
     "output_type": "display_data"
    }
   ]
  },
  {
   "cell_type": "markdown",
   "source": "The age groups that show higher proportions of success in the previous campaign are 60-69, 70-79, and 80-89 age groups.\n\nAge groups 10-19 and 90-99 show extraordinarily high propotion of success. Upon closer examinations below, it is discovered that the numbers of samples are too low (10 and 3 respectively) to be representative of the gorup.\n\nNevertheless, age group 90-99 most likely would show similar success rate to age groups 60-69, 70-79, and 80-89 if we had enough samples as the data tends to show that success rate is higher among retired population.",
   "metadata": {
    "tags": [],
    "cell_id": "00079-122f3603-6d19-4131-bf64-a711ab23599a",
    "deepnote_cell_type": "markdown"
   }
  },
  {
   "cell_type": "code",
   "metadata": {
    "tags": [],
    "cell_id": "00079-c2d1fbf1-1bb6-4d3f-a3fe-888704a31d69",
    "deepnote_to_be_reexecuted": false,
    "source_hash": "a46e7e39",
    "execution_start": 1636106416569,
    "execution_millis": 89,
    "deepnote_cell_type": "code"
   },
   "source": "pcampaign_data[pcampaign_data[\"age_group\"]==\"10-19\"]",
   "execution_count": 46,
   "outputs": [
    {
     "output_type": "execute_result",
     "execution_count": 46,
     "data": {
      "application/vnd.deepnote.dataframe.v2+json": {
       "row_count": 10,
       "column_count": 11,
       "columns": [
        {
         "name": "age",
         "dtype": "int64",
         "stats": {
          "unique_count": 2,
          "nan_count": 0,
          "min": "18",
          "max": "19",
          "histogram": [
           {
            "bin_start": 18,
            "bin_end": 18.1,
            "count": 2
           },
           {
            "bin_start": 18.1,
            "bin_end": 18.2,
            "count": 0
           },
           {
            "bin_start": 18.2,
            "bin_end": 18.3,
            "count": 0
           },
           {
            "bin_start": 18.3,
            "bin_end": 18.4,
            "count": 0
           },
           {
            "bin_start": 18.4,
            "bin_end": 18.5,
            "count": 0
           },
           {
            "bin_start": 18.5,
            "bin_end": 18.6,
            "count": 0
           },
           {
            "bin_start": 18.6,
            "bin_end": 18.7,
            "count": 0
           },
           {
            "bin_start": 18.7,
            "bin_end": 18.8,
            "count": 0
           },
           {
            "bin_start": 18.8,
            "bin_end": 18.9,
            "count": 0
           },
           {
            "bin_start": 18.9,
            "bin_end": 19,
            "count": 8
           }
          ]
         }
        },
        {
         "name": "age_group",
         "dtype": "category",
         "stats": {
          "unique_count": 1,
          "nan_count": 0,
          "categories": [
           {
            "name": "10-19",
            "count": 10
           }
          ]
         }
        },
        {
         "name": "job",
         "dtype": "object",
         "stats": {
          "unique_count": 1,
          "nan_count": 0,
          "categories": [
           {
            "name": "student",
            "count": 10
           }
          ]
         }
        },
        {
         "name": "marital",
         "dtype": "object",
         "stats": {
          "unique_count": 1,
          "nan_count": 0,
          "categories": [
           {
            "name": "single",
            "count": 10
           }
          ]
         }
        },
        {
         "name": "education",
         "dtype": "object",
         "stats": {
          "unique_count": 3,
          "nan_count": 0,
          "categories": [
           {
            "name": "primary",
            "count": 4
           },
           {
            "name": "secondary",
            "count": 3
           },
           {
            "name": "unknown",
            "count": 3
           }
          ]
         }
        },
        {
         "name": "credit_default",
         "dtype": "int64",
         "stats": {
          "unique_count": 1,
          "nan_count": 0,
          "min": "0",
          "max": "0",
          "histogram": [
           {
            "bin_start": -0.5,
            "bin_end": -0.4,
            "count": 0
           },
           {
            "bin_start": -0.4,
            "bin_end": -0.3,
            "count": 0
           },
           {
            "bin_start": -0.3,
            "bin_end": -0.19999999999999996,
            "count": 0
           },
           {
            "bin_start": -0.19999999999999996,
            "bin_end": -0.09999999999999998,
            "count": 0
           },
           {
            "bin_start": -0.09999999999999998,
            "bin_end": 0,
            "count": 0
           },
           {
            "bin_start": 0,
            "bin_end": 0.10000000000000009,
            "count": 10
           },
           {
            "bin_start": 0.10000000000000009,
            "bin_end": 0.20000000000000007,
            "count": 0
           },
           {
            "bin_start": 0.20000000000000007,
            "bin_end": 0.30000000000000004,
            "count": 0
           },
           {
            "bin_start": 0.30000000000000004,
            "bin_end": 0.4,
            "count": 0
           },
           {
            "bin_start": 0.4,
            "bin_end": 0.5,
            "count": 0
           }
          ]
         }
        },
        {
         "name": "balance",
         "dtype": "int64",
         "stats": {
          "unique_count": 6,
          "nan_count": 0,
          "min": "103",
          "max": "1803",
          "histogram": [
           {
            "bin_start": 103,
            "bin_end": 273,
            "count": 5
           },
           {
            "bin_start": 273,
            "bin_end": 443,
            "count": 1
           },
           {
            "bin_start": 443,
            "bin_end": 613,
            "count": 3
           },
           {
            "bin_start": 613,
            "bin_end": 783,
            "count": 0
           },
           {
            "bin_start": 783,
            "bin_end": 953,
            "count": 0
           },
           {
            "bin_start": 953,
            "bin_end": 1123,
            "count": 0
           },
           {
            "bin_start": 1123,
            "bin_end": 1293,
            "count": 0
           },
           {
            "bin_start": 1293,
            "bin_end": 1463,
            "count": 0
           },
           {
            "bin_start": 1463,
            "bin_end": 1633,
            "count": 0
           },
           {
            "bin_start": 1633,
            "bin_end": 1803,
            "count": 1
           }
          ]
         }
        },
        {
         "name": "balance_bin",
         "dtype": "category",
         "stats": {
          "unique_count": 1,
          "nan_count": 0,
          "categories": [
           {
            "name": "0-9999",
            "count": 10
           }
          ]
         }
        },
        {
         "name": "housing_loan",
         "dtype": "int64",
         "stats": {
          "unique_count": 1,
          "nan_count": 0,
          "min": "0",
          "max": "0",
          "histogram": [
           {
            "bin_start": -0.5,
            "bin_end": -0.4,
            "count": 0
           },
           {
            "bin_start": -0.4,
            "bin_end": -0.3,
            "count": 0
           },
           {
            "bin_start": -0.3,
            "bin_end": -0.19999999999999996,
            "count": 0
           },
           {
            "bin_start": -0.19999999999999996,
            "bin_end": -0.09999999999999998,
            "count": 0
           },
           {
            "bin_start": -0.09999999999999998,
            "bin_end": 0,
            "count": 0
           },
           {
            "bin_start": 0,
            "bin_end": 0.10000000000000009,
            "count": 10
           },
           {
            "bin_start": 0.10000000000000009,
            "bin_end": 0.20000000000000007,
            "count": 0
           },
           {
            "bin_start": 0.20000000000000007,
            "bin_end": 0.30000000000000004,
            "count": 0
           },
           {
            "bin_start": 0.30000000000000004,
            "bin_end": 0.4,
            "count": 0
           },
           {
            "bin_start": 0.4,
            "bin_end": 0.5,
            "count": 0
           }
          ]
         }
        },
        {
         "name": "personal_loan",
         "dtype": "int64",
         "stats": {
          "unique_count": 1,
          "nan_count": 0,
          "min": "0",
          "max": "0",
          "histogram": [
           {
            "bin_start": -0.5,
            "bin_end": -0.4,
            "count": 0
           },
           {
            "bin_start": -0.4,
            "bin_end": -0.3,
            "count": 0
           },
           {
            "bin_start": -0.3,
            "bin_end": -0.19999999999999996,
            "count": 0
           },
           {
            "bin_start": -0.19999999999999996,
            "bin_end": -0.09999999999999998,
            "count": 0
           },
           {
            "bin_start": -0.09999999999999998,
            "bin_end": 0,
            "count": 0
           },
           {
            "bin_start": 0,
            "bin_end": 0.10000000000000009,
            "count": 10
           },
           {
            "bin_start": 0.10000000000000009,
            "bin_end": 0.20000000000000007,
            "count": 0
           },
           {
            "bin_start": 0.20000000000000007,
            "bin_end": 0.30000000000000004,
            "count": 0
           },
           {
            "bin_start": 0.30000000000000004,
            "bin_end": 0.4,
            "count": 0
           },
           {
            "bin_start": 0.4,
            "bin_end": 0.5,
            "count": 0
           }
          ]
         }
        },
        {
         "name": "poutcome",
         "dtype": "object",
         "stats": {
          "unique_count": 2,
          "nan_count": 0,
          "categories": [
           {
            "name": "success",
            "count": 7
           },
           {
            "name": "failure",
            "count": 3
           }
          ]
         }
        },
        {
         "name": "_deepnote_index_column",
         "dtype": "int64"
        }
       ],
       "rows_top": [
        {
         "age": 19,
         "age_group": "10-19",
         "job": "student",
         "marital": "single",
         "education": "secondary",
         "credit_default": 0,
         "balance": 1803,
         "balance_bin": "0-9999",
         "housing_loan": 0,
         "personal_loan": 0,
         "poutcome": "failure",
         "_deepnote_index_column": 40376
        },
        {
         "age": 19,
         "age_group": "10-19",
         "job": "student",
         "marital": "single",
         "education": "primary",
         "credit_default": 0,
         "balance": 103,
         "balance_bin": "0-9999",
         "housing_loan": 0,
         "personal_loan": 0,
         "poutcome": "success",
         "_deepnote_index_column": 41830
        },
        {
         "age": 18,
         "age_group": "10-19",
         "job": "student",
         "marital": "single",
         "education": "primary",
         "credit_default": 0,
         "balance": 608,
         "balance_bin": "0-9999",
         "housing_loan": 0,
         "personal_loan": 0,
         "poutcome": "success",
         "_deepnote_index_column": 42274
        },
        {
         "age": 19,
         "age_group": "10-19",
         "job": "student",
         "marital": "single",
         "education": "primary",
         "credit_default": 0,
         "balance": 103,
         "balance_bin": "0-9999",
         "housing_loan": 0,
         "personal_loan": 0,
         "poutcome": "failure",
         "_deepnote_index_column": 42705
        },
        {
         "age": 18,
         "age_group": "10-19",
         "job": "student",
         "marital": "single",
         "education": "unknown",
         "credit_default": 0,
         "balance": 108,
         "balance_bin": "0-9999",
         "housing_loan": 0,
         "personal_loan": 0,
         "poutcome": "success",
         "_deepnote_index_column": 42954
        },
        {
         "age": 19,
         "age_group": "10-19",
         "job": "student",
         "marital": "single",
         "education": "unknown",
         "credit_default": 0,
         "balance": 108,
         "balance_bin": "0-9999",
         "housing_loan": 0,
         "personal_loan": 0,
         "poutcome": "success",
         "_deepnote_index_column": 43258
        },
        {
         "age": 19,
         "age_group": "10-19",
         "job": "student",
         "marital": "single",
         "education": "secondary",
         "credit_default": 0,
         "balance": 329,
         "balance_bin": "0-9999",
         "housing_loan": 0,
         "personal_loan": 0,
         "poutcome": "success",
         "_deepnote_index_column": 43594
        },
        {
         "age": 19,
         "age_group": "10-19",
         "job": "student",
         "marital": "single",
         "education": "primary",
         "credit_default": 0,
         "balance": 608,
         "balance_bin": "0-9999",
         "housing_loan": 0,
         "personal_loan": 0,
         "poutcome": "success",
         "_deepnote_index_column": 43680
        },
        {
         "age": 19,
         "age_group": "10-19",
         "job": "student",
         "marital": "single",
         "education": "secondary",
         "credit_default": 0,
         "balance": 526,
         "balance_bin": "0-9999",
         "housing_loan": 0,
         "personal_loan": 0,
         "poutcome": "failure",
         "_deepnote_index_column": 44058
        },
        {
         "age": 19,
         "age_group": "10-19",
         "job": "student",
         "marital": "single",
         "education": "unknown",
         "credit_default": 0,
         "balance": 108,
         "balance_bin": "0-9999",
         "housing_loan": 0,
         "personal_loan": 0,
         "poutcome": "success",
         "_deepnote_index_column": 44493
        }
       ],
       "rows_bottom": null
      },
      "text/plain": "       age age_group      job marital  education  credit_default  balance  \\\n40376   19     10-19  student  single  secondary               0     1803   \n41830   19     10-19  student  single    primary               0      103   \n42274   18     10-19  student  single    primary               0      608   \n42705   19     10-19  student  single    primary               0      103   \n42954   18     10-19  student  single    unknown               0      108   \n43258   19     10-19  student  single    unknown               0      108   \n43594   19     10-19  student  single  secondary               0      329   \n43680   19     10-19  student  single    primary               0      608   \n44058   19     10-19  student  single  secondary               0      526   \n44493   19     10-19  student  single    unknown               0      108   \n\n      balance_bin  housing_loan  personal_loan poutcome  \n40376      0-9999             0              0  failure  \n41830      0-9999             0              0  success  \n42274      0-9999             0              0  success  \n42705      0-9999             0              0  failure  \n42954      0-9999             0              0  success  \n43258      0-9999             0              0  success  \n43594      0-9999             0              0  success  \n43680      0-9999             0              0  success  \n44058      0-9999             0              0  failure  \n44493      0-9999             0              0  success  ",
      "text/html": "<div>\n<style scoped>\n    .dataframe tbody tr th:only-of-type {\n        vertical-align: middle;\n    }\n\n    .dataframe tbody tr th {\n        vertical-align: top;\n    }\n\n    .dataframe thead th {\n        text-align: right;\n    }\n</style>\n<table border=\"1\" class=\"dataframe\">\n  <thead>\n    <tr style=\"text-align: right;\">\n      <th></th>\n      <th>age</th>\n      <th>age_group</th>\n      <th>job</th>\n      <th>marital</th>\n      <th>education</th>\n      <th>credit_default</th>\n      <th>balance</th>\n      <th>balance_bin</th>\n      <th>housing_loan</th>\n      <th>personal_loan</th>\n      <th>poutcome</th>\n    </tr>\n  </thead>\n  <tbody>\n    <tr>\n      <th>40376</th>\n      <td>19</td>\n      <td>10-19</td>\n      <td>student</td>\n      <td>single</td>\n      <td>secondary</td>\n      <td>0</td>\n      <td>1803</td>\n      <td>0-9999</td>\n      <td>0</td>\n      <td>0</td>\n      <td>failure</td>\n    </tr>\n    <tr>\n      <th>41830</th>\n      <td>19</td>\n      <td>10-19</td>\n      <td>student</td>\n      <td>single</td>\n      <td>primary</td>\n      <td>0</td>\n      <td>103</td>\n      <td>0-9999</td>\n      <td>0</td>\n      <td>0</td>\n      <td>success</td>\n    </tr>\n    <tr>\n      <th>42274</th>\n      <td>18</td>\n      <td>10-19</td>\n      <td>student</td>\n      <td>single</td>\n      <td>primary</td>\n      <td>0</td>\n      <td>608</td>\n      <td>0-9999</td>\n      <td>0</td>\n      <td>0</td>\n      <td>success</td>\n    </tr>\n    <tr>\n      <th>42705</th>\n      <td>19</td>\n      <td>10-19</td>\n      <td>student</td>\n      <td>single</td>\n      <td>primary</td>\n      <td>0</td>\n      <td>103</td>\n      <td>0-9999</td>\n      <td>0</td>\n      <td>0</td>\n      <td>failure</td>\n    </tr>\n    <tr>\n      <th>42954</th>\n      <td>18</td>\n      <td>10-19</td>\n      <td>student</td>\n      <td>single</td>\n      <td>unknown</td>\n      <td>0</td>\n      <td>108</td>\n      <td>0-9999</td>\n      <td>0</td>\n      <td>0</td>\n      <td>success</td>\n    </tr>\n    <tr>\n      <th>43258</th>\n      <td>19</td>\n      <td>10-19</td>\n      <td>student</td>\n      <td>single</td>\n      <td>unknown</td>\n      <td>0</td>\n      <td>108</td>\n      <td>0-9999</td>\n      <td>0</td>\n      <td>0</td>\n      <td>success</td>\n    </tr>\n    <tr>\n      <th>43594</th>\n      <td>19</td>\n      <td>10-19</td>\n      <td>student</td>\n      <td>single</td>\n      <td>secondary</td>\n      <td>0</td>\n      <td>329</td>\n      <td>0-9999</td>\n      <td>0</td>\n      <td>0</td>\n      <td>success</td>\n    </tr>\n    <tr>\n      <th>43680</th>\n      <td>19</td>\n      <td>10-19</td>\n      <td>student</td>\n      <td>single</td>\n      <td>primary</td>\n      <td>0</td>\n      <td>608</td>\n      <td>0-9999</td>\n      <td>0</td>\n      <td>0</td>\n      <td>success</td>\n    </tr>\n    <tr>\n      <th>44058</th>\n      <td>19</td>\n      <td>10-19</td>\n      <td>student</td>\n      <td>single</td>\n      <td>secondary</td>\n      <td>0</td>\n      <td>526</td>\n      <td>0-9999</td>\n      <td>0</td>\n      <td>0</td>\n      <td>failure</td>\n    </tr>\n    <tr>\n      <th>44493</th>\n      <td>19</td>\n      <td>10-19</td>\n      <td>student</td>\n      <td>single</td>\n      <td>unknown</td>\n      <td>0</td>\n      <td>108</td>\n      <td>0-9999</td>\n      <td>0</td>\n      <td>0</td>\n      <td>success</td>\n    </tr>\n  </tbody>\n</table>\n</div>"
     },
     "metadata": {}
    }
   ]
  },
  {
   "cell_type": "code",
   "metadata": {
    "tags": [],
    "cell_id": "00080-4e5f7beb-eb23-4baf-8b8c-89b9634edce2",
    "deepnote_to_be_reexecuted": false,
    "source_hash": "d6bcdd49",
    "execution_start": 1636106416667,
    "execution_millis": 27,
    "deepnote_cell_type": "code"
   },
   "source": "pcampaign_data[pcampaign_data[\"age_group\"]==\"90-99\"]",
   "execution_count": 47,
   "outputs": [
    {
     "output_type": "execute_result",
     "execution_count": 47,
     "data": {
      "application/vnd.deepnote.dataframe.v2+json": {
       "row_count": 3,
       "column_count": 11,
       "columns": [
        {
         "name": "age",
         "dtype": "int64",
         "stats": {
          "unique_count": 2,
          "nan_count": 0,
          "min": "92",
          "max": "93",
          "histogram": [
           {
            "bin_start": 92,
            "bin_end": 92.1,
            "count": 1
           },
           {
            "bin_start": 92.1,
            "bin_end": 92.2,
            "count": 0
           },
           {
            "bin_start": 92.2,
            "bin_end": 92.3,
            "count": 0
           },
           {
            "bin_start": 92.3,
            "bin_end": 92.4,
            "count": 0
           },
           {
            "bin_start": 92.4,
            "bin_end": 92.5,
            "count": 0
           },
           {
            "bin_start": 92.5,
            "bin_end": 92.6,
            "count": 0
           },
           {
            "bin_start": 92.6,
            "bin_end": 92.7,
            "count": 0
           },
           {
            "bin_start": 92.7,
            "bin_end": 92.8,
            "count": 0
           },
           {
            "bin_start": 92.8,
            "bin_end": 92.9,
            "count": 0
           },
           {
            "bin_start": 92.9,
            "bin_end": 93,
            "count": 2
           }
          ]
         }
        },
        {
         "name": "age_group",
         "dtype": "category",
         "stats": {
          "unique_count": 1,
          "nan_count": 0,
          "categories": [
           {
            "name": "90-99",
            "count": 3
           }
          ]
         }
        },
        {
         "name": "job",
         "dtype": "object",
         "stats": {
          "unique_count": 1,
          "nan_count": 0,
          "categories": [
           {
            "name": "retired",
            "count": 3
           }
          ]
         }
        },
        {
         "name": "marital",
         "dtype": "object",
         "stats": {
          "unique_count": 1,
          "nan_count": 0,
          "categories": [
           {
            "name": "married",
            "count": 3
           }
          ]
         }
        },
        {
         "name": "education",
         "dtype": "object",
         "stats": {
          "unique_count": 1,
          "nan_count": 0,
          "categories": [
           {
            "name": "unknown",
            "count": 3
           }
          ]
         }
        },
        {
         "name": "credit_default",
         "dtype": "int64",
         "stats": {
          "unique_count": 1,
          "nan_count": 0,
          "min": "0",
          "max": "0",
          "histogram": [
           {
            "bin_start": -0.5,
            "bin_end": -0.4,
            "count": 0
           },
           {
            "bin_start": -0.4,
            "bin_end": -0.3,
            "count": 0
           },
           {
            "bin_start": -0.3,
            "bin_end": -0.19999999999999996,
            "count": 0
           },
           {
            "bin_start": -0.19999999999999996,
            "bin_end": -0.09999999999999998,
            "count": 0
           },
           {
            "bin_start": -0.09999999999999998,
            "bin_end": 0,
            "count": 0
           },
           {
            "bin_start": 0,
            "bin_end": 0.10000000000000009,
            "count": 3
           },
           {
            "bin_start": 0.10000000000000009,
            "bin_end": 0.20000000000000007,
            "count": 0
           },
           {
            "bin_start": 0.20000000000000007,
            "bin_end": 0.30000000000000004,
            "count": 0
           },
           {
            "bin_start": 0.30000000000000004,
            "bin_end": 0.4,
            "count": 0
           },
           {
            "bin_start": 0.4,
            "bin_end": 0.5,
            "count": 0
           }
          ]
         }
        },
        {
         "name": "balance",
         "dtype": "int64",
         "stats": {
          "unique_count": 1,
          "nan_count": 0,
          "min": "775",
          "max": "775",
          "histogram": [
           {
            "bin_start": 774.5,
            "bin_end": 774.6,
            "count": 0
           },
           {
            "bin_start": 774.6,
            "bin_end": 774.7,
            "count": 0
           },
           {
            "bin_start": 774.7,
            "bin_end": 774.8,
            "count": 0
           },
           {
            "bin_start": 774.8,
            "bin_end": 774.9,
            "count": 0
           },
           {
            "bin_start": 774.9,
            "bin_end": 775,
            "count": 0
           },
           {
            "bin_start": 775,
            "bin_end": 775.1,
            "count": 3
           },
           {
            "bin_start": 775.1,
            "bin_end": 775.2,
            "count": 0
           },
           {
            "bin_start": 775.2,
            "bin_end": 775.3,
            "count": 0
           },
           {
            "bin_start": 775.3,
            "bin_end": 775.4,
            "count": 0
           },
           {
            "bin_start": 775.4,
            "bin_end": 775.5,
            "count": 0
           }
          ]
         }
        },
        {
         "name": "balance_bin",
         "dtype": "category",
         "stats": {
          "unique_count": 1,
          "nan_count": 0,
          "categories": [
           {
            "name": "0-9999",
            "count": 3
           }
          ]
         }
        },
        {
         "name": "housing_loan",
         "dtype": "int64",
         "stats": {
          "unique_count": 1,
          "nan_count": 0,
          "min": "0",
          "max": "0",
          "histogram": [
           {
            "bin_start": -0.5,
            "bin_end": -0.4,
            "count": 0
           },
           {
            "bin_start": -0.4,
            "bin_end": -0.3,
            "count": 0
           },
           {
            "bin_start": -0.3,
            "bin_end": -0.19999999999999996,
            "count": 0
           },
           {
            "bin_start": -0.19999999999999996,
            "bin_end": -0.09999999999999998,
            "count": 0
           },
           {
            "bin_start": -0.09999999999999998,
            "bin_end": 0,
            "count": 0
           },
           {
            "bin_start": 0,
            "bin_end": 0.10000000000000009,
            "count": 3
           },
           {
            "bin_start": 0.10000000000000009,
            "bin_end": 0.20000000000000007,
            "count": 0
           },
           {
            "bin_start": 0.20000000000000007,
            "bin_end": 0.30000000000000004,
            "count": 0
           },
           {
            "bin_start": 0.30000000000000004,
            "bin_end": 0.4,
            "count": 0
           },
           {
            "bin_start": 0.4,
            "bin_end": 0.5,
            "count": 0
           }
          ]
         }
        },
        {
         "name": "personal_loan",
         "dtype": "int64",
         "stats": {
          "unique_count": 1,
          "nan_count": 0,
          "min": "0",
          "max": "0",
          "histogram": [
           {
            "bin_start": -0.5,
            "bin_end": -0.4,
            "count": 0
           },
           {
            "bin_start": -0.4,
            "bin_end": -0.3,
            "count": 0
           },
           {
            "bin_start": -0.3,
            "bin_end": -0.19999999999999996,
            "count": 0
           },
           {
            "bin_start": -0.19999999999999996,
            "bin_end": -0.09999999999999998,
            "count": 0
           },
           {
            "bin_start": -0.09999999999999998,
            "bin_end": 0,
            "count": 0
           },
           {
            "bin_start": 0,
            "bin_end": 0.10000000000000009,
            "count": 3
           },
           {
            "bin_start": 0.10000000000000009,
            "bin_end": 0.20000000000000007,
            "count": 0
           },
           {
            "bin_start": 0.20000000000000007,
            "bin_end": 0.30000000000000004,
            "count": 0
           },
           {
            "bin_start": 0.30000000000000004,
            "bin_end": 0.4,
            "count": 0
           },
           {
            "bin_start": 0.4,
            "bin_end": 0.5,
            "count": 0
           }
          ]
         }
        },
        {
         "name": "poutcome",
         "dtype": "object",
         "stats": {
          "unique_count": 1,
          "nan_count": 0,
          "categories": [
           {
            "name": "success",
            "count": 3
           }
          ]
         }
        },
        {
         "name": "_deepnote_index_column",
         "dtype": "int64"
        }
       ],
       "rows_top": [
        {
         "age": 92,
         "age_group": "90-99",
         "job": "retired",
         "marital": "married",
         "education": "unknown",
         "credit_default": 0,
         "balance": 775,
         "balance_bin": "0-9999",
         "housing_loan": 0,
         "personal_loan": 0,
         "poutcome": "success",
         "_deepnote_index_column": 42727
        },
        {
         "age": 93,
         "age_group": "90-99",
         "job": "retired",
         "marital": "married",
         "education": "unknown",
         "credit_default": 0,
         "balance": 775,
         "balance_bin": "0-9999",
         "housing_loan": 0,
         "personal_loan": 0,
         "poutcome": "success",
         "_deepnote_index_column": 44262
        },
        {
         "age": 93,
         "age_group": "90-99",
         "job": "retired",
         "marital": "married",
         "education": "unknown",
         "credit_default": 0,
         "balance": 775,
         "balance_bin": "0-9999",
         "housing_loan": 0,
         "personal_loan": 0,
         "poutcome": "success",
         "_deepnote_index_column": 44420
        }
       ],
       "rows_bottom": null
      },
      "text/plain": "       age age_group      job  marital education  credit_default  balance  \\\n42727   92     90-99  retired  married   unknown               0      775   \n44262   93     90-99  retired  married   unknown               0      775   \n44420   93     90-99  retired  married   unknown               0      775   \n\n      balance_bin  housing_loan  personal_loan poutcome  \n42727      0-9999             0              0  success  \n44262      0-9999             0              0  success  \n44420      0-9999             0              0  success  ",
      "text/html": "<div>\n<style scoped>\n    .dataframe tbody tr th:only-of-type {\n        vertical-align: middle;\n    }\n\n    .dataframe tbody tr th {\n        vertical-align: top;\n    }\n\n    .dataframe thead th {\n        text-align: right;\n    }\n</style>\n<table border=\"1\" class=\"dataframe\">\n  <thead>\n    <tr style=\"text-align: right;\">\n      <th></th>\n      <th>age</th>\n      <th>age_group</th>\n      <th>job</th>\n      <th>marital</th>\n      <th>education</th>\n      <th>credit_default</th>\n      <th>balance</th>\n      <th>balance_bin</th>\n      <th>housing_loan</th>\n      <th>personal_loan</th>\n      <th>poutcome</th>\n    </tr>\n  </thead>\n  <tbody>\n    <tr>\n      <th>42727</th>\n      <td>92</td>\n      <td>90-99</td>\n      <td>retired</td>\n      <td>married</td>\n      <td>unknown</td>\n      <td>0</td>\n      <td>775</td>\n      <td>0-9999</td>\n      <td>0</td>\n      <td>0</td>\n      <td>success</td>\n    </tr>\n    <tr>\n      <th>44262</th>\n      <td>93</td>\n      <td>90-99</td>\n      <td>retired</td>\n      <td>married</td>\n      <td>unknown</td>\n      <td>0</td>\n      <td>775</td>\n      <td>0-9999</td>\n      <td>0</td>\n      <td>0</td>\n      <td>success</td>\n    </tr>\n    <tr>\n      <th>44420</th>\n      <td>93</td>\n      <td>90-99</td>\n      <td>retired</td>\n      <td>married</td>\n      <td>unknown</td>\n      <td>0</td>\n      <td>775</td>\n      <td>0-9999</td>\n      <td>0</td>\n      <td>0</td>\n      <td>success</td>\n    </tr>\n  </tbody>\n</table>\n</div>"
     },
     "metadata": {}
    }
   ]
  },
  {
   "cell_type": "code",
   "metadata": {
    "tags": [],
    "cell_id": "00082-6e2e84b2-5e1f-47d1-a399-8f88bb902183",
    "deepnote_to_be_reexecuted": false,
    "source_hash": "2aac275c",
    "execution_start": 1636106416694,
    "execution_millis": 334,
    "deepnote_cell_type": "code"
   },
   "source": "pcampaign_data.groupby([\"job\"])[\"poutcome\"].value_counts(normalize=True).unstack().plot(kind=\"bar\");",
   "execution_count": 48,
   "outputs": [
    {
     "data": {
      "text/plain": "<Figure size 432x288 with 1 Axes>",
      "image/png": "[encoded data removed]"
     },
     "metadata": {
      "needs_background": "light",
      "image/png": {
       "width": 372,
       "height": 323
      }
     },
     "output_type": "display_data"
    }
   ]
  },
  {
   "cell_type": "markdown",
   "source": "Analysis based on job shows higher success rates in the previous campaign among the following groups: retired, students, unemployed, and unknown.\n\nResult of this analysis based on job coincides with the analysis based on age group - there is higher success rate among older persons of retirement age.  \n\nIt is not readily apparent why students, unemployed, and unknown groups show higher success rate in the previous campaign.",
   "metadata": {
    "tags": [],
    "cell_id": "00083-c1ced02f-b11e-44f9-9aa0-1c56d0aa5e95",
    "deepnote_cell_type": "markdown"
   }
  },
  {
   "cell_type": "code",
   "metadata": {
    "tags": [],
    "cell_id": "00048-e16dfc5e-5d04-4be8-bda7-378eee082a7e",
    "deepnote_to_be_reexecuted": false,
    "source_hash": "252b4b11",
    "execution_start": 1636106417069,
    "execution_millis": 217,
    "deepnote_cell_type": "code"
   },
   "source": "pcampaign_data.groupby([\"housing_loan\"])[\"poutcome\"].value_counts(normalize=True).unstack().plot(kind=\"bar\")",
   "execution_count": 49,
   "outputs": [
    {
     "output_type": "execute_result",
     "execution_count": 49,
     "data": {
      "text/plain": "<AxesSubplot:xlabel='housing_loan'>"
     },
     "metadata": {}
    },
    {
     "data": {
      "text/plain": "<Figure size 432x288 with 1 Axes>",
      "image/png": "[encoded data removed]"
     },
     "metadata": {
      "needs_background": "light",
      "image/png": {
       "width": 372,
       "height": 260
      }
     },
     "output_type": "display_data"
    }
   ]
  },
  {
   "cell_type": "markdown",
   "source": "Analysis based on housing loan clearly shows that extremely high failure rate among those with a housing loan. In contrast, nearly 60% of those without a housing loan result in success in the previous campaign. ",
   "metadata": {
    "tags": [],
    "cell_id": "00085-13583517-731b-432a-b2ea-5cd3fa7aaf08",
    "deepnote_cell_type": "markdown"
   }
  },
  {
   "cell_type": "markdown",
   "source": "",
   "metadata": {
    "tags": [],
    "cell_id": "00043-604bd9c0-4a65-4332-88fc-ac5375e69f51",
    "deepnote_cell_type": "markdown"
   }
  },
  {
   "cell_type": "code",
   "metadata": {
    "tags": [],
    "cell_id": "00007-e997e4c3-3ad1-4c9b-8eb3-0ed80799d37d",
    "deepnote_to_be_reexecuted": false,
    "source_hash": "b623e53d",
    "execution_start": 1636106417267,
    "execution_millis": 1,
    "deepnote_cell_type": "code"
   },
   "source": "",
   "execution_count": 49,
   "outputs": []
  },
  {
   "cell_type": "markdown",
   "source": "## 4. Analyse data based on all the customers who have said yes in the current campaign",
   "metadata": {
    "tags": [],
    "cell_id": "00044-5d8839cc-46ac-49cf-afe7-43af5cb06e4a",
    "deepnote_cell_type": "markdown"
   }
  },
  {
   "cell_type": "markdown",
   "source": "#### A. Analysis of personal data - first on housing_loan, age_group, job, which are the top 3 variables that show small-medium correlation, and then other variables",
   "metadata": {
    "tags": [],
    "cell_id": "00079-aad58df8-49ac-4b80-8954-55e722588f7b",
    "deepnote_cell_type": "markdown"
   }
  },
  {
   "cell_type": "code",
   "metadata": {
    "tags": [],
    "cell_id": "00083-26566f54-6f7d-417e-b0ff-4b2b0548a25a",
    "deepnote_to_be_reexecuted": false,
    "source_hash": "d6cb0134",
    "execution_start": 1636106417268,
    "execution_millis": 1,
    "deepnote_cell_type": "code"
   },
   "source": "said_yes = data[data[\"y\"]==1]",
   "execution_count": 50,
   "outputs": []
  },
  {
   "cell_type": "code",
   "metadata": {
    "tags": [],
    "cell_id": "00084-2e070dc4-e467-4f48-b75b-773d928144ac",
    "deepnote_to_be_reexecuted": false,
    "source_hash": "51b64a4",
    "execution_start": 1636106417276,
    "execution_millis": 100,
    "deepnote_cell_type": "code"
   },
   "source": "said_yes.head()",
   "execution_count": 51,
   "outputs": [
    {
     "output_type": "execute_result",
     "execution_count": 51,
     "data": {
      "application/vnd.deepnote.dataframe.v2+json": {
       "row_count": 5,
       "column_count": 19,
       "columns": [
        {
         "name": "age",
         "dtype": "int64",
         "stats": {
          "unique_count": 5,
          "nan_count": 0,
          "min": "41",
          "max": "59",
          "histogram": [
           {
            "bin_start": 41,
            "bin_end": 42.8,
            "count": 1
           },
           {
            "bin_start": 42.8,
            "bin_end": 44.6,
            "count": 0
           },
           {
            "bin_start": 44.6,
            "bin_end": 46.4,
            "count": 0
           },
           {
            "bin_start": 46.4,
            "bin_end": 48.2,
            "count": 0
           },
           {
            "bin_start": 48.2,
            "bin_end": 50,
            "count": 0
           },
           {
            "bin_start": 50,
            "bin_end": 51.8,
            "count": 0
           },
           {
            "bin_start": 51.8,
            "bin_end": 53.6,
            "count": 0
           },
           {
            "bin_start": 53.6,
            "bin_end": 55.4,
            "count": 2
           },
           {
            "bin_start": 55.4,
            "bin_end": 57.2,
            "count": 1
           },
           {
            "bin_start": 57.2,
            "bin_end": 59,
            "count": 1
           }
          ]
         }
        },
        {
         "name": "age_group",
         "dtype": "category",
         "stats": {
          "unique_count": 2,
          "nan_count": 0,
          "categories": [
           {
            "name": "50-59",
            "count": 4
           },
           {
            "name": "40-49",
            "count": 1
           }
          ]
         }
        },
        {
         "name": "job",
         "dtype": "object",
         "stats": {
          "unique_count": 3,
          "nan_count": 0,
          "categories": [
           {
            "name": "admin.",
            "count": 3
           },
           {
            "name": "technician",
            "count": 1
           },
           {
            "name": "services",
            "count": 1
           }
          ]
         }
        },
        {
         "name": "marital",
         "dtype": "object",
         "stats": {
          "unique_count": 1,
          "nan_count": 0,
          "categories": [
           {
            "name": "married",
            "count": 5
           }
          ]
         }
        },
        {
         "name": "education",
         "dtype": "object",
         "stats": {
          "unique_count": 2,
          "nan_count": 0,
          "categories": [
           {
            "name": "secondary",
            "count": 4
           },
           {
            "name": "tertiary",
            "count": 1
           }
          ]
         }
        },
        {
         "name": "credit_default",
         "dtype": "int64",
         "stats": {
          "unique_count": 1,
          "nan_count": 0,
          "min": "0",
          "max": "0",
          "histogram": [
           {
            "bin_start": -0.5,
            "bin_end": -0.4,
            "count": 0
           },
           {
            "bin_start": -0.4,
            "bin_end": -0.3,
            "count": 0
           },
           {
            "bin_start": -0.3,
            "bin_end": -0.19999999999999996,
            "count": 0
           },
           {
            "bin_start": -0.19999999999999996,
            "bin_end": -0.09999999999999998,
            "count": 0
           },
           {
            "bin_start": -0.09999999999999998,
            "bin_end": 0,
            "count": 0
           },
           {
            "bin_start": 0,
            "bin_end": 0.10000000000000009,
            "count": 5
           },
           {
            "bin_start": 0.10000000000000009,
            "bin_end": 0.20000000000000007,
            "count": 0
           },
           {
            "bin_start": 0.20000000000000007,
            "bin_end": 0.30000000000000004,
            "count": 0
           },
           {
            "bin_start": 0.30000000000000004,
            "bin_end": 0.4,
            "count": 0
           },
           {
            "bin_start": 0.4,
            "bin_end": 0.5,
            "count": 0
           }
          ]
         }
        },
        {
         "name": "balance",
         "dtype": "int64",
         "stats": {
          "unique_count": 5,
          "nan_count": 0,
          "min": "45",
          "max": "2476",
          "histogram": [
           {
            "bin_start": 45,
            "bin_end": 288.1,
            "count": 2
           },
           {
            "bin_start": 288.1,
            "bin_end": 531.2,
            "count": 0
           },
           {
            "bin_start": 531.2,
            "bin_end": 774.3,
            "count": 0
           },
           {
            "bin_start": 774.3,
            "bin_end": 1017.4,
            "count": 0
           },
           {
            "bin_start": 1017.4,
            "bin_end": 1260.5,
            "count": 0
           },
           {
            "bin_start": 1260.5,
            "bin_end": 1503.6,
            "count": 1
           },
           {
            "bin_start": 1503.6,
            "bin_end": 1746.7,
            "count": 0
           },
           {
            "bin_start": 1746.7,
            "bin_end": 1989.8,
            "count": 0
           },
           {
            "bin_start": 1989.8,
            "bin_end": 2232.9,
            "count": 0
           },
           {
            "bin_start": 2232.9,
            "bin_end": 2476,
            "count": 2
           }
          ]
         }
        },
        {
         "name": "balance_bin",
         "dtype": "category",
         "stats": {
          "unique_count": 1,
          "nan_count": 0,
          "categories": [
           {
            "name": "0-9999",
            "count": 5
           }
          ]
         }
        },
        {
         "name": "housing_loan",
         "dtype": "int64",
         "stats": {
          "unique_count": 2,
          "nan_count": 0,
          "min": "0",
          "max": "1",
          "histogram": [
           {
            "bin_start": 0,
            "bin_end": 0.1,
            "count": 2
           },
           {
            "bin_start": 0.1,
            "bin_end": 0.2,
            "count": 0
           },
           {
            "bin_start": 0.2,
            "bin_end": 0.30000000000000004,
            "count": 0
           },
           {
            "bin_start": 0.30000000000000004,
            "bin_end": 0.4,
            "count": 0
           },
           {
            "bin_start": 0.4,
            "bin_end": 0.5,
            "count": 0
           },
           {
            "bin_start": 0.5,
            "bin_end": 0.6000000000000001,
            "count": 0
           },
           {
            "bin_start": 0.6000000000000001,
            "bin_end": 0.7000000000000001,
            "count": 0
           },
           {
            "bin_start": 0.7000000000000001,
            "bin_end": 0.8,
            "count": 0
           },
           {
            "bin_start": 0.8,
            "bin_end": 0.9,
            "count": 0
           },
           {
            "bin_start": 0.9,
            "bin_end": 1,
            "count": 3
           }
          ]
         }
        },
        {
         "name": "personal_loan",
         "dtype": "int64",
         "stats": {
          "unique_count": 1,
          "nan_count": 0,
          "min": "0",
          "max": "0",
          "histogram": [
           {
            "bin_start": -0.5,
            "bin_end": -0.4,
            "count": 0
           },
           {
            "bin_start": -0.4,
            "bin_end": -0.3,
            "count": 0
           },
           {
            "bin_start": -0.3,
            "bin_end": -0.19999999999999996,
            "count": 0
           },
           {
            "bin_start": -0.19999999999999996,
            "bin_end": -0.09999999999999998,
            "count": 0
           },
           {
            "bin_start": -0.09999999999999998,
            "bin_end": 0,
            "count": 0
           },
           {
            "bin_start": 0,
            "bin_end": 0.10000000000000009,
            "count": 5
           },
           {
            "bin_start": 0.10000000000000009,
            "bin_end": 0.20000000000000007,
            "count": 0
           },
           {
            "bin_start": 0.20000000000000007,
            "bin_end": 0.30000000000000004,
            "count": 0
           },
           {
            "bin_start": 0.30000000000000004,
            "bin_end": 0.4,
            "count": 0
           },
           {
            "bin_start": 0.4,
            "bin_end": 0.5,
            "count": 0
           }
          ]
         }
        },
        {
         "name": "contact_means",
         "dtype": "object",
         "stats": {
          "unique_count": 1,
          "nan_count": 0,
          "categories": [
           {
            "name": "unknown",
            "count": 5
           }
          ]
         }
        },
        {
         "name": "day",
         "dtype": "int64",
         "stats": {
          "unique_count": 1,
          "nan_count": 0,
          "min": "5",
          "max": "5",
          "histogram": [
           {
            "bin_start": 4.5,
            "bin_end": 4.6,
            "count": 0
           },
           {
            "bin_start": 4.6,
            "bin_end": 4.7,
            "count": 0
           },
           {
            "bin_start": 4.7,
            "bin_end": 4.8,
            "count": 0
           },
           {
            "bin_start": 4.8,
            "bin_end": 4.9,
            "count": 0
           },
           {
            "bin_start": 4.9,
            "bin_end": 5,
            "count": 0
           },
           {
            "bin_start": 5,
            "bin_end": 5.1,
            "count": 5
           },
           {
            "bin_start": 5.1,
            "bin_end": 5.2,
            "count": 0
           },
           {
            "bin_start": 5.2,
            "bin_end": 5.3,
            "count": 0
           },
           {
            "bin_start": 5.3,
            "bin_end": 5.4,
            "count": 0
           },
           {
            "bin_start": 5.4,
            "bin_end": 5.5,
            "count": 0
           }
          ]
         }
        },
        {
         "name": "month",
         "dtype": "object",
         "stats": {
          "unique_count": 1,
          "nan_count": 0,
          "categories": [
           {
            "name": "may",
            "count": 5
           }
          ]
         }
        },
        {
         "name": "duration",
         "dtype": "int64",
         "stats": {
          "unique_count": 5,
          "nan_count": 0,
          "min": "579",
          "max": "1467",
          "histogram": [
           {
            "bin_start": 579,
            "bin_end": 667.8,
            "count": 1
           },
           {
            "bin_start": 667.8,
            "bin_end": 756.6,
            "count": 1
           },
           {
            "bin_start": 756.6,
            "bin_end": 845.4,
            "count": 0
           },
           {
            "bin_start": 845.4,
            "bin_end": 934.2,
            "count": 0
           },
           {
            "bin_start": 934.2,
            "bin_end": 1023,
            "count": 0
           },
           {
            "bin_start": 1023,
            "bin_end": 1111.8,
            "count": 1
           },
           {
            "bin_start": 1111.8,
            "bin_end": 1200.6,
            "count": 0
           },
           {
            "bin_start": 1200.6,
            "bin_end": 1289.4,
            "count": 0
           },
           {
            "bin_start": 1289.4,
            "bin_end": 1378.1999999999998,
            "count": 0
           },
           {
            "bin_start": 1378.1999999999998,
            "bin_end": 1467,
            "count": 2
           }
          ]
         }
        },
        {
         "name": "no_of_calls",
         "dtype": "int64",
         "stats": {
          "unique_count": 2,
          "nan_count": 0,
          "min": "1",
          "max": "2",
          "histogram": [
           {
            "bin_start": 1,
            "bin_end": 1.1,
            "count": 4
           },
           {
            "bin_start": 1.1,
            "bin_end": 1.2,
            "count": 0
           },
           {
            "bin_start": 1.2,
            "bin_end": 1.3,
            "count": 0
           },
           {
            "bin_start": 1.3,
            "bin_end": 1.4,
            "count": 0
           },
           {
            "bin_start": 1.4,
            "bin_end": 1.5,
            "count": 0
           },
           {
            "bin_start": 1.5,
            "bin_end": 1.6,
            "count": 0
           },
           {
            "bin_start": 1.6,
            "bin_end": 1.7000000000000002,
            "count": 0
           },
           {
            "bin_start": 1.7000000000000002,
            "bin_end": 1.8,
            "count": 0
           },
           {
            "bin_start": 1.8,
            "bin_end": 1.9,
            "count": 0
           },
           {
            "bin_start": 1.9,
            "bin_end": 2,
            "count": 1
           }
          ]
         }
        },
        {
         "name": "pdaystillnow",
         "dtype": "int64",
         "stats": {
          "unique_count": 1,
          "nan_count": 0,
          "min": "-1",
          "max": "-1",
          "histogram": [
           {
            "bin_start": -1.5,
            "bin_end": -1.4,
            "count": 0
           },
           {
            "bin_start": -1.4,
            "bin_end": -1.3,
            "count": 0
           },
           {
            "bin_start": -1.3,
            "bin_end": -1.2,
            "count": 0
           },
           {
            "bin_start": -1.2,
            "bin_end": -1.1,
            "count": 0
           },
           {
            "bin_start": -1.1,
            "bin_end": -1,
            "count": 0
           },
           {
            "bin_start": -1,
            "bin_end": -0.8999999999999999,
            "count": 5
           },
           {
            "bin_start": -0.8999999999999999,
            "bin_end": -0.7999999999999999,
            "count": 0
           },
           {
            "bin_start": -0.7999999999999999,
            "bin_end": -0.7,
            "count": 0
           },
           {
            "bin_start": -0.7,
            "bin_end": -0.6,
            "count": 0
           },
           {
            "bin_start": -0.6,
            "bin_end": -0.5,
            "count": 0
           }
          ]
         }
        },
        {
         "name": "pnum_calls",
         "dtype": "int64",
         "stats": {
          "unique_count": 1,
          "nan_count": 0,
          "min": "0",
          "max": "0",
          "histogram": [
           {
            "bin_start": -0.5,
            "bin_end": -0.4,
            "count": 0
           },
           {
            "bin_start": -0.4,
            "bin_end": -0.3,
            "count": 0
           },
           {
            "bin_start": -0.3,
            "bin_end": -0.19999999999999996,
            "count": 0
           },
           {
            "bin_start": -0.19999999999999996,
            "bin_end": -0.09999999999999998,
            "count": 0
           },
           {
            "bin_start": -0.09999999999999998,
            "bin_end": 0,
            "count": 0
           },
           {
            "bin_start": 0,
            "bin_end": 0.10000000000000009,
            "count": 5
           },
           {
            "bin_start": 0.10000000000000009,
            "bin_end": 0.20000000000000007,
            "count": 0
           },
           {
            "bin_start": 0.20000000000000007,
            "bin_end": 0.30000000000000004,
            "count": 0
           },
           {
            "bin_start": 0.30000000000000004,
            "bin_end": 0.4,
            "count": 0
           },
           {
            "bin_start": 0.4,
            "bin_end": 0.5,
            "count": 0
           }
          ]
         }
        },
        {
         "name": "poutcome",
         "dtype": "object",
         "stats": {
          "unique_count": 1,
          "nan_count": 0,
          "categories": [
           {
            "name": "unknown",
            "count": 5
           }
          ]
         }
        },
        {
         "name": "y",
         "dtype": "int64",
         "stats": {
          "unique_count": 1,
          "nan_count": 0,
          "min": "1",
          "max": "1",
          "histogram": [
           {
            "bin_start": 0.5,
            "bin_end": 0.6,
            "count": 0
           },
           {
            "bin_start": 0.6,
            "bin_end": 0.7,
            "count": 0
           },
           {
            "bin_start": 0.7,
            "bin_end": 0.8,
            "count": 0
           },
           {
            "bin_start": 0.8,
            "bin_end": 0.9,
            "count": 0
           },
           {
            "bin_start": 0.9,
            "bin_end": 1,
            "count": 0
           },
           {
            "bin_start": 1,
            "bin_end": 1.1,
            "count": 5
           },
           {
            "bin_start": 1.1,
            "bin_end": 1.2000000000000002,
            "count": 0
           },
           {
            "bin_start": 1.2000000000000002,
            "bin_end": 1.3,
            "count": 0
           },
           {
            "bin_start": 1.3,
            "bin_end": 1.4,
            "count": 0
           },
           {
            "bin_start": 1.4,
            "bin_end": 1.5,
            "count": 0
           }
          ]
         }
        },
        {
         "name": "_deepnote_index_column",
         "dtype": "int64"
        }
       ],
       "rows_top": [
        {
         "age": 59,
         "age_group": "50-59",
         "job": "admin.",
         "marital": "married",
         "education": "secondary",
         "credit_default": 0,
         "balance": 2343,
         "balance_bin": "0-9999",
         "housing_loan": 1,
         "personal_loan": 0,
         "contact_means": "unknown",
         "day": 5,
         "month": "may",
         "duration": 1042,
         "no_of_calls": 1,
         "pdaystillnow": -1,
         "pnum_calls": 0,
         "poutcome": "unknown",
         "y": 1,
         "_deepnote_index_column": 83
        },
        {
         "age": 56,
         "age_group": "50-59",
         "job": "admin.",
         "marital": "married",
         "education": "secondary",
         "credit_default": 0,
         "balance": 45,
         "balance_bin": "0-9999",
         "housing_loan": 0,
         "personal_loan": 0,
         "contact_means": "unknown",
         "day": 5,
         "month": "may",
         "duration": 1467,
         "no_of_calls": 1,
         "pdaystillnow": -1,
         "pnum_calls": 0,
         "poutcome": "unknown",
         "y": 1,
         "_deepnote_index_column": 86
        },
        {
         "age": 41,
         "age_group": "40-49",
         "job": "technician",
         "marital": "married",
         "education": "secondary",
         "credit_default": 0,
         "balance": 1270,
         "balance_bin": "0-9999",
         "housing_loan": 1,
         "personal_loan": 0,
         "contact_means": "unknown",
         "day": 5,
         "month": "may",
         "duration": 1389,
         "no_of_calls": 1,
         "pdaystillnow": -1,
         "pnum_calls": 0,
         "poutcome": "unknown",
         "y": 1,
         "_deepnote_index_column": 87
        },
        {
         "age": 55,
         "age_group": "50-59",
         "job": "services",
         "marital": "married",
         "education": "secondary",
         "credit_default": 0,
         "balance": 2476,
         "balance_bin": "0-9999",
         "housing_loan": 1,
         "personal_loan": 0,
         "contact_means": "unknown",
         "day": 5,
         "month": "may",
         "duration": 579,
         "no_of_calls": 1,
         "pdaystillnow": -1,
         "pnum_calls": 0,
         "poutcome": "unknown",
         "y": 1,
         "_deepnote_index_column": 129
        },
        {
         "age": 54,
         "age_group": "50-59",
         "job": "admin.",
         "marital": "married",
         "education": "tertiary",
         "credit_default": 0,
         "balance": 184,
         "balance_bin": "0-9999",
         "housing_loan": 0,
         "personal_loan": 0,
         "contact_means": "unknown",
         "day": 5,
         "month": "may",
         "duration": 673,
         "no_of_calls": 2,
         "pdaystillnow": -1,
         "pnum_calls": 0,
         "poutcome": "unknown",
         "y": 1,
         "_deepnote_index_column": 168
        }
       ],
       "rows_bottom": null
      },
      "text/plain": "     age age_group         job  marital  education  credit_default  balance  \\\n83    59     50-59      admin.  married  secondary               0     2343   \n86    56     50-59      admin.  married  secondary               0       45   \n87    41     40-49  technician  married  secondary               0     1270   \n129   55     50-59    services  married  secondary               0     2476   \n168   54     50-59      admin.  married   tertiary               0      184   \n\n    balance_bin  housing_loan  personal_loan contact_means  day month  \\\n83       0-9999             1              0       unknown    5   may   \n86       0-9999             0              0       unknown    5   may   \n87       0-9999             1              0       unknown    5   may   \n129      0-9999             1              0       unknown    5   may   \n168      0-9999             0              0       unknown    5   may   \n\n     duration  no_of_calls  pdaystillnow  pnum_calls poutcome  y  \n83       1042            1            -1           0  unknown  1  \n86       1467            1            -1           0  unknown  1  \n87       1389            1            -1           0  unknown  1  \n129       579            1            -1           0  unknown  1  \n168       673            2            -1           0  unknown  1  ",
      "text/html": "<div>\n<style scoped>\n    .dataframe tbody tr th:only-of-type {\n        vertical-align: middle;\n    }\n\n    .dataframe tbody tr th {\n        vertical-align: top;\n    }\n\n    .dataframe thead th {\n        text-align: right;\n    }\n</style>\n<table border=\"1\" class=\"dataframe\">\n  <thead>\n    <tr style=\"text-align: right;\">\n      <th></th>\n      <th>age</th>\n      <th>age_group</th>\n      <th>job</th>\n      <th>marital</th>\n      <th>education</th>\n      <th>credit_default</th>\n      <th>balance</th>\n      <th>balance_bin</th>\n      <th>housing_loan</th>\n      <th>personal_loan</th>\n      <th>contact_means</th>\n      <th>day</th>\n      <th>month</th>\n      <th>duration</th>\n      <th>no_of_calls</th>\n      <th>pdaystillnow</th>\n      <th>pnum_calls</th>\n      <th>poutcome</th>\n      <th>y</th>\n    </tr>\n  </thead>\n  <tbody>\n    <tr>\n      <th>83</th>\n      <td>59</td>\n      <td>50-59</td>\n      <td>admin.</td>\n      <td>married</td>\n      <td>secondary</td>\n      <td>0</td>\n      <td>2343</td>\n      <td>0-9999</td>\n      <td>1</td>\n      <td>0</td>\n      <td>unknown</td>\n      <td>5</td>\n      <td>may</td>\n      <td>1042</td>\n      <td>1</td>\n      <td>-1</td>\n      <td>0</td>\n      <td>unknown</td>\n      <td>1</td>\n    </tr>\n    <tr>\n      <th>86</th>\n      <td>56</td>\n      <td>50-59</td>\n      <td>admin.</td>\n      <td>married</td>\n      <td>secondary</td>\n      <td>0</td>\n      <td>45</td>\n      <td>0-9999</td>\n      <td>0</td>\n      <td>0</td>\n      <td>unknown</td>\n      <td>5</td>\n      <td>may</td>\n      <td>1467</td>\n      <td>1</td>\n      <td>-1</td>\n      <td>0</td>\n      <td>unknown</td>\n      <td>1</td>\n    </tr>\n    <tr>\n      <th>87</th>\n      <td>41</td>\n      <td>40-49</td>\n      <td>technician</td>\n      <td>married</td>\n      <td>secondary</td>\n      <td>0</td>\n      <td>1270</td>\n      <td>0-9999</td>\n      <td>1</td>\n      <td>0</td>\n      <td>unknown</td>\n      <td>5</td>\n      <td>may</td>\n      <td>1389</td>\n      <td>1</td>\n      <td>-1</td>\n      <td>0</td>\n      <td>unknown</td>\n      <td>1</td>\n    </tr>\n    <tr>\n      <th>129</th>\n      <td>55</td>\n      <td>50-59</td>\n      <td>services</td>\n      <td>married</td>\n      <td>secondary</td>\n      <td>0</td>\n      <td>2476</td>\n      <td>0-9999</td>\n      <td>1</td>\n      <td>0</td>\n      <td>unknown</td>\n      <td>5</td>\n      <td>may</td>\n      <td>579</td>\n      <td>1</td>\n      <td>-1</td>\n      <td>0</td>\n      <td>unknown</td>\n      <td>1</td>\n    </tr>\n    <tr>\n      <th>168</th>\n      <td>54</td>\n      <td>50-59</td>\n      <td>admin.</td>\n      <td>married</td>\n      <td>tertiary</td>\n      <td>0</td>\n      <td>184</td>\n      <td>0-9999</td>\n      <td>0</td>\n      <td>0</td>\n      <td>unknown</td>\n      <td>5</td>\n      <td>may</td>\n      <td>673</td>\n      <td>2</td>\n      <td>-1</td>\n      <td>0</td>\n      <td>unknown</td>\n      <td>1</td>\n    </tr>\n  </tbody>\n</table>\n</div>"
     },
     "metadata": {}
    }
   ]
  },
  {
   "cell_type": "code",
   "metadata": {
    "tags": [],
    "cell_id": "00082-89b74f70-cf3c-4145-97a4-dc1dcbd92fe5",
    "deepnote_to_be_reexecuted": false,
    "source_hash": "f5edb5ee",
    "execution_start": 1636106417355,
    "execution_millis": 161,
    "deepnote_cell_type": "code"
   },
   "source": "said_yes[\"housing_loan\"].value_counts().plot(kind=\"bar\");",
   "execution_count": 52,
   "outputs": [
    {
     "data": {
      "text/plain": "<Figure size 432x288 with 1 Axes>",
      "image/png": "[encoded data removed]"
     },
     "metadata": {
      "needs_background": "light",
      "image/png": {
       "width": 381,
       "height": 247
      }
     },
     "output_type": "display_data"
    }
   ]
  },
  {
   "cell_type": "code",
   "metadata": {
    "tags": [],
    "cell_id": "00094-1abfb7bd-ae33-4b7d-be86-681f99e5b5e1",
    "deepnote_to_be_reexecuted": false,
    "source_hash": "b4b8cf0d",
    "execution_start": 1636106417521,
    "execution_millis": 299,
    "deepnote_cell_type": "code"
   },
   "source": "said_yes[\"housing_loan\"].value_counts(normalize=True).plot(kind=\"bar\");",
   "execution_count": 53,
   "outputs": [
    {
     "data": {
      "text/plain": "<Figure size 432x288 with 1 Axes>",
      "image/png": "[encoded data removed]"
     },
     "metadata": {
      "needs_background": "light",
      "image/png": {
       "width": 372,
       "height": 245
      }
     },
     "output_type": "display_data"
    }
   ]
  },
  {
   "cell_type": "markdown",
   "source": "Available data from the current campaign is consistent with the analysis in the previous campaign - those without a housing loan are much more likely to result in success.  \n\nHowever, the data from the current campaign also shows nearly 2,000 success cases (approximately 35%) among those with housing loan. This means that even though we should prioritise those without a housing loan, we should not exclude whose with a housing loan. ",
   "metadata": {
    "tags": [],
    "cell_id": "00094-4c96470f-5dbb-4e96-9d97-7c2c2e50e271",
    "deepnote_cell_type": "markdown"
   }
  },
  {
   "cell_type": "code",
   "metadata": {
    "tags": [],
    "cell_id": "00083-00c20952-46c5-415b-8760-032834213369",
    "deepnote_to_be_reexecuted": false,
    "source_hash": "59668751",
    "execution_start": 1636106417718,
    "execution_millis": 218,
    "deepnote_cell_type": "code"
   },
   "source": "said_yes[\"age_group\"].value_counts().plot(kind=\"bar\")",
   "execution_count": 54,
   "outputs": [
    {
     "output_type": "execute_result",
     "execution_count": 54,
     "data": {
      "text/plain": "<AxesSubplot:>"
     },
     "metadata": {}
    },
    {
     "data": {
      "text/plain": "<Figure size 432x288 with 1 Axes>",
      "image/png": "[encoded data removed]"
     },
     "metadata": {
      "needs_background": "light",
      "image/png": {
       "width": 381,
       "height": 270
      }
     },
     "output_type": "display_data"
    }
   ]
  },
  {
   "cell_type": "markdown",
   "source": "Analysis based on customers that have said yes in the current campaign show high number of success cases among 30-39, 40-49, 20-29, and 50-59 age groups - seemingly the opposite of the analysis of the previous campaign data. \n\nHowever, from the initial review, we already know that these age groups also represent a much larger proportion of customers, meaning that it is logical to expect these age groups to show higher raw number of success cases. These raw numbers do not speak much to the success \"rate\", which affect the amount of effort (possibly quantified by call duration) required to convert them into success cases.\n\nIf we rely on the previous campaign analysis, we should still prioritise the retired age group. After that, we could then work on 30-39, 40-49, 20-29, and 50-59 age groups. And this should result in higher yield in the end within the limited campaign time. \n\nNote that we cannot yet caluclate the proportion of success/failure among age groups or other variables because the current campaign has not ended.",
   "metadata": {
    "tags": [],
    "cell_id": "00097-c574bb1c-9778-41a8-8ff2-daff691e4e3e",
    "deepnote_cell_type": "markdown"
   }
  },
  {
   "cell_type": "code",
   "metadata": {
    "tags": [],
    "cell_id": "00105-bc7ec708-cb2e-49f3-88a6-b74da56b03af",
    "deepnote_to_be_reexecuted": false,
    "source_hash": "f1014df4",
    "execution_start": 1636106417984,
    "execution_millis": 3,
    "deepnote_cell_type": "code"
   },
   "source": "pd.crosstab(data.job,data.y)\n",
   "execution_count": 55,
   "outputs": [
    {
     "output_type": "execute_result",
     "execution_count": 55,
     "data": {
      "application/vnd.deepnote.dataframe.v2+json": {
       "row_count": 12,
       "column_count": 2,
       "columns": [
        {
         "name": 0,
         "dtype": "int64",
         "stats": {
          "unique_count": 12,
          "nan_count": 0,
          "min": "254",
          "max": "9024",
          "histogram": [
           {
            "bin_start": 254,
            "bin_end": 1131,
            "count": 3
           },
           {
            "bin_start": 1131,
            "bin_end": 2008,
            "count": 4
           },
           {
            "bin_start": 2008,
            "bin_end": 2885,
            "count": 0
           },
           {
            "bin_start": 2885,
            "bin_end": 3762,
            "count": 0
           },
           {
            "bin_start": 3762,
            "bin_end": 4639,
            "count": 2
           },
           {
            "bin_start": 4639,
            "bin_end": 5516,
            "count": 0
           },
           {
            "bin_start": 5516,
            "bin_end": 6393,
            "count": 0
           },
           {
            "bin_start": 6393,
            "bin_end": 7270,
            "count": 1
           },
           {
            "bin_start": 7270,
            "bin_end": 8147,
            "count": 0
           },
           {
            "bin_start": 8147,
            "bin_end": 9024,
            "count": 2
           }
          ]
         }
        },
        {
         "name": 1,
         "dtype": "int64",
         "stats": {
          "unique_count": 12,
          "nan_count": 0,
          "min": "34",
          "max": "1301",
          "histogram": [
           {
            "bin_start": 34,
            "bin_end": 160.7,
            "count": 3
           },
           {
            "bin_start": 160.7,
            "bin_end": 287.4,
            "count": 3
           },
           {
            "bin_start": 287.4,
            "bin_end": 414.1,
            "count": 1
           },
           {
            "bin_start": 414.1,
            "bin_end": 540.8,
            "count": 1
           },
           {
            "bin_start": 540.8,
            "bin_end": 667.5,
            "count": 1
           },
           {
            "bin_start": 667.5,
            "bin_end": 794.2,
            "count": 1
           },
           {
            "bin_start": 794.2,
            "bin_end": 920.9,
            "count": 1
           },
           {
            "bin_start": 920.9,
            "bin_end": 1047.6,
            "count": 0
           },
           {
            "bin_start": 1047.6,
            "bin_end": 1174.3,
            "count": 0
           },
           {
            "bin_start": 1174.3,
            "bin_end": 1301,
            "count": 1
           }
          ]
         }
        },
        {
         "name": "_deepnote_index_column",
         "dtype": "object"
        }
       ],
       "rows_top": [
        {
         "0": 4540,
         "1": 631,
         "_deepnote_index_column": "admin."
        },
        {
         "0": 9024,
         "1": 708,
         "_deepnote_index_column": "blue-collar"
        },
        {
         "0": 1364,
         "1": 123,
         "_deepnote_index_column": "entrepreneur"
        },
        {
         "0": 1131,
         "1": 109,
         "_deepnote_index_column": "housemaid"
        },
        {
         "0": 8157,
         "1": 1301,
         "_deepnote_index_column": "management"
        },
        {
         "0": 1748,
         "1": 516,
         "_deepnote_index_column": "retired"
        },
        {
         "0": 1392,
         "1": 187,
         "_deepnote_index_column": "self-employed"
        },
        {
         "0": 3785,
         "1": 369,
         "_deepnote_index_column": "services"
        },
        {
         "0": 669,
         "1": 269,
         "_deepnote_index_column": "student"
        },
        {
         "0": 6757,
         "1": 840,
         "_deepnote_index_column": "technician"
        },
        {
         "0": 1101,
         "1": 202,
         "_deepnote_index_column": "unemployed"
        },
        {
         "0": 254,
         "1": 34,
         "_deepnote_index_column": "unknown"
        }
       ],
       "rows_bottom": null
      },
      "text/plain": "y                 0     1\njob                      \nadmin.         4540   631\nblue-collar    9024   708\nentrepreneur   1364   123\nhousemaid      1131   109\nmanagement     8157  1301\nretired        1748   516\nself-employed  1392   187\nservices       3785   369\nstudent         669   269\ntechnician     6757   840\nunemployed     1101   202\nunknown         254    34",
      "text/html": "<div>\n<style scoped>\n    .dataframe tbody tr th:only-of-type {\n        vertical-align: middle;\n    }\n\n    .dataframe tbody tr th {\n        vertical-align: top;\n    }\n\n    .dataframe thead th {\n        text-align: right;\n    }\n</style>\n<table border=\"1\" class=\"dataframe\">\n  <thead>\n    <tr style=\"text-align: right;\">\n      <th>y</th>\n      <th>0</th>\n      <th>1</th>\n    </tr>\n    <tr>\n      <th>job</th>\n      <th></th>\n      <th></th>\n    </tr>\n  </thead>\n  <tbody>\n    <tr>\n      <th>admin.</th>\n      <td>4540</td>\n      <td>631</td>\n    </tr>\n    <tr>\n      <th>blue-collar</th>\n      <td>9024</td>\n      <td>708</td>\n    </tr>\n    <tr>\n      <th>entrepreneur</th>\n      <td>1364</td>\n      <td>123</td>\n    </tr>\n    <tr>\n      <th>housemaid</th>\n      <td>1131</td>\n      <td>109</td>\n    </tr>\n    <tr>\n      <th>management</th>\n      <td>8157</td>\n      <td>1301</td>\n    </tr>\n    <tr>\n      <th>retired</th>\n      <td>1748</td>\n      <td>516</td>\n    </tr>\n    <tr>\n      <th>self-employed</th>\n      <td>1392</td>\n      <td>187</td>\n    </tr>\n    <tr>\n      <th>services</th>\n      <td>3785</td>\n      <td>369</td>\n    </tr>\n    <tr>\n      <th>student</th>\n      <td>669</td>\n      <td>269</td>\n    </tr>\n    <tr>\n      <th>technician</th>\n      <td>6757</td>\n      <td>840</td>\n    </tr>\n    <tr>\n      <th>unemployed</th>\n      <td>1101</td>\n      <td>202</td>\n    </tr>\n    <tr>\n      <th>unknown</th>\n      <td>254</td>\n      <td>34</td>\n    </tr>\n  </tbody>\n</table>\n</div>"
     },
     "metadata": {}
    }
   ]
  },
  {
   "cell_type": "code",
   "metadata": {
    "tags": [],
    "cell_id": "00084-da812747-73ba-4d68-a8a1-442e308c6d7e",
    "deepnote_to_be_reexecuted": false,
    "source_hash": "77fffda",
    "execution_start": 1636106418027,
    "execution_millis": 222,
    "deepnote_cell_type": "code"
   },
   "source": "said_yes[\"job\"].value_counts().plot(kind=\"bar\")",
   "execution_count": 56,
   "outputs": [
    {
     "output_type": "execute_result",
     "execution_count": 56,
     "data": {
      "text/plain": "<AxesSubplot:>"
     },
     "metadata": {}
    },
    {
     "data": {
      "text/plain": "<Figure size 432x288 with 1 Axes>",
      "image/png": "[encoded data removed]"
     },
     "metadata": {
      "needs_background": "light",
      "image/png": {
       "width": 381,
       "height": 309
      }
     },
     "output_type": "display_data"
    }
   ]
  },
  {
   "cell_type": "markdown",
   "source": "As with age_group analysis, the result of the analysis of the current campaign data based on job seems to show opposite of the analysis of the previous campaign data. High number of customers that have said yes in the current campaign are in the following professions: management, technician, blue-collar, and admin, none of which appears as top success predictor based on the old campaign data.\n\nHowever, from the initial review, we already know that these job groups also represent a much larger proportion of customers, meaning that it is logical to expect these job groups to show higher raw number of success cases as well. These raw numbers do not speak much to the success \"rate\", which affect the amount of effort (possibly quantified by call duration) required to convert them into success cases.\n\nIf we rely on the previous campaign analysis, we should still prioritise these groups: retired, students, unemployed, and unknown. After that, we could then work on management, technician, blue-collar, and admin groups. And this should result in higher yield in the end within the limited campaign time.\n\nNote that we cannot yet caluclate the proportion of success/failure among job groups or other variables because the current campaign has not ended.",
   "metadata": {
    "tags": [],
    "cell_id": "00085-d079a994-6cbc-4f72-9a07-9e94fcfc4193",
    "deepnote_cell_type": "markdown"
   }
  },
  {
   "cell_type": "code",
   "metadata": {
    "tags": [],
    "cell_id": "00085-46db2cda-ae20-4118-aee5-3a7bd02867f5",
    "deepnote_to_be_reexecuted": false,
    "source_hash": "dff818de",
    "execution_start": 1636106418295,
    "execution_millis": 2211,
    "deepnote_cell_type": "code"
   },
   "source": "said_yes[['age_group','balance_bin']].value_counts().plot(kind='bar',figsize=(12,8))",
   "execution_count": 57,
   "outputs": [
    {
     "output_type": "execute_result",
     "execution_count": 57,
     "data": {
      "text/plain": "<AxesSubplot:xlabel='age_group,balance_bin'>"
     },
     "metadata": {}
    },
    {
     "data": {
      "text/plain": "<Figure size 864x576 with 1 Axes>",
      "image/png": "[encoded data removed]"
     },
     "metadata": {
      "needs_background": "light",
      "image/png": {
       "width": 716,
       "height": 581
      }
     },
     "output_type": "display_data"
    }
   ]
  },
  {
   "cell_type": "code",
   "metadata": {
    "tags": [],
    "cell_id": "00085-900017ae-b351-4cfe-a69a-5146939673d3",
    "deepnote_to_be_reexecuted": false,
    "source_hash": "b623e53d",
    "execution_start": 1636106418862,
    "execution_millis": 1,
    "deepnote_cell_type": "code"
   },
   "source": "",
   "execution_count": 57,
   "outputs": []
  },
  {
   "cell_type": "markdown",
   "source": "#### B. Analysis of call data in this campaign that was not available in previous campaign",
   "metadata": {
    "tags": [],
    "cell_id": "00083-f6d5630d-5078-4b4f-876b-bd9e4927c442",
    "deepnote_cell_type": "markdown"
   }
  },
  {
   "cell_type": "code",
   "metadata": {
    "tags": [],
    "cell_id": "00086-bd87f0c4-ead7-4b3d-b61c-c3393177ffe2",
    "deepnote_to_be_reexecuted": false,
    "source_hash": "516a3303",
    "execution_start": 1636106418863,
    "execution_millis": 0,
    "deepnote_cell_type": "code"
   },
   "source": "said_yes['duration'].min()",
   "execution_count": 58,
   "outputs": [
    {
     "output_type": "execute_result",
     "execution_count": 58,
     "data": {
      "text/plain": "8"
     },
     "metadata": {}
    }
   ]
  },
  {
   "cell_type": "code",
   "metadata": {
    "tags": [],
    "cell_id": "00087-0bc07c65-0dfe-4214-be95-8c36544102c2",
    "deepnote_to_be_reexecuted": false,
    "source_hash": "7eb584ac",
    "execution_start": 1636106418864,
    "execution_millis": 1664,
    "deepnote_cell_type": "code"
   },
   "source": "said_yes[['duration','no_of_calls']].mean()",
   "execution_count": 59,
   "outputs": [
    {
     "output_type": "execute_result",
     "execution_count": 59,
     "data": {
      "text/plain": "duration       537.294574\nno_of_calls      2.141047\ndtype: float64"
     },
     "metadata": {}
    }
   ]
  },
  {
   "cell_type": "code",
   "metadata": {
    "tags": [],
    "cell_id": "00102-a6eca4ee-7600-448d-ae9c-a8127fc19eda",
    "deepnote_to_be_reexecuted": false,
    "source_hash": "58a269a1",
    "execution_start": 1636106418915,
    "execution_millis": 1613,
    "deepnote_cell_type": "code"
   },
   "source": "pcampaign_data[\"poutcome\"].value_counts(normalize=True)",
   "execution_count": 60,
   "outputs": [
    {
     "output_type": "execute_result",
     "execution_count": 60,
     "data": {
      "text/plain": "failure    0.764348\nsuccess    0.235652\nName: poutcome, dtype: float64"
     },
     "metadata": {}
    }
   ]
  },
  {
   "cell_type": "markdown",
   "source": "Among those who have said yes in the current campaign, the average number of calls and the duration of each call are 2 calls lasting approximately 537 seconds (or 9 minutes) in each call.  This means that about 18 minutes are required for each success case.  If we rely on the previous campaign overall success rate (0.235), then approximately 76.6 minutes are actually required for one success case (including time spent on failure cases).  \n\nIf we know the number of employees in the marketing department available to make calls for the current campaign and the numer of work hours, we could estimate whether the marketing department would need to hire any temp employees to complete the campaign.  \n\nNote that if we better prioritise marketing effort on groups that are likely to be converted into sccuess, then the average 76.6 minutes required for one success case could be significantly reduced.",
   "metadata": {
    "tags": [],
    "cell_id": "00111-8e0a85d0-02b4-43b7-99c9-a76fcf5c23d3",
    "deepnote_cell_type": "markdown"
   }
  },
  {
   "cell_type": "code",
   "metadata": {
    "tags": [],
    "cell_id": "00088-a8081841-9e64-47b8-b692-74f651228234",
    "deepnote_to_be_reexecuted": false,
    "source_hash": "69abf91",
    "execution_start": 1636106418916,
    "execution_millis": 1664,
    "deepnote_cell_type": "code"
   },
   "source": "said_yes['month'].value_counts().plot(kind='bar')",
   "execution_count": 61,
   "outputs": [
    {
     "output_type": "execute_result",
     "execution_count": 61,
     "data": {
      "text/plain": "<AxesSubplot:>"
     },
     "metadata": {}
    },
    {
     "data": {
      "text/plain": "<Figure size 432x288 with 1 Axes>",
      "image/png": "[encoded data removed]"
     },
     "metadata": {
      "needs_background": "light",
      "image/png": {
       "width": 375,
       "height": 260
      }
     },
     "output_type": "display_data"
    }
   ]
  },
  {
   "cell_type": "code",
   "metadata": {
    "tags": [],
    "cell_id": "00083-0a515499-c123-4141-915d-87115584716d",
    "deepnote_to_be_reexecuted": false,
    "source_hash": "8a716a0f",
    "execution_start": 1636106419135,
    "execution_millis": 1445,
    "deepnote_cell_type": "code"
   },
   "source": "said_yes['day'].value_counts().plot(kind='bar')",
   "execution_count": 62,
   "outputs": [
    {
     "output_type": "execute_result",
     "execution_count": 62,
     "data": {
      "text/plain": "<AxesSubplot:>"
     },
     "metadata": {}
    },
    {
     "data": {
      "text/plain": "<Figure size 432x288 with 1 Axes>",
      "image/png": "[encoded data removed]"
     },
     "metadata": {
      "needs_background": "light",
      "image/png": {
       "width": 375,
       "height": 251
      }
     },
     "output_type": "display_data"
    }
   ]
  },
  {
   "cell_type": "markdown",
   "source": "Timing seems to play a role in converting customers to a yes in the current campaign. Summer months are yielding more success cases than the non-summer months.\n\nNo particular duration of a month seems to matter as the dates with high number of success cases seem to jump from end of the month to the middle to the beginning of the month.\n\nTherefore, more call efforts should be made during the summer months to yield higher success rate.",
   "metadata": {
    "tags": [],
    "cell_id": "00045-0c94f7da-374b-4f0d-a147-995841b80684",
    "deepnote_cell_type": "markdown"
   }
  },
  {
   "cell_type": "markdown",
   "source": "# Conclusion\n\n1. These groups of customers should be prioritised in order to yield higher success rate:\n    - By age group: 60 and over\n    - By job: retired, students, unemployed, unknown\n    - By housing loan: those without housing loan\n\n2. These groups make up second priority and should not be excluded because they yield significant number of success nonetheless and they also make up a significant proportion of bank customers:\n    - By age group: 30-39\n    - By job: management and blue-collar\n    - By housing loan: those with housing loan\n\n3. The months that yield higher number of success in the current campaign are the summer months.  Therefore, more calls should be made during summer.\n\n4. Each successful conversion requires approximately two calls lasting 9 minutes each.  However, one successful conversion also requires certain amount of time with failure cases.  Therefore one successful conversion actually requires 76.6 minutes in total. This amount of time could be reduced if we better prioritise our effort on the groups are most likely to yield success.",
   "metadata": {
    "tags": [],
    "cell_id": "00106-30368b20-3c81-4961-840a-817928f24755",
    "deepnote_cell_type": "markdown"
   }
  },
  {
   "cell_type": "markdown",
   "source": "<a style='text-decoration:none;line-height:16px;display:flex;color:#5B5B62;padding:10px;justify-content:end;' href='https://deepnote.com?utm_source=created-in-deepnote-cell&projectId=4438a587-cfac-4a8e-9b01-908e88508640' target=\"_blank\">\n<img alt='Created in deepnote.com' style='display:inline;max-height:16px;margin:0px;margin-right:7.5px;' src='data:image/svg+xml;base64,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' > </img>\nCreated in <span style='font-weight:600;margin-left:4px;'>Deepnote</span></a>",
   "metadata": {
    "tags": [],
    "created_in_deepnote_cell": true,
    "deepnote_cell_type": "markdown"
   }
  }
 ],
 "nbformat": 4,
 "nbformat_minor": 2,
 "metadata": {
  "orig_nbformat": 2,
  "deepnote": {
   "is_reactive": false
  },
  "deepnote_notebook_id": "b694ca24-3171-475d-bfa4-c44b98fffe44",
  "deepnote_execution_queue": []
 }
}